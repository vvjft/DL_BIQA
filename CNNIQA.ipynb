{
  "nbformat": 4,
  "nbformat_minor": 0,
  "metadata": {
    "colab": {
      "provenance": [],
      "machine_shape": "hm",
      "authorship_tag": "ABX9TyNdpTRl8Dffa5ZeZiIbiR4U",
      "include_colab_link": true
    },
    "kernelspec": {
      "name": "python3",
      "display_name": "Python 3"
    },
    "language_info": {
      "name": "python"
    }
  },
  "cells": [
    {
      "cell_type": "markdown",
      "metadata": {
        "id": "view-in-github",
        "colab_type": "text"
      },
      "source": [
        "<a href=\"https://colab.research.google.com/github/vvjft/DL_BIQA/blob/main/CNNIQA.ipynb\" target=\"_parent\"><img src=\"https://colab.research.google.com/assets/colab-badge.svg\" alt=\"Open In Colab\"/></a>"
      ]
    },
    {
      "cell_type": "markdown",
      "source": [
        "##Dependencies"
      ],
      "metadata": {
        "id": "VRPrxsbCsDWZ"
      }
    },
    {
      "cell_type": "code",
      "execution_count": 1,
      "metadata": {
        "id": "n5adwOYcqrS3",
        "colab": {
          "base_uri": "https://localhost:8080/"
        },
        "outputId": "638ffbb0-393f-438f-808c-57945fb11cae"
      },
      "outputs": [
        {
          "output_type": "stream",
          "name": "stdout",
          "text": [
            "Reading package lists... Done\n",
            "Building dependency tree... Done\n",
            "Reading state information... Done\n",
            "unrar is already the newest version (1:6.1.5-1).\n",
            "0 upgraded, 0 newly installed, 0 to remove and 45 not upgraded.\n"
          ]
        }
      ],
      "source": [
        "import tensorflow as tf\n",
        "import numpy as np\n",
        "import scipy\n",
        "import pandas as pd\n",
        "import os\n",
        "import matplotlib.pyplot as plt\n",
        "import seaborn as sns\n",
        "import cv2\n",
        "\n",
        "!apt-get install unrar"
      ]
    },
    {
      "cell_type": "markdown",
      "source": [
        "### Download and extract dataset"
      ],
      "metadata": {
        "id": "EAyOHVzksLdr"
      }
    },
    {
      "cell_type": "code",
      "source": [
        "!wget https://www.ponomarenko.info/tid2013/tid2013.rar # tid2013\n"
      ],
      "metadata": {
        "collapsed": true,
        "id": "8D30b-aernpn",
        "colab": {
          "base_uri": "https://localhost:8080/"
        },
        "outputId": "1d71efcf-0fb7-4ab1-f857-0e98ed2070ea"
      },
      "execution_count": 2,
      "outputs": [
        {
          "output_type": "stream",
          "name": "stdout",
          "text": [
            "--2024-05-31 12:31:58--  https://www.ponomarenko.info/tid2013/tid2013.rar\n",
            "Resolving www.ponomarenko.info (www.ponomarenko.info)... 77.37.53.40, 2a02:4780:24:2ea0:9c5a:2d2b:b311:605f\n",
            "Connecting to www.ponomarenko.info (www.ponomarenko.info)|77.37.53.40|:443... connected.\n",
            "HTTP request sent, awaiting response... 200 OK\n",
            "Length: 957680241 (913M) [application/x-rar-compressed]\n",
            "Saving to: ‘tid2013.rar’\n",
            "\n",
            "tid2013.rar         100%[===================>] 913.31M   226MB/s    in 4.0s    \n",
            "\n",
            "2024-05-31 12:32:02 (228 MB/s) - ‘tid2013.rar’ saved [957680241/957680241]\n",
            "\n"
          ]
        }
      ]
    },
    {
      "cell_type": "code",
      "source": [
        "!mkdir -p '/content/tid2013'\n",
        "!unrar x -inul '/content/tid2013.rar' '/content/tid2013'\n",
        "!rm '/content/tid2013.rar'\n",
        "!rm -r '/content/tid2013/metrics_values'\n",
        "!rm -r '/content/tid2013/papers'\n",
        "!rm '/content/tid2013/readme'\n",
        "!rm -r '/content/sample_data'"
      ],
      "metadata": {
        "id": "bVU2r4DRsoKF",
        "collapsed": true
      },
      "execution_count": 3,
      "outputs": []
    },
    {
      "cell_type": "markdown",
      "source": [
        "Reset directory if needed"
      ],
      "metadata": {
        "id": "QHlo-4qMdRSm"
      }
    },
    {
      "cell_type": "code",
      "source": [
        "#!rm -r '/content/tid2013/normalized_distorted_images/training'\n",
        "#!rm -r '/content/tid2013/patch_mos_with_names.csv'"
      ],
      "metadata": {
        "id": "-OEtoDjh0oBh"
      },
      "execution_count": 26,
      "outputs": []
    },
    {
      "cell_type": "markdown",
      "source": [
        "##Preprocessing"
      ],
      "metadata": {
        "id": "vs7fpMeDsN-W"
      }
    },
    {
      "cell_type": "markdown",
      "source": [
        "#### Normalization and patch-slicing"
      ],
      "metadata": {
        "id": "YqXAjZnncz7t"
      }
    },
    {
      "cell_type": "markdown",
      "source": [
        "##### Normalize"
      ],
      "metadata": {
        "id": "p0CPxppSxUOU"
      }
    },
    {
      "cell_type": "code",
      "source": [
        "from scipy.signal import convolve2d\n",
        "from scipy.ndimage import convolve\n",
        "\n",
        "def my_normalize(image, kernel_size=3, C=1):\n",
        "    kernel = np.ones((kernel_size, kernel_size), dtype=np.float32)\n",
        "    pad_size = kernel_size // 2\n",
        "    sum_image = convolve(image, kernel, mode='constant', cval=0)\n",
        "    std_image = np.zeros_like(image, dtype=np.float32)\n",
        "\n",
        "    def get_window_sum(i, j):\n",
        "        i_min, i_max = max(i - pad_size, 0), min(i + pad_size + 1, image.shape[0])\n",
        "        j_min, j_max = max(j - pad_size, 0), min(j + pad_size + 1, image.shape[1])\n",
        "        window = (image[i_min:i_max, j_min:j_max] - sum_image[i, j])**2\n",
        "        return np.sqrt(np.sum(window * kernel[0:(i_max - i_min), 0:(j_max - j_min)]))\n",
        "\n",
        "    for i in range(image.shape[0]):\n",
        "        for j in range(image.shape[1]):\n",
        "            std_image[i, j] = get_window_sum(i, j)\n",
        "\n",
        "    normalized_image = (image-sum_image)/(std_image+C)\n",
        "    return normalized_image\n",
        "\n",
        "def simple_normalize(image):\n",
        "    image = image.astype('float32')\n",
        "    mean = np.mean(image, axis=(0, 1, 2), keepdims=True)\n",
        "    std = np.std(image, axis=(0, 1, 2), keepdims=True)\n",
        "    return (image - mean) / (std + 1e-7)\n",
        "\n",
        "def liqd92_normalize(patch, P=3, Q=3, C=1):\n",
        "    kernel = np.ones((P, Q)) / (P * Q)\n",
        "    patch_mean = convolve2d(patch, kernel, boundary='symm', mode='same')\n",
        "    patch_sm = convolve2d(np.square(patch), kernel, boundary='symm', mode='same')\n",
        "    patch_std = np.sqrt(np.maximum(patch_sm - np.square(patch_mean), 0)) + C\n",
        "    patch_ln = (patch - patch_mean) / patch_std\n",
        "    return patch_ln.astype('float32')"
      ],
      "metadata": {
        "id": "eX-E0NEweTpA"
      },
      "execution_count": 4,
      "outputs": []
    },
    {
      "cell_type": "code",
      "source": [
        "from sklearn.model_selection import train_test_split\n",
        "\n",
        "def load_data(base_dir):\n",
        "    data_path = os.path.join(base_dir, 'mos_with_names.txt')\n",
        "    data = pd.read_csv(data_path, header=None, delimiter=' ')\n",
        "    distortion_types = [1, 8, 10, 11] # filter distortions: wn, blur, jpeg and jp2k\n",
        "    filtered_data = data[data[1].apply(lambda x: int(x.split('_')[1]) in distortion_types)]\n",
        "    filtered_data.columns = ['MOS', 'image_filename']\n",
        "    return filtered_data\n",
        "\n",
        "def split_data(data):\n",
        "    train_data, test_data = train_test_split(data, test_size=0.2, random_state=42)\n",
        "    train_data, val_data = train_test_split(train_data, test_size=0.25, random_state=42)\n",
        "    return train_data, val_data, test_data\n",
        "\n",
        "# Załaduj dane i podziel je\n",
        "base_dir = 'tid2013'\n",
        "data = load_data(base_dir)\n",
        "train_data, val_data, test_data = split_data(data)"
      ],
      "metadata": {
        "id": "p0mKJcdDHQAI"
      },
      "execution_count": 5,
      "outputs": []
    },
    {
      "cell_type": "markdown",
      "source": [
        "##### Divide"
      ],
      "metadata": {
        "id": "NmPjGksxxYaY"
      }
    },
    {
      "cell_type": "code",
      "source": [
        "sets = {'train': [train_data, 'training'], 'val':[val_data, 'validation'], 'test':[test_data, 'test']}\n",
        "input_dir = 'tid2013/distorted_images/'\n",
        "\n",
        "for key, (data, name) in sets.items():\n",
        "\n",
        "  output_dir_full = f'tid2013/normalized_distorted_images/{name}/full/' # where to store normalized distorted images\n",
        "  output_dir_patches = f'tid2013/normalized_distorted_images/{name}/patches/' # where to store patches\n",
        "  norm_file_info_path = f'tid2013/normalized_distorted_images/{name}/norm_{name}.csv'\n",
        "  patch_file_info_path = f'tid2013/normalized_distorted_images/{name}/patch_{name}.csv'\n",
        "  os.makedirs(output_dir_full, exist_ok=True)\n",
        "  os.makedirs(output_dir_patches, exist_ok=True)\n",
        "\n",
        "  norm_info_list = []\n",
        "  patch_info_list = []\n",
        "  for index, row in data.iterrows():\n",
        "      mos_value = row[0]\n",
        "      image_filename = row[1]\n",
        "      image_path = input_dir + image_filename\n",
        "      image = cv2.imread(image_path)\n",
        "      if image is None:\n",
        "          print(f\"Failed to load image: {image_filename}\")\n",
        "          continue\n",
        "      # Normalize the image\n",
        "      image_gray = cv2.cvtColor(image, cv2.COLOR_BGR2GRAY)\n",
        "      image_normalized = liqd92_normalize(image_gray)\n",
        "      image_normalized = cv2.cvtColor(image_normalized, cv2.COLOR_GRAY2BGR)\n",
        "      # Save\n",
        "      image_filename = \"NORM_\"+image_filename\n",
        "      norm_info_list.append([image_filename, mos_value])\n",
        "      cv2.imwrite(output_dir_full+image_filename, image_normalized)\n",
        "      # Slice to patches\n",
        "      height, width = image_normalized.shape[:2]\n",
        "      patch_size = 32\n",
        "      num_patches_y = height // patch_size\n",
        "      num_patches_x = width // patch_size\n",
        "      patch_count = 0\n",
        "      for i in range(num_patches_y):\n",
        "          for j in range(num_patches_x):\n",
        "              patch = image_normalized[i*patch_size:(i+1)*patch_size, j*patch_size:(j+1)*patch_size]\n",
        "              patch_path = os.path.join(output_dir_patches, f\"{os.path.splitext(image_filename)[0]}_patch_{patch_count}.bmp\")\n",
        "              patch_filename = f\"{os.path.splitext(image_filename)[0]}_patch_{patch_count}.bmp\"\n",
        "              cv2.imwrite(patch_path, patch)\n",
        "\n",
        "              # Add patch info to the list\n",
        "              patch_info_list.append([patch_filename, mos_value])\n",
        "              patch_count += 1\n",
        "\n",
        "  norm_info_df = pd.DataFrame(norm_info_list, columns=['image_path', 'MOS'])\n",
        "  norm_info_df.to_csv(norm_file_info_path, index=False)\n",
        "  print(f\"Saved full normalized distorted image information to {patch_file_info_path}.\")\n",
        "  patch_info_df = pd.DataFrame(patch_info_list, columns=['image_path', 'MOS'])\n",
        "  patch_info_df.to_csv(patch_file_info_path, index=False)\n",
        "  print(f\"Saved patch information to {patch_file_info_path}.\")\n"
      ],
      "metadata": {
        "colab": {
          "base_uri": "https://localhost:8080/"
        },
        "id": "HORzxa5RLJQV",
        "outputId": "6e26a6e3-bfc2-410a-f9e0-ff7dec1bbe9b"
      },
      "execution_count": 6,
      "outputs": [
        {
          "output_type": "stream",
          "name": "stdout",
          "text": [
            "Saved full normalized distorted image information to tid2013/normalized_distorted_images/training/patch_training.csv.\n",
            "Saved patch information to tid2013/normalized_distorted_images/training/patch_training.csv.\n",
            "Saved full normalized distorted image information to tid2013/normalized_distorted_images/validation/patch_validation.csv.\n",
            "Saved patch information to tid2013/normalized_distorted_images/validation/patch_validation.csv.\n",
            "Saved full normalized distorted image information to tid2013/normalized_distorted_images/test/patch_test.csv.\n",
            "Saved patch information to tid2013/normalized_distorted_images/test/patch_test.csv.\n"
          ]
        }
      ]
    },
    {
      "cell_type": "code",
      "source": [
        "# Paths to the CSV files\n",
        "norm_training_csv = 'tid2013/normalized_distorted_images/training/norm_training.csv'\n",
        "norm_validation_csv = 'tid2013/normalized_distorted_images/validation/norm_validation.csv'\n",
        "norm_test_csv = 'tid2013/normalized_distorted_images/test/norm_test.csv'\n",
        "\n",
        "# Read the CSV files\n",
        "norm_training_df = pd.read_csv(norm_training_csv)\n",
        "norm_validation_df = pd.read_csv(norm_validation_csv)\n",
        "norm_test_df = pd.read_csv(norm_test_csv)\n",
        "\n",
        "# Extract the lists of filenames\n",
        "training_files = set(norm_training_df['image_path'])\n",
        "validation_files = set(norm_validation_df['image_path'])\n",
        "test_files = set(norm_test_df['image_path'])\n",
        "\n",
        "# Check for common files\n",
        "common_training_validation = training_files.intersection(validation_files)\n",
        "common_training_test = training_files.intersection(test_files)\n",
        "common_validation_test = validation_files.intersection(test_files)\n",
        "\n",
        "# Print the results\n",
        "if not common_training_validation and not common_training_test and not common_validation_test:\n",
        "    print(\"There are no common files between norm_training, norm_validation, and norm_test.\")\n",
        "else:\n",
        "    if common_training_validation:\n",
        "        print(f\"Common files between training and validation: {common_training_validation}\")\n",
        "    if common_training_test:\n",
        "        print(f\"Common files between training and test: {common_training_test}\")\n",
        "    if common_validation_test:\n",
        "        print(f\"Common files between validation and test: {common_validation_test}\")\n"
      ],
      "metadata": {
        "colab": {
          "base_uri": "https://localhost:8080/"
        },
        "id": "AraumYdUj_Ls",
        "outputId": "9d25b2f4-1a9a-48ee-ede8-1bda446ba83c"
      },
      "execution_count": 7,
      "outputs": [
        {
          "output_type": "stream",
          "name": "stdout",
          "text": [
            "There are no common files between norm_training, norm_validation, and norm_test.\n"
          ]
        }
      ]
    },
    {
      "cell_type": "code",
      "source": [
        "'''\n",
        " to do:\n",
        "zmienić nazwy znormalizowanych plików,\n",
        "podzielić dane,\n",
        "zapisać do mos_with_normalized_names.csv\n",
        "'''\n",
        "\n",
        "def filter_distortions(filename):\n",
        "    parts = filename.split('_')\n",
        "    if len(parts) == 3:\n",
        "        distortion_type = int(parts[1])\n",
        "        return distortion_type in [1, 8, 10, 11]\n",
        "    return False\n",
        "\n",
        "input_dir = \"tid2013/distorted_images/\"\n",
        "output_dir = \"tid2013/normalized_distorted_images/\" # where to store normalized distorted images\n",
        "file_list_path = \"tid2013/mos_with_names.txt\"\n",
        "norm_file_list_path = \"tid2013/norm_mos_with_names.csv\" # where to save info after normalization\n",
        "file_list = pd.read_csv(file_list_path, header=None, delimiter=' ')\n",
        "file_list = file_list[file_list[1].apply(filter_distortions)] # filter distortions: jp2k, jpeg, wn and blur\n",
        "\n",
        "os.makedirs(output_dir, exist_ok=True)\n",
        "\n",
        "norm_info_list = []\n",
        "for index, row in file_list.iterrows():\n",
        "    mos_value = row[0]\n",
        "    image_filename = row[1]\n",
        "    image_path = input_dir + image_filename\n",
        "    image = cv2.imread(image_path)\n",
        "    if image is None:\n",
        "        print(f\"Failed to load image: {image_filename}\")\n",
        "        continue\n",
        "    # Normalize the image\n",
        "    image_gray = cv2.cvtColor(image, cv2.COLOR_BGR2GRAY)\n",
        "    image_normalized = liqd92_normalize(image_gray)\n",
        "    image_normalized = cv2.cvtColor(image_normalized, cv2.COLOR_GRAY2BGR)\n",
        "    # Save\n",
        "    image_filename = \"NORM_\"+image_filename\n",
        "    norm_info_list.append([mos_value, image_filename])\n",
        "    cv2.imwrite(output_dir+image_filename, image_normalized)"
      ],
      "metadata": {
        "id": "yCccSXkYgL2s",
        "colab": {
          "base_uri": "https://localhost:8080/"
        },
        "outputId": "52fa177c-1252-4888-f7ff-a079ee0ab6e1"
      },
      "execution_count": 5,
      "outputs": [
        {
          "output_type": "stream",
          "name": "stdout",
          "text": [
            "Saved patch information to tid2013/norm_mos_with_names.csv.\n"
          ]
        }
      ]
    },
    {
      "cell_type": "code",
      "source": [
        "def filter_distortions(filename):\n",
        "    parts = filename.split('_')\n",
        "    if len(parts) == 3:\n",
        "        distortion_type = int(parts[1])\n",
        "        return distortion_type in [1, 8, 10, 11]\n",
        "    return False\n",
        "\n",
        "# Read and filter data, create target directory\n",
        "file_list_path = \"tid2013/mos_with_names.txt\"\n",
        "file_list = pd.read_csv(file_list_path, header=None, delimiter=' ')\n",
        "file_list = file_list[file_list[1].apply(filter_distortions)] # filter distortion: jp2k, jpeg, wn and blur\n",
        "\n",
        "output_dir = \"tid2013/patches\"\n",
        "os.makedirs(output_dir, exist_ok=True)\n",
        "\n",
        "patch_info_list = []\n",
        "for index, row in file_list.iterrows():\n",
        "    mos_value = row[0]\n",
        "    image_name = row[1]\n",
        "\n",
        "    image_path = \"tid2013/distorted_images/\" + image_name\n",
        "    image = cv2.imread(image_path)\n",
        "    if image is None:\n",
        "        print(f\"Failed to load image: {image_name}\")\n",
        "        continue\n",
        "\n",
        "    # Normalize the image\n",
        "    image_gray = cv2.cvtColor(image, cv2.COLOR_BGR2GRAY)\n",
        "    image_normalized = liqd92_normalize(image_gray)\n",
        "    image_normalized_rgb = cv2.cvtColor(image_normalized, cv2.COLOR_GRAY2BGR)\n",
        "\n",
        "    height, width = image.shape[:2]\n",
        "    patch_size = 32\n",
        "    num_patches_y = height // patch_size\n",
        "    num_patches_x = width // patch_size\n",
        "    # Extract and save patches\n",
        "    patch_count = 0\n",
        "    for i in range(num_patches_y):\n",
        "        for j in range(num_patches_x):\n",
        "            patch = image_normalized_rgb[i*patch_size:(i+1)*patch_size, j*patch_size:(j+1)*patch_size]\n",
        "            patch_path = os.path.join(output_dir, f\"{os.path.splitext(image_name)[0]}_patch_{patch_count}.bmp\")\n",
        "            patch_filename = f\"{os.path.splitext(image_name)[0]}_patch_{patch_count}.bmp\"\n",
        "            cv2.imwrite(patch_path, patch)\n",
        "\n",
        "            # Add patch info to the list\n",
        "            patch_info_list.append([patch_filename, mos_value])\n",
        "            patch_count += 1\n",
        "\n",
        "    #print(f\"Saved {patch_count} patches for image {image_name} to the '{output_dir}' directory.\")\n",
        "\n",
        "patch_info_df = pd.DataFrame(patch_info_list, columns=['image_path', 'MOS'])\n",
        "patch_info_df.to_csv('tid2013/patch_mos_with_names.csv', index=False)\n",
        "print(\"Saved patch information to 'patch_mos_with_names.csv'.\")\n"
      ],
      "metadata": {
        "colab": {
          "base_uri": "https://localhost:8080/"
        },
        "id": "KZx_DXvvc0YO",
        "outputId": "caeff95e-08af-45b4-9281-cccac55a4dfa"
      },
      "execution_count": null,
      "outputs": [
        {
          "output_type": "stream",
          "name": "stdout",
          "text": [
            "Saved patch information to 'patch_mos_with_names.csv'.\n"
          ]
        }
      ]
    },
    {
      "cell_type": "markdown",
      "source": [
        "#### Divide data and load it to tensorflow data generators"
      ],
      "metadata": {
        "id": "6tFa7tPXeXMT"
      }
    },
    {
      "cell_type": "code",
      "source": [
        "from tensorflow.keras.preprocessing.image import ImageDataGenerator\n",
        "\n",
        "def create_data_generators(base_dir, train_data, val_data, test_data, batch_size):\n",
        "    datagen = ImageDataGenerator()\n",
        "\n",
        "    train_generator = datagen.flow_from_dataframe(\n",
        "        dataframe=train_data,\n",
        "        directory=os.path.join(base_dir, 'training/patches/'),\n",
        "        x_col='image_path',\n",
        "        y_col='MOS',\n",
        "        target_size=(32, 32),\n",
        "        batch_size=batch_size,\n",
        "        class_mode='raw',\n",
        "        shuffle=True,\n",
        "        seed=42\n",
        "    )\n",
        "\n",
        "    val_generator = datagen.flow_from_dataframe(\n",
        "        dataframe=val_data,\n",
        "        directory=os.path.join(base_dir, 'validation/patches/'),\n",
        "        x_col='image_path',\n",
        "        y_col='MOS',\n",
        "        target_size=(32, 32),\n",
        "        batch_size=batch_size,\n",
        "        class_mode='raw',\n",
        "        shuffle=True,\n",
        "        seed=42\n",
        "    )\n",
        "\n",
        "    test_generator = datagen.flow_from_dataframe(\n",
        "        dataframe=test_data,\n",
        "        directory=os.path.join(base_dir, 'test/patches/'),\n",
        "        x_col='image_path',\n",
        "        y_col='MOS',\n",
        "        target_size=(32, 32),\n",
        "        batch_size=batch_size,\n",
        "        class_mode='raw',\n",
        "        shuffle=False,\n",
        "        seed=42\n",
        "    )\n",
        "\n",
        "    return train_generator, val_generator, test_generator\n",
        "\n",
        "base_dir = 'tid2013/normalized_distorted_images'\n",
        "train_data = pd.read_csv('tid2013/normalized_distorted_images/training/patch_training.csv')\n",
        "val_data = pd.read_csv('tid2013/normalized_distorted_images/validation/patch_validation.csv')\n",
        "test_data = pd.read_csv('tid2013/normalized_distorted_images/test/patch_test.csv')\n",
        "train_generator, val_generator, test_generator = create_data_generators(base_dir, train_data, val_data, test_data, batch_size=32)\n"
      ],
      "metadata": {
        "colab": {
          "base_uri": "https://localhost:8080/"
        },
        "id": "oW39LlfkqsNJ",
        "outputId": "880c39ed-ec3c-42fa-98d4-4f3aa1d35c65"
      },
      "execution_count": 8,
      "outputs": [
        {
          "output_type": "stream",
          "name": "stdout",
          "text": [
            "Found 57600 validated image filenames.\n",
            "Found 19200 validated image filenames.\n",
            "Found 19200 validated image filenames.\n"
          ]
        }
      ]
    },
    {
      "cell_type": "markdown",
      "source": [
        "## Define and train the model"
      ],
      "metadata": {
        "id": "4NHnpI_vesrH"
      }
    },
    {
      "cell_type": "markdown",
      "source": [
        "#### Network architecture"
      ],
      "metadata": {
        "id": "ATY5cvloe4AO"
      }
    },
    {
      "cell_type": "code",
      "source": [
        "from tensorflow.keras.models import Sequential\n",
        "from tensorflow.keras.layers import Conv2D, GlobalMaxPooling2D, Dense, Dropout\n",
        "\n",
        "def build_model():\n",
        "    model = Sequential([\n",
        "        Conv2D(50, (7, 7), activation='relu', input_shape=(32, 32, 3)), # linear in the paper\n",
        "        GlobalMaxPooling2D(),\n",
        "        Dense(800, activation='relu'),\n",
        "        #Dropout(0.5),  # Add dropout to prevent overfitting\n",
        "        Dense(800, activation='relu'),\n",
        "        Dropout(0.5),  # Add dropout to prevent overfitting\n",
        "        Dense(1, activation='linear')  # Output layer for the quality score\n",
        "    ])\n",
        "    return model\n",
        "\n",
        "# Budowanie modelu\n",
        "model = build_model()\n",
        "model.compile(optimizer='adam', loss='mean_squared_error', metrics=['mean_absolute_error'])\n",
        "model.summary()"
      ],
      "metadata": {
        "id": "f0NZk2e61XQ4",
        "colab": {
          "base_uri": "https://localhost:8080/"
        },
        "outputId": "644f9968-e637-475d-d5ef-8b43c6893185"
      },
      "execution_count": 9,
      "outputs": [
        {
          "output_type": "stream",
          "name": "stdout",
          "text": [
            "Model: \"sequential\"\n",
            "_________________________________________________________________\n",
            " Layer (type)                Output Shape              Param #   \n",
            "=================================================================\n",
            " conv2d (Conv2D)             (None, 26, 26, 50)        7400      \n",
            "                                                                 \n",
            " global_max_pooling2d (Glob  (None, 50)                0         \n",
            " alMaxPooling2D)                                                 \n",
            "                                                                 \n",
            " dense (Dense)               (None, 800)               40800     \n",
            "                                                                 \n",
            " dense_1 (Dense)             (None, 800)               640800    \n",
            "                                                                 \n",
            " dropout (Dropout)           (None, 800)               0         \n",
            "                                                                 \n",
            " dense_2 (Dense)             (None, 1)                 801       \n",
            "                                                                 \n",
            "=================================================================\n",
            "Total params: 689801 (2.63 MB)\n",
            "Trainable params: 689801 (2.63 MB)\n",
            "Non-trainable params: 0 (0.00 Byte)\n",
            "_________________________________________________________________\n"
          ]
        }
      ]
    },
    {
      "cell_type": "markdown",
      "source": [
        "#### Training"
      ],
      "metadata": {
        "id": "QXKdDuPye9nT"
      }
    },
    {
      "cell_type": "code",
      "source": [
        "history = model.fit(train_generator, epochs=10, validation_data=val_generator)"
      ],
      "metadata": {
        "colab": {
          "base_uri": "https://localhost:8080/"
        },
        "id": "4_lntSvq1czn",
        "outputId": "1c0344ce-ba47-434c-8176-5f32a9db824a"
      },
      "execution_count": 10,
      "outputs": [
        {
          "output_type": "stream",
          "name": "stdout",
          "text": [
            "Epoch 1/10\n",
            "1800/1800 [==============================] - 37s 20ms/step - loss: 1.5980 - mean_absolute_error: 0.8940 - val_loss: 1.0795 - val_mean_absolute_error: 0.7686\n",
            "Epoch 2/10\n",
            "1800/1800 [==============================] - 35s 20ms/step - loss: 0.8906 - mean_absolute_error: 0.7189 - val_loss: 0.9648 - val_mean_absolute_error: 0.7727\n",
            "Epoch 3/10\n",
            "1800/1800 [==============================] - 35s 19ms/step - loss: 0.8388 - mean_absolute_error: 0.6919 - val_loss: 0.8752 - val_mean_absolute_error: 0.6955\n",
            "Epoch 4/10\n",
            "1800/1800 [==============================] - 34s 19ms/step - loss: 0.7844 - mean_absolute_error: 0.6648 - val_loss: 0.9100 - val_mean_absolute_error: 0.7068\n",
            "Epoch 5/10\n",
            "1800/1800 [==============================] - 35s 19ms/step - loss: 0.7359 - mean_absolute_error: 0.6409 - val_loss: 0.8928 - val_mean_absolute_error: 0.7025\n",
            "Epoch 6/10\n",
            "1800/1800 [==============================] - 35s 20ms/step - loss: 0.7123 - mean_absolute_error: 0.6263 - val_loss: 0.8956 - val_mean_absolute_error: 0.7076\n",
            "Epoch 7/10\n",
            "1800/1800 [==============================] - 34s 19ms/step - loss: 0.6845 - mean_absolute_error: 0.6111 - val_loss: 0.9048 - val_mean_absolute_error: 0.6848\n",
            "Epoch 8/10\n",
            "1800/1800 [==============================] - 35s 19ms/step - loss: 0.6556 - mean_absolute_error: 0.5992 - val_loss: 0.8133 - val_mean_absolute_error: 0.6685\n",
            "Epoch 9/10\n",
            "1800/1800 [==============================] - 34s 19ms/step - loss: 0.6404 - mean_absolute_error: 0.5909 - val_loss: 0.7938 - val_mean_absolute_error: 0.6734\n",
            "Epoch 10/10\n",
            "1800/1800 [==============================] - 34s 19ms/step - loss: 0.6205 - mean_absolute_error: 0.5815 - val_loss: 0.8336 - val_mean_absolute_error: 0.6562\n"
          ]
        }
      ]
    },
    {
      "cell_type": "markdown",
      "source": [
        "## Summarize predictions"
      ],
      "metadata": {
        "id": "ISiuLItZgSne"
      }
    },
    {
      "cell_type": "markdown",
      "source": [
        "#### Predict test data and get labels (MOS)"
      ],
      "metadata": {
        "id": "tS2I_1XcghBI"
      }
    },
    {
      "cell_type": "code",
      "source": [
        "base_image_name = \"_\".join(patch_path.split('_')[1:-2]) + '.bmp'\n",
        "base_image_name"
      ],
      "metadata": {
        "colab": {
          "base_uri": "https://localhost:8080/",
          "height": 35
        },
        "id": "7u28DZ2UrFeK",
        "outputId": "3a281c27-ce30-4179-aed0-263ec64d0ddc"
      },
      "execution_count": 15,
      "outputs": [
        {
          "output_type": "execute_result",
          "data": {
            "text/plain": [
              "'I01_11_1.bmp'"
            ],
            "application/vnd.google.colaboratory.intrinsic+json": {
              "type": "string"
            }
          },
          "metadata": {},
          "execution_count": 15
        }
      ]
    },
    {
      "cell_type": "code",
      "source": [
        "test_predictions = model.predict(test_generator)\n",
        "print(\"Summary of test predictions:\")\n",
        "print(pd.Series(test_predictions.flatten()).describe())\n",
        "\n",
        "patch_info = test_generator.filenames # get list of test patches\n",
        "image_scores = {}\n",
        "for i, patch_path in enumerate(patch_info):\n",
        "    # Extract the base image name by removing the patch-specific part\n",
        "    base_image_name = \"_\".join(patch_path.split('_')[1:-2]) + '.bmp'\n",
        "    if base_image_name not in image_scores:\n",
        "        image_scores[base_image_name] = []\n",
        "    image_scores[base_image_name].append(test_predictions[i])\n",
        "\n",
        "average_scores = {image: np.mean(scores) for image, scores in image_scores.items()}\n",
        "# Save the predicted_mos and mos to a DataFrame\n",
        "average_scores_df = pd.DataFrame(list(average_scores.items()), columns=['Image', 'Predicted_MOS'])\n",
        "test_images_mos = pd.read_csv('tid2013/mos_with_names.txt', header=None, delimiter=' ', names=[\"Predicted_MOS\", \"Image\"])\n",
        "test_images_mos = pd.DataFrame(test_images_mos)\n",
        "# Merge dataframes to match predicted mos with ground-truth mos\n",
        "test_images_mos = average_scores_df.merge(test_images_mos, on=\"Image\", how=\"inner\")\n",
        "test_images_mos.rename(columns={'Predicted_MOS_x': 'Predicted_MOS', 'Predicted_MOS_y': 'MOS'}, inplace=True)\n",
        "\n",
        "print(test_images_mos)"
      ],
      "metadata": {
        "colab": {
          "base_uri": "https://localhost:8080/"
        },
        "id": "WALGk_xS0em6",
        "outputId": "9dacc3bc-ade6-4c2e-c5f3-c9073210b232"
      },
      "execution_count": 16,
      "outputs": [
        {
          "output_type": "stream",
          "name": "stdout",
          "text": [
            "600/600 [==============================] - 6s 10ms/step\n",
            "Summary of test predictions:\n",
            "count    19200.000000\n",
            "mean         4.330615\n",
            "std          1.175344\n",
            "min          1.368853\n",
            "25%          3.251260\n",
            "50%          4.691893\n",
            "75%          5.379266\n",
            "max          7.276652\n",
            "dtype: float64\n",
            "           Image  Predicted_MOS      MOS\n",
            "0   i19_01_2.bmp       5.335258  5.10811\n",
            "1   i04_10_4.bmp       3.226120  3.26190\n",
            "2   i19_10_5.bmp       2.710563  1.65789\n",
            "3   i06_01_5.bmp       4.232332  3.61111\n",
            "4   i20_10_5.bmp       2.766487  2.74359\n",
            "..           ...            ...      ...\n",
            "87  i17_01_5.bmp       4.119846  3.87179\n",
            "88  i22_10_2.bmp       5.460062  5.58974\n",
            "89  i18_08_3.bmp       4.215302  4.14286\n",
            "90  i05_08_2.bmp       5.106204  4.66667\n",
            "91  i22_11_4.bmp       3.014265  2.63158\n",
            "\n",
            "[92 rows x 3 columns]\n"
          ]
        }
      ]
    },
    {
      "cell_type": "markdown",
      "source": [
        "#### Calculate correlations"
      ],
      "metadata": {
        "id": "nPruT9IPiTug"
      }
    },
    {
      "cell_type": "code",
      "source": [
        "from scipy.stats import spearmanr, pearsonr\n",
        "# Drop NaN or inf values if present\n",
        "\n",
        "test_images_mos = test_images_mos.dropna()\n",
        "test_images_mos = test_images_mos[np.isfinite(test_images_mos['MOS']) & np.isfinite(test_images_mos['Predicted_MOS'])]\n",
        "\n",
        "lcc = pearsonr(test_images_mos['Predicted_MOS'], test_images_mos['MOS'])[0]\n",
        "srocc = spearmanr(test_images_mos['Predicted_MOS'], test_images_mos['MOS'])[0]\n",
        "\n",
        "print(f\"LCC (Linear Correlation Coefficient): {lcc}\")\n",
        "print(f\"SROCC (Spearman Rank Order Correlation Coefficient): {srocc}\")"
      ],
      "metadata": {
        "colab": {
          "base_uri": "https://localhost:8080/"
        },
        "id": "S8BCLrn3Mdqe",
        "outputId": "a9e3ddb6-7261-4d6f-f28f-be59373277eb"
      },
      "execution_count": 17,
      "outputs": [
        {
          "output_type": "stream",
          "name": "stdout",
          "text": [
            "LCC (Linear Correlation Coefficient): 0.8896664933495073\n",
            "SROCC (Spearman Rank Order Correlation Coefficient): 0.8901407148251467\n"
          ]
        }
      ]
    },
    {
      "cell_type": "markdown",
      "source": [
        "#### Visualize correletions and training"
      ],
      "metadata": {
        "id": "pXy-sFwPiY0C"
      }
    },
    {
      "cell_type": "code",
      "source": [
        "# Scatter plot with regression line\n",
        "plt.figure(figsize=(10, 6))\n",
        "sns.regplot(x='MOS', y='Predicted_MOS', data=test_images_mos, scatter_kws={'s': 10}, line_kws={'color': 'red'})\n",
        "plt.xlabel('True MOS')\n",
        "plt.ylabel('Predicted MOS')\n",
        "plt.title('Scatter Plot of True MOS vs Predicted MOS')\n",
        "plt.grid(True)\n",
        "plt.show()\n",
        "\n",
        "y_pred = test_predictions\n",
        "y_true = test_generator.labels\n",
        "# Training progress (loss minimization)\n",
        "plt.figure(figsize=(10, 5))\n",
        "plt.plot(history.history['loss'], label='Loss')\n",
        "plt.plot(history.history['val_loss'], label='Validation Loss')\n",
        "plt.xlabel('Epochs')\n",
        "plt.ylabel('Loss')\n",
        "plt.legend()\n",
        "plt.title('Model Loss')\n",
        "plt.show()"
      ],
      "metadata": {
        "colab": {
          "base_uri": "https://localhost:8080/",
          "height": 1000
        },
        "id": "QnSB-ylXSE-d",
        "outputId": "e02eda62-d6fd-4152-b02e-858e35aba5a8"
      },
      "execution_count": 18,
      "outputs": [
        {
          "output_type": "display_data",
          "data": {
            "text/plain": [
              "<Figure size 1000x600 with 1 Axes>"
            ],
            "image/png": "[encoded data removed]"
          },
          "metadata": {}
        },
        {
          "output_type": "display_data",
          "data": {
            "text/plain": [
              "<Figure size 1000x500 with 1 Axes>"
            ],
            "image/png": "[encoded data removed]"
          },
          "metadata": {}
        }
      ]
    }
  ]
}