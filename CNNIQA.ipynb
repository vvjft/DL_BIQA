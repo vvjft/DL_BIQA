{
  "nbformat": 4,
  "nbformat_minor": 0,
  "metadata": {
    "colab": {
      "provenance": [],
      "machine_shape": "hm",
      "authorship_tag": "ABX9TyOOs60hsXtEmw8Yy1tPCAEN",
      "include_colab_link": true
    },
    "kernelspec": {
      "name": "python3",
      "display_name": "Python 3"
    },
    "language_info": {
      "name": "python"
    }
  },
  "cells": [
    {
      "cell_type": "markdown",
      "metadata": {
        "id": "view-in-github",
        "colab_type": "text"
      },
      "source": [
        "<a href=\"https://colab.research.google.com/github/vvjft/DL_BIQA/blob/main/CNNIQA.ipynb\" target=\"_parent\"><img src=\"https://colab.research.google.com/assets/colab-badge.svg\" alt=\"Open In Colab\"/></a>"
      ]
    },
    {
      "cell_type": "markdown",
      "source": [
        "##Dependencies"
      ],
      "metadata": {
        "id": "VRPrxsbCsDWZ"
      }
    },
    {
      "cell_type": "code",
      "execution_count": 1,
      "metadata": {
        "id": "n5adwOYcqrS3",
        "colab": {
          "base_uri": "https://localhost:8080/"
        },
        "outputId": "95342e32-abd2-4a44-e6be-f675e3f418a9"
      },
      "outputs": [
        {
          "output_type": "stream",
          "name": "stdout",
          "text": [
            "Reading package lists... Done\n",
            "Building dependency tree... Done\n",
            "Reading state information... Done\n",
            "unrar is already the newest version (1:6.1.5-1).\n",
            "0 upgraded, 0 newly installed, 0 to remove and 45 not upgraded.\n"
          ]
        }
      ],
      "source": [
        "import tensorflow as tf\n",
        "import numpy as np\n",
        "import scipy\n",
        "import pandas as pd\n",
        "import os\n",
        "import matplotlib.pyplot as plt\n",
        "import seaborn as sns\n",
        "import cv2\n",
        "\n",
        "!apt-get install unrar"
      ]
    },
    {
      "cell_type": "markdown",
      "source": [
        "### Download and extract dataset"
      ],
      "metadata": {
        "id": "EAyOHVzksLdr"
      }
    },
    {
      "cell_type": "code",
      "source": [
        "!wget https://www.ponomarenko.info/tid2013/tid2013.rar # tid2013\n",
        "\n",
        "from google.colab import drive # LIVE\n",
        "drive.mount('/content/drive')\n",
        "!cp -r /content/drive/MyDrive/magisterka/LIVEIQA_release2 /content\n",
        "os.rename('/content/LIVEIQA_release2', '/content/LIVE')\n",
        "drive.flush_and_unmount()\n"
      ],
      "metadata": {
        "collapsed": true,
        "id": "8D30b-aernpn",
        "colab": {
          "base_uri": "https://localhost:8080/"
        },
        "outputId": "bf6950fe-09fb-459e-e5ab-9d6b629ba8de"
      },
      "execution_count": 2,
      "outputs": [
        {
          "output_type": "stream",
          "name": "stdout",
          "text": [
            "--2024-06-01 16:49:29--  https://www.ponomarenko.info/tid2013/tid2013.rar\n",
            "Resolving www.ponomarenko.info (www.ponomarenko.info)... 154.41.250.248, 2a02:4780:22:4c02:fbca:1b76:e920:cd24\n",
            "Connecting to www.ponomarenko.info (www.ponomarenko.info)|154.41.250.248|:443... connected.\n",
            "HTTP request sent, awaiting response... 200 OK\n",
            "Length: 957680241 (913M) [application/x-rar-compressed]\n",
            "Saving to: ‘tid2013.rar’\n",
            "\n",
            "tid2013.rar          30%[=====>              ] 274.44M  2.16MB/s    in 80s     \n",
            "\n",
            "2024-06-01 16:50:50 (3.44 MB/s) - Read error at byte 287775023/957680241 (Connection reset by peer). Retrying.\n",
            "\n",
            "--2024-06-01 16:50:51--  (try: 2)  https://www.ponomarenko.info/tid2013/tid2013.rar\n",
            "Connecting to www.ponomarenko.info (www.ponomarenko.info)|154.41.250.248|:443... connected.\n",
            "HTTP request sent, awaiting response... 206 Partial Content\n",
            "Length: 957680241 (913M), 669905218 (639M) remaining [application/x-rar-compressed]\n",
            "Saving to: ‘tid2013.rar’\n",
            "\n",
            "tid2013.rar         100%[++++++=============>] 913.31M   147MB/s    in 68s     \n",
            "\n",
            "2024-06-01 16:52:35 (9.42 MB/s) - ‘tid2013.rar’ saved [957680241/957680241]\n",
            "\n",
            "Mounted at /content/drive\n"
          ]
        }
      ]
    },
    {
      "cell_type": "code",
      "source": [
        "!mkdir -p '/content/tid2013'\n",
        "!unrar x -inul '/content/tid2013.rar' '/content/tid2013'\n",
        "!rm '/content/tid2013.rar'\n",
        "!rm -r '/content/tid2013/metrics_values'\n",
        "!rm -r '/content/tid2013/papers'\n",
        "!rm '/content/tid2013/readme'\n",
        "!rm -r '/content/sample_data'"
      ],
      "metadata": {
        "id": "bVU2r4DRsoKF",
        "collapsed": true
      },
      "execution_count": 3,
      "outputs": []
    },
    {
      "cell_type": "markdown",
      "source": [
        "Reset directory if needed"
      ],
      "metadata": {
        "id": "QHlo-4qMdRSm"
      }
    },
    {
      "cell_type": "code",
      "source": [
        "#!rm -r '/content/LIVE'\n",
        "#!rm -r '/content/tid2013'\n",
        "#!rm -r '/content/tid2013/patch_mos_with_names.csv'"
      ],
      "metadata": {
        "id": "-OEtoDjh0oBh",
        "colab": {
          "base_uri": "https://localhost:8080/"
        },
        "outputId": "9aca425e-dfa1-4d99-f312-411aecd0226f"
      },
      "execution_count": 32,
      "outputs": [
        {
          "output_type": "stream",
          "name": "stdout",
          "text": [
            "rm: cannot remove '/content/tid2013': No such file or directory\n"
          ]
        }
      ]
    },
    {
      "cell_type": "markdown",
      "source": [
        "##Preprocessing"
      ],
      "metadata": {
        "id": "vs7fpMeDsN-W"
      }
    },
    {
      "cell_type": "markdown",
      "source": [
        "#### Divide dataset"
      ],
      "metadata": {
        "id": "p0CPxppSxUOU"
      }
    },
    {
      "cell_type": "code",
      "source": [
        "from sklearn.model_selection import train_test_split\n",
        "\n",
        "def load_tid2013(base_dir):\n",
        "    data_path = os.path.join(base_dir, 'mos_with_names.txt')\n",
        "    data = pd.read_csv(data_path, header=None, delimiter=' ')\n",
        "    data = data.iloc[:,[1,0]] # swamp colummns order\n",
        "    distortion_types = [1, 8, 10, 11] # filter distortions: wn, blur, jpeg and jp2k\n",
        "    filtered_data = data[data[0].apply(lambda x: int(x.split('_')[1]) in distortion_types)]\n",
        "    filtered_data.columns = ['image_filename', 'MOS']\n",
        "    return filtered_data\n",
        "\n",
        "def load_live(base_dir):\n",
        "    data = pd.read_csv(base_dir, 'dmos_with_names.csv')\n",
        "    distortion_types = [1, 2, 3, 4] # filter distortions: wn, blur, jpeg and jp2k\n",
        "    filtered_data = data[data[0].apply(lambda x: int(x.split('_')[1]) in distortion_types)]\n",
        "    filtered_data.columns = ['image_filename', 'DMOS']\n",
        "    return filtered_data\n",
        "\n",
        "def split_data(data):\n",
        "    train_data, test_data = train_test_split(data, test_size=0.2, random_state=42)\n",
        "    train_data, val_data = train_test_split(train_data, test_size=0.25, random_state=42)\n",
        "    return train_data, val_data, test_data\n",
        "\n",
        "# Załaduj dane i podziel je\n",
        "tid2013_dir = 'tid2013'\n",
        "live_dir = 'LIVE'\n",
        "\n",
        "#data = load_tid2013(tid2013_dir)\n",
        "#data.to_csv('tid2013/filtered_mos_with_names.csv')\n",
        "data = pd.read_csv('LIVE/dmos_with_names.csv')\n",
        "\n",
        "train_data, val_data, test_data = split_data(data)"
      ],
      "metadata": {
        "id": "p0mKJcdDHQAI"
      },
      "execution_count": 6,
      "outputs": []
    },
    {
      "cell_type": "markdown",
      "source": [
        "#### Normalize and slice to patches"
      ],
      "metadata": {
        "id": "NmPjGksxxYaY"
      }
    },
    {
      "cell_type": "code",
      "source": [
        "from scipy.signal import convolve2d\n",
        "def liqd92_normalize(patch, P=3, Q=3, C=1):\n",
        "    kernel = np.ones((P, Q)) / (P * Q)\n",
        "    patch_mean = convolve2d(patch, kernel, boundary='symm', mode='same')\n",
        "    patch_sm = convolve2d(np.square(patch), kernel, boundary='symm', mode='same')\n",
        "    patch_std = np.sqrt(np.maximum(patch_sm - np.square(patch_mean), 0)) + C\n",
        "    patch_ln = (patch - patch_mean) / patch_std\n",
        "    return patch_ln.astype('float32')\n",
        "\n",
        "sets = {'train': [train_data, 'training'], 'val':[val_data, 'validation'], 'test':[test_data, 'test']}\n",
        "input_dir = 'LIVE/distorted_images/'\n",
        "\n",
        "for key, (data, name) in sets.items():\n",
        "\n",
        "  output_dir_full = f'LIVE/normalized_distorted_images/{name}/full/' # where to store normalized distorted images\n",
        "  output_dir_patches = f'LIVE/normalized_distorted_images/{name}/patches/' # where to store patches\n",
        "  norm_file_info_path = f'LIVE/normalized_distorted_images/{name}/norm_{name}.csv'\n",
        "  patch_file_info_path = f'LIVE/normalized_distorted_images/{name}/patch_{name}.csv'\n",
        "  os.makedirs(output_dir_full, exist_ok=True)\n",
        "  os.makedirs(output_dir_patches, exist_ok=True)\n",
        "\n",
        "  norm_info_list = []\n",
        "  patch_info_list = []\n",
        "  for index, row in data.iterrows():\n",
        "      mos_value = row[1]\n",
        "      image_filename = row[0]\n",
        "      image_path = input_dir + image_filename\n",
        "      image = cv2.imread(image_path)\n",
        "      if image is None:\n",
        "          print(f\"Failed to load image: {image_filename}\")\n",
        "          continue\n",
        "      # Normalize the image\n",
        "      image_gray = cv2.cvtColor(image, cv2.COLOR_BGR2GRAY)\n",
        "      image_normalized = liqd92_normalize(image_gray)\n",
        "      image_normalized = cv2.cvtColor(image_normalized, cv2.COLOR_GRAY2BGR)\n",
        "      # Save\n",
        "      image_filename = \"NORM_\"+image_filename\n",
        "      norm_info_list.append([image_filename, mos_value])\n",
        "      cv2.imwrite(output_dir_full+image_filename, image_normalized)\n",
        "      # Slice to patches\n",
        "      height, width = image_normalized.shape[:2]\n",
        "      patch_size = 32\n",
        "      num_patches_y = height // patch_size\n",
        "      num_patches_x = width // patch_size\n",
        "      patch_count = 0\n",
        "      for i in range(num_patches_y):\n",
        "          for j in range(num_patches_x):\n",
        "              patch = image_normalized[i*patch_size:(i+1)*patch_size, j*patch_size:(j+1)*patch_size]\n",
        "              patch_path = os.path.join(output_dir_patches, f\"{os.path.splitext(image_filename)[0]}_patch_{patch_count}.bmp\")\n",
        "              patch_filename = f\"{os.path.splitext(image_filename)[0]}_patch_{patch_count}.bmp\"\n",
        "              cv2.imwrite(patch_path, patch)\n",
        "              # Add patch info to the list\n",
        "              patch_info_list.append([patch_filename, mos_value])\n",
        "              patch_count += 1\n",
        "\n",
        "  norm_info_df = pd.DataFrame(norm_info_list, columns=['image_filename', 'MOS'])\n",
        "  norm_info_df.to_csv(norm_file_info_path, index=False)\n",
        "  print(f\"[{name}]: Saved full normalized distorted image info to:\\n{patch_file_info_path}.\")\n",
        "  patch_info_df = pd.DataFrame(patch_info_list, columns=['image_filename', 'MOS'])\n",
        "  patch_info_df.to_csv(patch_file_info_path, index=False)\n",
        "  print(f\"[{name}]: Saved patch info to {patch_file_info_path}.\")\n"
      ],
      "metadata": {
        "colab": {
          "base_uri": "https://localhost:8080/"
        },
        "id": "HORzxa5RLJQV",
        "outputId": "88bfe802-a42c-4f3c-9daa-fd7d94e7cc1d"
      },
      "execution_count": 8,
      "outputs": [
        {
          "output_type": "stream",
          "name": "stdout",
          "text": [
            "Failed to load image: ocean_3_5.bmp\n",
            "[training]: Saved full normalized distorted image info to:\n",
            "LIVE/normalized_distorted_images/training/patch_training.csv.\n",
            "[training]: Saved patch info to LIVE/normalized_distorted_images/training/patch_training.csv.\n",
            "[validation]: Saved full normalized distorted image info to:\n",
            "LIVE/normalized_distorted_images/validation/patch_validation.csv.\n",
            "[validation]: Saved patch info to LIVE/normalized_distorted_images/validation/patch_validation.csv.\n",
            "[test]: Saved full normalized distorted image info to:\n",
            "LIVE/normalized_distorted_images/test/patch_test.csv.\n",
            "[test]: Saved patch info to LIVE/normalized_distorted_images/test/patch_test.csv.\n"
          ]
        }
      ]
    },
    {
      "cell_type": "markdown",
      "source": [
        "##### Validate the division"
      ],
      "metadata": {
        "id": "VZ71UCqittHi"
      }
    },
    {
      "cell_type": "code",
      "source": [
        "# Paths to the CSV files\n",
        "norm_training_csv = 'LIVE/normalized_distorted_images/training/norm_training.csv'\n",
        "norm_validation_csv = 'LIVE/normalized_distorted_images/validation/norm_validation.csv'\n",
        "norm_test_csv = 'LIVE/normalized_distorted_images/test/norm_test.csv'\n",
        "\n",
        "# Read the CSV files\n",
        "norm_training_df = pd.read_csv(norm_training_csv)\n",
        "norm_validation_df = pd.read_csv(norm_validation_csv)\n",
        "norm_test_df = pd.read_csv(norm_test_csv)\n",
        "\n",
        "# Extract the lists of filenames\n",
        "training_files = set(norm_training_df['image_filename'])\n",
        "validation_files = set(norm_validation_df['image_filename'])\n",
        "test_files = set(norm_test_df['image_filename'])\n",
        "\n",
        "# Check for common files\n",
        "common_training_validation = training_files.intersection(validation_files)\n",
        "common_training_test = training_files.intersection(test_files)\n",
        "common_validation_test = validation_files.intersection(test_files)\n",
        "\n",
        "# Print the results\n",
        "if not common_training_validation and not common_training_test and not common_validation_test:\n",
        "    print(\"There are no common files between norm_training, norm_validation, and norm_test.\")\n",
        "else:\n",
        "    if common_training_validation:\n",
        "        print(f\"Common files between training and validation: {common_training_validation}\")\n",
        "    if common_training_test:\n",
        "        print(f\"Common files between training and test: {common_training_test}\")\n",
        "    if common_validation_test:\n",
        "        print(f\"Common files between validation and test: {common_validation_test}\")\n"
      ],
      "metadata": {
        "colab": {
          "base_uri": "https://localhost:8080/"
        },
        "id": "AraumYdUj_Ls",
        "outputId": "97bf035b-9520-4413-a52d-14f099f77db4"
      },
      "execution_count": 9,
      "outputs": [
        {
          "output_type": "stream",
          "name": "stdout",
          "text": [
            "There are no common files between norm_training, norm_validation, and norm_test.\n"
          ]
        }
      ]
    },
    {
      "cell_type": "markdown",
      "source": [
        "#### Load data into tensorflow data generators"
      ],
      "metadata": {
        "id": "6tFa7tPXeXMT"
      }
    },
    {
      "cell_type": "code",
      "source": [
        "from tensorflow.keras.preprocessing.image import ImageDataGenerator\n",
        "\n",
        "def create_data_generators(base_dir, train_data, val_data, test_data, batch_size):\n",
        "    datagen = ImageDataGenerator()\n",
        "\n",
        "    train_generator = datagen.flow_from_dataframe(\n",
        "        dataframe=train_data,\n",
        "        directory=os.path.join(base_dir, 'training/patches/'),\n",
        "        x_col='image_filename',\n",
        "        y_col='MOS',\n",
        "        target_size=(32, 32),\n",
        "        batch_size=batch_size,\n",
        "        class_mode='raw',\n",
        "        shuffle=True,\n",
        "        seed=42\n",
        "    )\n",
        "\n",
        "    val_generator = datagen.flow_from_dataframe(\n",
        "        dataframe=val_data,\n",
        "        directory=os.path.join(base_dir, 'validation/patches/'),\n",
        "        x_col='image_filename',\n",
        "        y_col='MOS',\n",
        "        target_size=(32, 32),\n",
        "        batch_size=batch_size,\n",
        "        class_mode='raw',\n",
        "        shuffle=True,\n",
        "        seed=42\n",
        "    )\n",
        "\n",
        "    test_generator = datagen.flow_from_dataframe(\n",
        "        dataframe=test_data,\n",
        "        directory=os.path.join(base_dir, 'test/patches/'),\n",
        "        x_col='image_filename',\n",
        "        y_col='MOS',\n",
        "        target_size=(32, 32),\n",
        "        batch_size=batch_size,\n",
        "        class_mode='raw',\n",
        "        shuffle=False,\n",
        "        seed=42\n",
        "    )\n",
        "\n",
        "    return train_generator, val_generator, test_generator\n",
        "\n",
        "base_dir = 'LIVE/normalized_distorted_images'\n",
        "train_data = pd.read_csv('LIVE/normalized_distorted_images/training/patch_training.csv')\n",
        "val_data = pd.read_csv('LIVE/normalized_distorted_images/validation/patch_validation.csv')\n",
        "test_data = pd.read_csv('LIVE/normalized_distorted_images/test/patch_test.csv')\n",
        "train_generator, val_generator, test_generator = create_data_generators(base_dir, train_data, val_data, test_data, batch_size=32)\n"
      ],
      "metadata": {
        "colab": {
          "base_uri": "https://localhost:8080/"
        },
        "id": "oW39LlfkqsNJ",
        "outputId": "d97c6584-2585-40d0-db5f-b3d0510037bf"
      },
      "execution_count": 10,
      "outputs": [
        {
          "output_type": "stream",
          "name": "stdout",
          "text": [
            "Found 160317 validated image filenames.\n",
            "Found 52798 validated image filenames.\n",
            "Found 54425 validated image filenames.\n"
          ]
        }
      ]
    },
    {
      "cell_type": "markdown",
      "source": [
        "## Define and train the model"
      ],
      "metadata": {
        "id": "4NHnpI_vesrH"
      }
    },
    {
      "cell_type": "markdown",
      "source": [
        "#### Network architecture"
      ],
      "metadata": {
        "id": "ATY5cvloe4AO"
      }
    },
    {
      "cell_type": "code",
      "source": [
        "from tensorflow.keras.models import Sequential\n",
        "from tensorflow.keras.layers import Conv2D, GlobalMaxPooling2D, Dense, Dropout\n",
        "\n",
        "def build_model():\n",
        "    model = Sequential([\n",
        "        Conv2D(50, (7, 7), activation='relu', input_shape=(32, 32, 3)), # linear in the paper\n",
        "        GlobalMaxPooling2D(),\n",
        "        Dense(800, activation='relu'),\n",
        "        #Dropout(0.5),  # Add dropout to prevent overfitting\n",
        "        Dense(800, activation='relu'),\n",
        "        Dropout(0.5),  # Add dropout to prevent overfitting\n",
        "        Dense(1, activation='linear')  # Output layer for the quality score\n",
        "    ])\n",
        "    return model\n",
        "\n",
        "# Budowanie modelu\n",
        "model = build_model()\n",
        "model.compile(optimizer='adam', loss='mean_squared_error', metrics=['mean_absolute_error'])\n",
        "model.summary()"
      ],
      "metadata": {
        "id": "f0NZk2e61XQ4",
        "colab": {
          "base_uri": "https://localhost:8080/"
        },
        "outputId": "dd28c3ee-93da-4cbd-bcce-7052379ec162"
      },
      "execution_count": 11,
      "outputs": [
        {
          "output_type": "stream",
          "name": "stdout",
          "text": [
            "Model: \"sequential\"\n",
            "_________________________________________________________________\n",
            " Layer (type)                Output Shape              Param #   \n",
            "=================================================================\n",
            " conv2d (Conv2D)             (None, 26, 26, 50)        7400      \n",
            "                                                                 \n",
            " global_max_pooling2d (Glob  (None, 50)                0         \n",
            " alMaxPooling2D)                                                 \n",
            "                                                                 \n",
            " dense (Dense)               (None, 800)               40800     \n",
            "                                                                 \n",
            " dense_1 (Dense)             (None, 800)               640800    \n",
            "                                                                 \n",
            " dropout (Dropout)           (None, 800)               0         \n",
            "                                                                 \n",
            " dense_2 (Dense)             (None, 1)                 801       \n",
            "                                                                 \n",
            "=================================================================\n",
            "Total params: 689801 (2.63 MB)\n",
            "Trainable params: 689801 (2.63 MB)\n",
            "Non-trainable params: 0 (0.00 Byte)\n",
            "_________________________________________________________________\n"
          ]
        }
      ]
    },
    {
      "cell_type": "markdown",
      "source": [
        "#### Training"
      ],
      "metadata": {
        "id": "QXKdDuPye9nT"
      }
    },
    {
      "cell_type": "code",
      "source": [
        "history = model.fit(train_generator, epochs=40, validation_data=val_generator)"
      ],
      "metadata": {
        "colab": {
          "base_uri": "https://localhost:8080/"
        },
        "id": "4_lntSvq1czn",
        "outputId": "d76a411f-481e-416a-fc8b-4c3ca46519ed"
      },
      "execution_count": 16,
      "outputs": [
        {
          "output_type": "stream",
          "name": "stdout",
          "text": [
            "Epoch 1/40\n",
            "5010/5010 [==============================] - 107s 21ms/step - loss: 481.9946 - mean_absolute_error: 17.1573 - val_loss: 509.7264 - val_mean_absolute_error: 17.8595\n",
            "Epoch 2/40\n",
            "5010/5010 [==============================] - 109s 22ms/step - loss: 478.8727 - mean_absolute_error: 17.0912 - val_loss: 485.1831 - val_mean_absolute_error: 17.3016\n",
            "Epoch 3/40\n",
            "5010/5010 [==============================] - 105s 21ms/step - loss: 477.7710 - mean_absolute_error: 17.0391 - val_loss: 481.8240 - val_mean_absolute_error: 17.5077\n",
            "Epoch 4/40\n",
            "5010/5010 [==============================] - 99s 20ms/step - loss: 475.4788 - mean_absolute_error: 16.9795 - val_loss: 476.4697 - val_mean_absolute_error: 17.3031\n",
            "Epoch 5/40\n",
            "5010/5010 [==============================] - 99s 20ms/step - loss: 473.6784 - mean_absolute_error: 16.9590 - val_loss: 492.9222 - val_mean_absolute_error: 17.6874\n",
            "Epoch 6/40\n",
            "5010/5010 [==============================] - 102s 20ms/step - loss: 470.8723 - mean_absolute_error: 16.9046 - val_loss: 497.7401 - val_mean_absolute_error: 17.7546\n",
            "Epoch 7/40\n",
            "5010/5010 [==============================] - 112s 22ms/step - loss: 468.8768 - mean_absolute_error: 16.8463 - val_loss: 501.2451 - val_mean_absolute_error: 17.5004\n",
            "Epoch 8/40\n",
            "5010/5010 [==============================] - 110s 22ms/step - loss: 468.7205 - mean_absolute_error: 16.8255 - val_loss: 475.7786 - val_mean_absolute_error: 17.3929\n",
            "Epoch 9/40\n",
            "5010/5010 [==============================] - 111s 22ms/step - loss: 466.0523 - mean_absolute_error: 16.7693 - val_loss: 473.7653 - val_mean_absolute_error: 17.3098\n",
            "Epoch 10/40\n",
            "5010/5010 [==============================] - 115s 23ms/step - loss: 464.3521 - mean_absolute_error: 16.7103 - val_loss: 485.9822 - val_mean_absolute_error: 17.3330\n",
            "Epoch 11/40\n",
            "5010/5010 [==============================] - 117s 23ms/step - loss: 463.5451 - mean_absolute_error: 16.6805 - val_loss: 472.5902 - val_mean_absolute_error: 17.1810\n",
            "Epoch 12/40\n",
            "5010/5010 [==============================] - 112s 22ms/step - loss: 461.2657 - mean_absolute_error: 16.6362 - val_loss: 489.6578 - val_mean_absolute_error: 17.4886\n",
            "Epoch 13/40\n",
            "5010/5010 [==============================] - 109s 22ms/step - loss: 461.1253 - mean_absolute_error: 16.6261 - val_loss: 478.8564 - val_mean_absolute_error: 17.1037\n",
            "Epoch 14/40\n",
            "5010/5010 [==============================] - 104s 21ms/step - loss: 459.3715 - mean_absolute_error: 16.5841 - val_loss: 478.6062 - val_mean_absolute_error: 17.1381\n",
            "Epoch 15/40\n",
            "5010/5010 [==============================] - 104s 21ms/step - loss: 457.5352 - mean_absolute_error: 16.5394 - val_loss: 471.7268 - val_mean_absolute_error: 17.1284\n",
            "Epoch 16/40\n",
            "5010/5010 [==============================] - 105s 21ms/step - loss: 456.7616 - mean_absolute_error: 16.5240 - val_loss: 466.8852 - val_mean_absolute_error: 16.9956\n",
            "Epoch 17/40\n",
            "5010/5010 [==============================] - 105s 21ms/step - loss: 454.4695 - mean_absolute_error: 16.4739 - val_loss: 486.4709 - val_mean_absolute_error: 17.4130\n",
            "Epoch 18/40\n",
            "5010/5010 [==============================] - 113s 22ms/step - loss: 454.0969 - mean_absolute_error: 16.4526 - val_loss: 494.4594 - val_mean_absolute_error: 17.6585\n",
            "Epoch 19/40\n",
            "5010/5010 [==============================] - 114s 23ms/step - loss: 452.1826 - mean_absolute_error: 16.4128 - val_loss: 475.0695 - val_mean_absolute_error: 17.0661\n",
            "Epoch 20/40\n",
            "5010/5010 [==============================] - 107s 21ms/step - loss: 451.5513 - mean_absolute_error: 16.3984 - val_loss: 481.8576 - val_mean_absolute_error: 17.1067\n",
            "Epoch 21/40\n",
            "5010/5010 [==============================] - 107s 21ms/step - loss: 451.8563 - mean_absolute_error: 16.4158 - val_loss: 478.5985 - val_mean_absolute_error: 17.0610\n",
            "Epoch 22/40\n",
            "5010/5010 [==============================] - 108s 21ms/step - loss: 449.8494 - mean_absolute_error: 16.3660 - val_loss: 467.4483 - val_mean_absolute_error: 16.8775\n",
            "Epoch 23/40\n",
            "5010/5010 [==============================] - 107s 21ms/step - loss: 450.0257 - mean_absolute_error: 16.3704 - val_loss: 490.3594 - val_mean_absolute_error: 17.4755\n",
            "Epoch 24/40\n",
            "5010/5010 [==============================] - 104s 21ms/step - loss: 448.6338 - mean_absolute_error: 16.3436 - val_loss: 481.3163 - val_mean_absolute_error: 17.1327\n",
            "Epoch 25/40\n",
            "5010/5010 [==============================] - 99s 20ms/step - loss: 446.0111 - mean_absolute_error: 16.2754 - val_loss: 493.0791 - val_mean_absolute_error: 17.6853\n",
            "Epoch 26/40\n",
            "5010/5010 [==============================] - 105s 21ms/step - loss: 445.6784 - mean_absolute_error: 16.2697 - val_loss: 470.5326 - val_mean_absolute_error: 17.0167\n",
            "Epoch 27/40\n",
            "5010/5010 [==============================] - 111s 22ms/step - loss: 444.1556 - mean_absolute_error: 16.2387 - val_loss: 475.7358 - val_mean_absolute_error: 17.0462\n",
            "Epoch 28/40\n",
            "5010/5010 [==============================] - 116s 23ms/step - loss: 445.1593 - mean_absolute_error: 16.2582 - val_loss: 470.7023 - val_mean_absolute_error: 16.9326\n",
            "Epoch 29/40\n",
            "5010/5010 [==============================] - 113s 23ms/step - loss: 443.3323 - mean_absolute_error: 16.2188 - val_loss: 473.0027 - val_mean_absolute_error: 16.9820\n",
            "Epoch 30/40\n",
            "5010/5010 [==============================] - 111s 22ms/step - loss: 441.6709 - mean_absolute_error: 16.1812 - val_loss: 487.3148 - val_mean_absolute_error: 17.0807\n",
            "Epoch 31/40\n",
            "5010/5010 [==============================] - 100s 20ms/step - loss: 441.2093 - mean_absolute_error: 16.1752 - val_loss: 467.0976 - val_mean_absolute_error: 16.9403\n",
            "Epoch 32/40\n",
            "5010/5010 [==============================] - 105s 21ms/step - loss: 439.6977 - mean_absolute_error: 16.1234 - val_loss: 470.3940 - val_mean_absolute_error: 16.9932\n",
            "Epoch 33/40\n",
            "5010/5010 [==============================] - 102s 20ms/step - loss: 438.0915 - mean_absolute_error: 16.0932 - val_loss: 466.0059 - val_mean_absolute_error: 17.0038\n",
            "Epoch 34/40\n",
            "5010/5010 [==============================] - 99s 20ms/step - loss: 438.7649 - mean_absolute_error: 16.1074 - val_loss: 474.6606 - val_mean_absolute_error: 16.9839\n",
            "Epoch 35/40\n",
            "5010/5010 [==============================] - 103s 20ms/step - loss: 437.1729 - mean_absolute_error: 16.0623 - val_loss: 468.5893 - val_mean_absolute_error: 16.8892\n",
            "Epoch 36/40\n",
            "5010/5010 [==============================] - 102s 20ms/step - loss: 436.0824 - mean_absolute_error: 16.0344 - val_loss: 471.7637 - val_mean_absolute_error: 17.0916\n",
            "Epoch 37/40\n",
            "5010/5010 [==============================] - 103s 20ms/step - loss: 435.4554 - mean_absolute_error: 16.0355 - val_loss: 471.4539 - val_mean_absolute_error: 17.0892\n",
            "Epoch 38/40\n",
            "5010/5010 [==============================] - 103s 21ms/step - loss: 434.3488 - mean_absolute_error: 15.9989 - val_loss: 473.6511 - val_mean_absolute_error: 16.9314\n",
            "Epoch 39/40\n",
            "5010/5010 [==============================] - 101s 20ms/step - loss: 433.4094 - mean_absolute_error: 15.9871 - val_loss: 466.5620 - val_mean_absolute_error: 16.9097\n",
            "Epoch 40/40\n",
            "5010/5010 [==============================] - 101s 20ms/step - loss: 432.8511 - mean_absolute_error: 15.9611 - val_loss: 477.3389 - val_mean_absolute_error: 17.0385\n"
          ]
        }
      ]
    },
    {
      "cell_type": "markdown",
      "source": [
        "## Summarize predictions"
      ],
      "metadata": {
        "id": "ISiuLItZgSne"
      }
    },
    {
      "cell_type": "markdown",
      "source": [
        "#### Predict test data and get labels (MOS)"
      ],
      "metadata": {
        "id": "tS2I_1XcghBI"
      }
    },
    {
      "cell_type": "code",
      "source": [
        "test_predictions = model.predict(test_generator)\n",
        "patch_info = test_generator.filenames # get list of test patches\n",
        "image_scores = {}\n",
        "for i, patch_path in enumerate(patch_info):\n",
        "    # Extract the base image name by removing the patch-specific part\n",
        "    base_image_name = \"_\".join(patch_path.split('_')[1:-2]) + '.bmp'\n",
        "    if base_image_name not in image_scores:\n",
        "        image_scores[base_image_name] = []\n",
        "    image_scores[base_image_name].append(test_predictions[i])\n",
        "\n",
        "average_scores = {image: np.mean(scores) for image, scores in image_scores.items()}\n",
        "average_scores_df = pd.DataFrame(list(average_scores.items()), columns=['Image', 'Predicted_MOS'])\n",
        "print(\"Summary of test predictions:\")\n",
        "print(average_scores_df.describe())\n",
        "\n",
        "test_images_mos = pd.read_csv('LIVE/dmos_with_names.csv')\n",
        "test_images_mos.rename(columns={'image_filename':'Image','DMOS':'DMOS'}, inplace=True)\n",
        "test_images_mos = pd.DataFrame(test_images_mos)\n",
        "# Force all extensions to be '.bmp' (there are inconsitencies between mos_with_names.txt and acutal filename)\n",
        "test_images_mos['Image'] = test_images_mos['Image'].apply(lambda x: x.lower())\n",
        "average_scores_df['Image'] = average_scores_df['Image'].apply(lambda x: x.lower())\n",
        "# Merge dataframes to match predicted mos with ground-truth mos\n",
        "merged_df = average_scores_df.merge(test_images_mos, on=\"Image\", how=\"inner\")\n",
        "merged_df.rename(columns={'Predicted_MOS_x': 'Predicted_MOS', 'Predicted_MOS_y': 'MOS'}, inplace=True)\n",
        "print(merged_df)"
      ],
      "metadata": {
        "colab": {
          "base_uri": "https://localhost:8080/"
        },
        "id": "WALGk_xS0em6",
        "outputId": "af521647-0718-45d1-cace-ea0f285b2545"
      },
      "execution_count": 17,
      "outputs": [
        {
          "output_type": "stream",
          "name": "stdout",
          "text": [
            "1701/1701 [==============================] - 16s 10ms/step\n",
            "Summary of test predictions:\n",
            "       Predicted_MOS\n",
            "count     156.000000\n",
            "mean       45.541397\n",
            "std        14.683753\n",
            "min        22.603470\n",
            "25%        33.788487\n",
            "50%        45.424633\n",
            "75%        53.149618\n",
            "max        89.251884\n",
            "                        Image  Predicted_MOS        DMOS\n",
            "0            sailing3_1_4.bmp      45.888744   42.497069\n",
            "1            sailing2_5_1.bmp      56.090271   54.352983\n",
            "2            sailing1_1_6.bmp      30.899954    7.692347\n",
            "3            sailing4_5_5.bmp      36.999393   34.050219\n",
            "4               plane_1_2.bmp      35.567074    5.651470\n",
            "..                        ...            ...         ...\n",
            "151        lighthouse_5_5.bmp      55.075153   58.499516\n",
            "152         buildings_5_1.bmp      54.131855   59.220409\n",
            "153           cemetry_3_2.bmp      52.746826  109.627084\n",
            "154        lighthouse_2_3.bmp      46.087051   42.576243\n",
            "155  churchandcapitol_2_1.bmp      32.497757   33.283198\n",
            "\n",
            "[156 rows x 3 columns]\n"
          ]
        }
      ]
    },
    {
      "cell_type": "markdown",
      "source": [
        "#### Calculate correlations"
      ],
      "metadata": {
        "id": "nPruT9IPiTug"
      }
    },
    {
      "cell_type": "code",
      "source": [
        "from scipy.stats import spearmanr, pearsonr\n",
        "# Drop NaN or inf values if present\n",
        "cleaned_df = merged_df.dropna()\n",
        "cleaned_df = cleaned_df[np.isfinite(cleaned_df['DMOS']) & np.isfinite(cleaned_df['Predicted_MOS'])]\n",
        "\n",
        "# Calculate LCC and SROCC\n",
        "lcc = pearsonr(cleaned_df['Predicted_MOS'], cleaned_df['DMOS'])[0]\n",
        "srocc = spearmanr(cleaned_df['Predicted_MOS'], cleaned_df['DMOS'])[0]\n",
        "\n",
        "print(f\"LCC (Linear Correlation Coefficient): {lcc}\")\n",
        "print(f\"SROCC (Spearman Rank Order Correlation Coefficient): {srocc}\")"
      ],
      "metadata": {
        "colab": {
          "base_uri": "https://localhost:8080/"
        },
        "id": "S8BCLrn3Mdqe",
        "outputId": "a47bb378-6157-45ad-8274-b939e8039759"
      },
      "execution_count": 18,
      "outputs": [
        {
          "output_type": "stream",
          "name": "stdout",
          "text": [
            "LCC (Linear Correlation Coefficient): 0.7520440839450799\n",
            "SROCC (Spearman Rank Order Correlation Coefficient): 0.7595359643438542\n"
          ]
        }
      ]
    },
    {
      "cell_type": "markdown",
      "source": [
        "#### Visualize correletions and training"
      ],
      "metadata": {
        "id": "pXy-sFwPiY0C"
      }
    },
    {
      "cell_type": "code",
      "source": [
        "# Scatter plot with regression line\n",
        "plt.figure(figsize=(10, 6))\n",
        "sns.regplot(x='DMOS', y='Predicted_MOS', data=merged_df, scatter_kws={'s': 10}, line_kws={'color': 'red'})\n",
        "plt.xlabel('True MOS')\n",
        "plt.ylabel('Predicted MOS')\n",
        "plt.title('Scatter Plot of True MOS vs Predicted MOS')\n",
        "plt.grid(True)\n",
        "plt.show()\n",
        "\n",
        "y_pred = test_predictions\n",
        "y_true = test_generator.labels\n",
        "# Training progress (loss minimization)\n",
        "plt.figure(figsize=(10, 5))\n",
        "plt.plot(history.history['loss'], label='Loss')\n",
        "plt.plot(history.history['val_loss'], label='Validation Loss')\n",
        "plt.xlabel('Epochs')\n",
        "plt.ylabel('Loss')\n",
        "plt.legend()\n",
        "plt.title('Model Loss')\n",
        "plt.show()"
      ],
      "metadata": {
        "colab": {
          "base_uri": "https://localhost:8080/",
          "height": 1000
        },
        "id": "QnSB-ylXSE-d",
        "outputId": "11c85bbf-4c32-4f12-970d-bcbf13e1ada7"
      },
      "execution_count": 19,
      "outputs": [
        {
          "output_type": "display_data",
          "data": {
            "text/plain": [
              "<Figure size 1000x600 with 1 Axes>"
            ],
            "image/png": "[encoded data removed]"
          },
          "metadata": {}
        },
        {
          "output_type": "display_data",
          "data": {
            "text/plain": [
              "<Figure size 1000x500 with 1 Axes>"
            ],
            "image/png": "[encoded data removed]"
          },
          "metadata": {}
        }
      ]
    }
  ]
}