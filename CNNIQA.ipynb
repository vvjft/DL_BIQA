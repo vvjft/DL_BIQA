{
  "nbformat": 4,
  "nbformat_minor": 0,
  "metadata": {
    "colab": {
      "provenance": [],
      "machine_shape": "hm",
      "authorship_tag": "ABX9TyPZQdci46wgzr7wrRG5vgsp",
      "include_colab_link": true
    },
    "kernelspec": {
      "name": "python3",
      "display_name": "Python 3"
    },
    "language_info": {
      "name": "python"
    }
  },
  "cells": [
    {
      "cell_type": "markdown",
      "metadata": {
        "id": "view-in-github",
        "colab_type": "text"
      },
      "source": [
        "<a href=\"https://colab.research.google.com/github/vvjft/DL_BIQA/blob/main/CNNIQA.ipynb\" target=\"_parent\"><img src=\"https://colab.research.google.com/assets/colab-badge.svg\" alt=\"Open In Colab\"/></a>"
      ]
    },
    {
      "cell_type": "markdown",
      "source": [
        "##Dependencies"
      ],
      "metadata": {
        "id": "VRPrxsbCsDWZ"
      }
    },
    {
      "cell_type": "code",
      "execution_count": 1,
      "metadata": {
        "id": "n5adwOYcqrS3",
        "colab": {
          "base_uri": "https://localhost:8080/"
        },
        "outputId": "4ce22cd8-1113-4633-ebc9-63c21ebe6d97"
      },
      "outputs": [
        {
          "output_type": "stream",
          "name": "stdout",
          "text": [
            "Reading package lists... Done\n",
            "Building dependency tree... Done\n",
            "Reading state information... Done\n",
            "unrar is already the newest version (1:6.1.5-1).\n",
            "0 upgraded, 0 newly installed, 0 to remove and 45 not upgraded.\n"
          ]
        }
      ],
      "source": [
        "import tensorflow as tf\n",
        "import numpy as np\n",
        "import scipy\n",
        "import pandas as pd\n",
        "import os\n",
        "import matplotlib.pyplot as plt\n",
        "import seaborn as sns\n",
        "import cv2\n",
        "\n",
        "!apt-get install unrar"
      ]
    },
    {
      "cell_type": "markdown",
      "source": [
        "### Download and extract dataset"
      ],
      "metadata": {
        "id": "EAyOHVzksLdr"
      }
    },
    {
      "cell_type": "code",
      "source": [
        "!wget https://www.ponomarenko.info/tid2013/tid2013.rar # tid2013\n",
        "\n",
        "from google.colab import drive\n",
        "drive.mount('/content/drive') # LIVE"
      ],
      "metadata": {
        "collapsed": true,
        "id": "8D30b-aernpn",
        "colab": {
          "base_uri": "https://localhost:8080/"
        },
        "outputId": "7da89548-cce7-4d91-c2f3-34cdc2618155"
      },
      "execution_count": 2,
      "outputs": [
        {
          "output_type": "stream",
          "name": "stdout",
          "text": [
            "--2024-06-03 15:46:02--  https://www.ponomarenko.info/tid2013/tid2013.rar\n",
            "Resolving www.ponomarenko.info (www.ponomarenko.info)... 154.62.106.188, 2a02:4780:1d:ac11:e011:974:274c:246e\n",
            "Connecting to www.ponomarenko.info (www.ponomarenko.info)|154.62.106.188|:443... connected.\n",
            "HTTP request sent, awaiting response... 200 OK\n",
            "Length: 957680241 (913M) [application/x-rar-compressed]\n",
            "Saving to: ‘tid2013.rar’\n",
            "\n",
            "tid2013.rar         100%[===================>] 913.31M  82.4MB/s    in 12s     \n",
            "\n",
            "2024-06-03 15:46:14 (78.5 MB/s) - ‘tid2013.rar’ saved [957680241/957680241]\n",
            "\n",
            "Mounted at /content/drive\n"
          ]
        }
      ]
    },
    {
      "cell_type": "code",
      "source": [
        "!mkdir -p '/content/tid2013'\n",
        "!unrar x -inul '/content/tid2013.rar' '/content/tid2013'\n",
        "!rm '/content/tid2013.rar'\n",
        "!rm -r '/content/tid2013/metrics_values'\n",
        "!rm -r '/content/tid2013/papers'\n",
        "!rm '/content/tid2013/readme'\n",
        "!rm -r '/content/sample_data'\n",
        "\n",
        "!cp -r /content/drive/MyDrive/magisterka/LIVEIQA_release2 /content\n",
        "os.rename('/content/LIVEIQA_release2', '/content/LIVE')\n",
        "drive.flush_and_unmount()"
      ],
      "metadata": {
        "id": "bVU2r4DRsoKF",
        "collapsed": true
      },
      "execution_count": 3,
      "outputs": []
    },
    {
      "cell_type": "markdown",
      "source": [
        "Reset directory if needed"
      ],
      "metadata": {
        "id": "QHlo-4qMdRSm"
      }
    },
    {
      "cell_type": "code",
      "source": [
        "#!rm -r '/content/LIVE/normalized_distorted_images'\n",
        "#!rm -r '/content/tid2013'\n",
        "#!rm -r '/content/tid2013/patch_mos_with_names.csv'"
      ],
      "metadata": {
        "id": "-OEtoDjh0oBh"
      },
      "execution_count": 12,
      "outputs": []
    },
    {
      "cell_type": "markdown",
      "source": [
        "##Preprocessing"
      ],
      "metadata": {
        "id": "vs7fpMeDsN-W"
      }
    },
    {
      "cell_type": "markdown",
      "source": [
        "#### Divide dataset"
      ],
      "metadata": {
        "id": "p0CPxppSxUOU"
      }
    },
    {
      "cell_type": "code",
      "source": [
        "from scipy.optimize import curve_fit\n",
        "\n",
        "def logistic_function(x, a, b, c, d):\n",
        "    return a / (1 + np.exp(-c * (x - d))) + b\n",
        "\n",
        "def get_logistic_fun(data_tid, data_live):\n",
        "  def convert_mos_to_dmos(mos, dmos):\n",
        "      initial_params = [0, 0, 0, np.median(mos)]  # initial guess for parameters\n",
        "      popt, _ = curve_fit(logistic_function, mos, dmos, p0=initial_params, maxfev=10000)\n",
        "      return popt\n",
        "\n",
        "  train_data_tid, val_data_tid, test_data_tid = split_data(data_tid)\n",
        "  train_data_live, val_data_live, test_data_live = split_data(data_live)\n",
        "  # Align MOS and DMOS for fitting\n",
        "  mos_train = np.sort(train_data_tid['MOS'].values)\n",
        "  dmos_train = np.sort(train_data_live['DMOS'].values[:len(mos_train)])[::-1]  # ensure lengths match for curve fitting\n",
        "\n",
        "  params = convert_mos_to_dmos(mos_train, dmos_train)\n",
        "  print(\"Estimated parameters:\", params)\n",
        "  data_tid['DMOS_pred'] = logistic_function(data_tid['MOS'].values, *params)\n",
        "\n",
        "  plt.scatter(data_tid['MOS'], data_tid['DMOS_pred'], label='Predicted DMOS', alpha=0.5)\n",
        "  plt.scatter(mos_train, dmos_train, label='Actual DMOS (Training Data)', alpha=0.5)\n",
        "  plt.xlabel('MOS')\n",
        "  plt.ylabel('DMOS')\n",
        "  plt.legend()\n",
        "  plt.grid(True)\n",
        "  plt.show()\n",
        "\n",
        "  return params"
      ],
      "metadata": {
        "id": "fT0r52xIGxoO"
      },
      "execution_count": 4,
      "outputs": []
    },
    {
      "cell_type": "code",
      "source": [
        "from scipy.signal import convolve2d\n",
        "def normalize_and_slice(db_dir, train_data, val_data, test_data, cross=False):\n",
        "\n",
        "  def liqd92_normalize(patch, P=3, Q=3, C=1):\n",
        "      kernel = np.ones((P, Q)) / (P * Q)\n",
        "      patch_mean = convolve2d(patch, kernel, boundary='symm', mode='same')\n",
        "      patch_sm = convolve2d(np.square(patch), kernel, boundary='symm', mode='same')\n",
        "      patch_std = np.sqrt(np.maximum(patch_sm - np.square(patch_mean), 0)) + C\n",
        "      patch_ln = (patch - patch_mean) / patch_std\n",
        "      return patch_ln.astype('float32')\n",
        "\n",
        "  sets = {'train': [train_data, 'training'], 'val':[val_data, 'validation'], 'test':[test_data, 'test']}\n",
        "  input_dir = f'{db_dir}/distorted_images/'\n",
        "\n",
        "  for key, (data, name) in sets.items():\n",
        "    if cross==True and name=='test':\n",
        "      db_dir = 'tid2013'\n",
        "\n",
        "    output_dir_full = f'{db_dir}/normalized_distorted_images/{name}/full/' # where to store normalized distorted images\n",
        "    output_dir_patches = f'{db_dir}/normalized_distorted_images/{name}/patches/' # where to store patches\n",
        "    norm_file_info_path = f'{db_dir}/normalized_distorted_images/{name}/norm_{name}.csv'\n",
        "    patch_file_info_path = f'{db_dir}/normalized_distorted_images/{name}/patch_{name}.csv'\n",
        "    os.makedirs(output_dir_full, exist_ok=True)\n",
        "    os.makedirs(output_dir_patches, exist_ok=True)\n",
        "\n",
        "    norm_info_list = []\n",
        "    patch_info_list = []\n",
        "    for index, row in data.iterrows():\n",
        "        mos_value = row[1]\n",
        "        image_filename = row[0]\n",
        "        image_path = input_dir + image_filename\n",
        "        image = cv2.imread(image_path)\n",
        "        if image is None:\n",
        "            print(f\"Failed to load image: {image_filename}\")\n",
        "            continue\n",
        "        # Normalize the image\n",
        "        image_gray = cv2.cvtColor(image, cv2.COLOR_BGR2GRAY)\n",
        "        image_normalized = liqd92_normalize(image_gray)\n",
        "        # Save\n",
        "        image_filename = f'NORM_{image_filename}'\n",
        "        norm_info_list.append([image_filename, mos_value])\n",
        "        cv2.imwrite(output_dir_full+image_filename, image_normalized)\n",
        "        # Slice to patches\n",
        "        height, width = image_normalized.shape[:2]\n",
        "        patch_size = 32\n",
        "        num_patches_y = height // patch_size\n",
        "        num_patches_x = width // patch_size\n",
        "        patch_count = 0\n",
        "        for i in range(num_patches_y):\n",
        "            for j in range(num_patches_x):\n",
        "                patch = image_normalized[i*patch_size:(i+1)*patch_size, j*patch_size:(j+1)*patch_size]\n",
        "                patch_path = os.path.join(output_dir_patches, f\"{os.path.splitext(image_filename)[0]}_patch_{patch_count}.bmp\")\n",
        "                patch_filename = f\"{os.path.splitext(image_filename)[0]}_patch_{patch_count}.bmp\"\n",
        "                cv2.imwrite(patch_path, patch)\n",
        "                # Add patch info to the list\n",
        "                patch_info_list.append([patch_filename, mos_value])\n",
        "                patch_count += 1\n",
        "\n",
        "    norm_info_df = pd.DataFrame(norm_info_list, columns=['image_filename', score_measure])\n",
        "    norm_info_df.to_csv(norm_file_info_path, index=False)\n",
        "    print(f\"[{name}]: Saved full normalized distorted image info to:\\n{patch_file_info_path}.\")\n",
        "    patch_info_df = pd.DataFrame(patch_info_list, columns=['image_filename', score_measure])\n",
        "    patch_info_df.to_csv(patch_file_info_path, index=False)\n",
        "    print(f\"[{name}]: Saved patch info to {patch_file_info_path}.\")"
      ],
      "metadata": {
        "id": "HORzxa5RLJQV"
      },
      "execution_count": 5,
      "outputs": []
    },
    {
      "cell_type": "code",
      "source": [
        "from sklearn.model_selection import train_test_split\n",
        "\n",
        "def load_tid2013(base_dir, filter=False):\n",
        "    data_path = os.path.join(base_dir, 'mos_with_names.txt')\n",
        "    data = pd.read_csv(data_path, header=None, delimiter=' ')\n",
        "    data = data.iloc[:,[1,0]] # swap colummn order\n",
        "    if filter == False:\n",
        "      return data\n",
        "    else:\n",
        "      distortion_types = [1, 8, 10, 11] # filter distortions: wn, blur, jpeg and jp2k\n",
        "      filtered_data = data[data[1].apply(lambda x: int(x.split('_')[1]) in distortion_types)]\n",
        "      filtered_data.columns = ['image_filename', 'MOS']\n",
        "      return filtered_data\n",
        "\n",
        "def load_live(base_dir, filter=False):\n",
        "    data_path = os.path.join(base_dir, 'dmos_with_names.csv')\n",
        "    data = pd.read_csv(data_path, index_col=False)\n",
        "    if filter == False:\n",
        "      return data\n",
        "    else:\n",
        "      distortion_types = [1, 2, 3, 4] # filter distortions: jp2k, jpeg, wn and blur\n",
        "      filtered_data = data[data[0].apply(lambda x: int(x.split('_')[1]) in distortion_types)]\n",
        "      filtered_data.columns = ['image_filename', 'DMOS']\n",
        "      return filtered_data\n",
        "\n",
        "def split_data(data1, data2=None, params=None, cross=False):\n",
        "    if cross==True:\n",
        "      train_data, val_data = train_test_split(data1, test_size=0.2, random_state=40)\n",
        "      test_data = logistic_function(data2['MOS'].values, *params)\n",
        "      return train_data, val_data, test_data\n",
        "    else:\n",
        "      train_data, test_data = train_test_split(data1, test_size=0.2, random_state=40)\n",
        "      train_data, val_data = train_test_split(train_data, test_size=0.25, random_state=40)\n",
        "      return train_data, val_data, test_data\n",
        "\n",
        "#def cross_val(live, tid, params):\n",
        "#    train_data, val_data = train_test_split(live, test_size=0.2, random_state=40)\n",
        "#    test_data = logistic_function(tid['MOS'].values, *params)\n",
        "#    return train_data, val_data, test_data\n",
        "\n",
        "tid2013_dir = 'tid2013'\n",
        "live_dir = 'LIVE'\n",
        "db_dir = tid2013_dir\n",
        "cross = False\n",
        "score_measure = 'DMOS' if db_dir == live_dir or cross == True else 'MOS'\n",
        "\n",
        "data_tid = load_tid2013(tid2013_dir, not cross)\n",
        "data_tid.to_csv('tid2013/mos_with_names.csv', index=False)\n",
        "data_live = load_live(live_dir, cross)\n",
        "data_live.to_csv('LIVE/dmos_with_names.csv', index=False)\n",
        "\n",
        "if cross == False:\n",
        "  '''Choose database to evaluate'''\n",
        "  data = data_live if db_dir == live_dir else data_tid\n",
        "  train_data, val_data, test_data = split_data(data)\n",
        "  normalize_and_slice(db_dir, train_data, val_data, test_data)\n",
        "\n",
        "  train_data = pd.read_csv(f'{db_dir}/normalized_distorted_images/training/patch_training.csv')\n",
        "  val_data = pd.read_csv(f'{db_dir}/normalized_distorted_images/validation/patch_validation.csv')\n",
        "  test_data = pd.read_csv(f'{db_dir}/normalized_distorted_images/test/patch_test.csv')\n",
        "else:\n",
        "  '''or perform cross validation'''\n",
        "  params = get_logistic_fun(data_tid, data_live)\n",
        "  train_data, val_data, test_data = split_data(data_live, data_tid, params, cross) # cross validation (TID2013 as test)\n",
        "  normalize_and_slice(db_dir, train_data, val_data, test_data, cross)\n",
        "\n",
        "  train_data = pd.read_csv(f'LIVE/normalized_distorted_images/training/patch_training.csv')\n",
        "  val_data = pd.read_csv(f'LIVE/normalized_distorted_images/validation/patch_validation.csv')\n",
        "  test_data = pd.read_csv(f'tid2013/normalized_distorted_images/test/patch_test.csv')"
      ],
      "metadata": {
        "id": "p0mKJcdDHQAI",
        "colab": {
          "base_uri": "https://localhost:8080/"
        },
        "outputId": "bdbd5882-7f8a-4d75-dd20-ffa9d2b85103"
      },
      "execution_count": 6,
      "outputs": [
        {
          "output_type": "stream",
          "name": "stdout",
          "text": [
            "[training]: Saved full normalized distorted image info to:\n",
            "tid2013/normalized_distorted_images/training/patch_training.csv.\n",
            "[training]: Saved patch info to tid2013/normalized_distorted_images/training/patch_training.csv.\n",
            "[validation]: Saved full normalized distorted image info to:\n",
            "tid2013/normalized_distorted_images/validation/patch_validation.csv.\n",
            "[validation]: Saved patch info to tid2013/normalized_distorted_images/validation/patch_validation.csv.\n",
            "[test]: Saved full normalized distorted image info to:\n",
            "tid2013/normalized_distorted_images/test/patch_test.csv.\n",
            "[test]: Saved patch info to tid2013/normalized_distorted_images/test/patch_test.csv.\n"
          ]
        }
      ]
    },
    {
      "cell_type": "markdown",
      "source": [
        "#### Normalize and slice to patches"
      ],
      "metadata": {
        "id": "NmPjGksxxYaY"
      }
    },
    {
      "cell_type": "markdown",
      "source": [
        "##### Validate the division"
      ],
      "metadata": {
        "id": "VZ71UCqittHi"
      }
    },
    {
      "cell_type": "code",
      "source": [
        "# Paths to the CSV files\n",
        "norm_training_csv = f'{db_dir}/normalized_distorted_images/training/norm_training.csv'\n",
        "norm_validation_csv = f'{db_dir}/normalized_distorted_images/validation/norm_validation.csv'\n",
        "norm_test_csv = f'{db_dir}/normalized_distorted_images/test/norm_test.csv'\n",
        "\n",
        "# Read the CSV files\n",
        "norm_training_df = pd.read_csv(norm_training_csv)\n",
        "norm_validation_df = pd.read_csv(norm_validation_csv)\n",
        "norm_test_df = pd.read_csv(norm_test_csv)\n",
        "\n",
        "# Extract the lists of filenames\n",
        "training_files = set(norm_training_df['image_filename'])\n",
        "validation_files = set(norm_validation_df['image_filename'])\n",
        "test_files = set(norm_test_df['image_filename'])\n",
        "\n",
        "# Check for common files\n",
        "common_training_validation = training_files.intersection(validation_files)\n",
        "common_training_test = training_files.intersection(test_files)\n",
        "common_validation_test = validation_files.intersection(test_files)\n",
        "\n",
        "# Print the results\n",
        "if not common_training_validation and not common_training_test and not common_validation_test:\n",
        "    print(\"There are no common files between norm_training, norm_validation, and norm_test.\")\n",
        "else:\n",
        "    if common_training_validation:\n",
        "        print(f\"Common files between training and validation: {common_training_validation}\")\n",
        "    if common_training_test:\n",
        "        print(f\"Common files between training and test: {common_training_test}\")\n",
        "    if common_validation_test:\n",
        "        print(f\"Common files between validation and test: {common_validation_test}\")\n"
      ],
      "metadata": {
        "colab": {
          "base_uri": "https://localhost:8080/"
        },
        "id": "AraumYdUj_Ls",
        "outputId": "2251985d-4f08-4f71-b16d-5c840ffbeac8"
      },
      "execution_count": 17,
      "outputs": [
        {
          "output_type": "stream",
          "name": "stdout",
          "text": [
            "There are no common files between norm_training, norm_validation, and norm_test.\n"
          ]
        }
      ]
    },
    {
      "cell_type": "markdown",
      "source": [
        "#### Load data into tensorflow data generators"
      ],
      "metadata": {
        "id": "6tFa7tPXeXMT"
      }
    },
    {
      "cell_type": "code",
      "source": [
        "from tensorflow.keras.preprocessing.image import ImageDataGenerator\n",
        "\n",
        "def create_data_generators(base_dir, train_data, val_data, test_data, batch_size):\n",
        "    datagen = ImageDataGenerator()\n",
        "    train_generator = datagen.flow_from_dataframe(\n",
        "        dataframe=train_data,\n",
        "        directory=os.path.join(base_dir, 'training/patches/'),\n",
        "        x_col='image_filename',\n",
        "        y_col=score_measure,\n",
        "        target_size=(32, 32),\n",
        "        batch_size=batch_size,\n",
        "        class_mode='raw',\n",
        "        shuffle=True,\n",
        "        seed=42\n",
        "    )\n",
        "    val_generator = datagen.flow_from_dataframe(\n",
        "        dataframe=val_data,\n",
        "        directory=os.path.join(base_dir, 'validation/patches/'),\n",
        "        x_col='image_filename',\n",
        "        y_col=score_measure,\n",
        "        target_size=(32, 32),\n",
        "        batch_size=batch_size,\n",
        "        class_mode='raw',\n",
        "        shuffle=True,\n",
        "        seed=42\n",
        "    )\n",
        "    test_generator = datagen.flow_from_dataframe(\n",
        "        dataframe=test_data,\n",
        "        directory=os.path.join(base_dir, 'test/patches/'),\n",
        "        x_col='image_filename',\n",
        "        y_col=score_measure,\n",
        "        target_size=(32, 32),\n",
        "        batch_size=batch_size,\n",
        "        class_mode='raw',\n",
        "        shuffle=False,\n",
        "        seed=42\n",
        "    )\n",
        "    return train_generator, val_generator, test_generator\n",
        "\n",
        "base_dir = f'{db_dir}/normalized_distorted_images'\n",
        "train_generator, val_generator, test_generator = create_data_generators(base_dir, train_data, val_data, test_data, batch_size=32)\n"
      ],
      "metadata": {
        "colab": {
          "base_uri": "https://localhost:8080/"
        },
        "id": "oW39LlfkqsNJ",
        "outputId": "5bb3e750-8fee-4584-f058-b0366e93b314"
      },
      "execution_count": 7,
      "outputs": [
        {
          "output_type": "stream",
          "name": "stdout",
          "text": [
            "Found 57600 validated image filenames.\n",
            "Found 19200 validated image filenames.\n",
            "Found 19200 validated image filenames.\n"
          ]
        }
      ]
    },
    {
      "cell_type": "markdown",
      "source": [
        "## Define and train the model"
      ],
      "metadata": {
        "id": "4NHnpI_vesrH"
      }
    },
    {
      "cell_type": "markdown",
      "source": [
        "#### Network architecture"
      ],
      "metadata": {
        "id": "ATY5cvloe4AO"
      }
    },
    {
      "cell_type": "code",
      "source": [
        "from tensorflow.keras.models import Sequential\n",
        "from tensorflow.keras.layers import Conv2D, GlobalMaxPooling2D, Dense, Dropout\n",
        "\n",
        "def build_model():\n",
        "    model = Sequential([\n",
        "        Conv2D(50, (7, 7), activation='relu', input_shape=(32, 32, 3)), # linear in the paper\n",
        "        GlobalMaxPooling2D(),\n",
        "        Dense(800, activation='relu'),\n",
        "        #Dropout(0.5),  # Add dropout to prevent overfitting\n",
        "        Dense(800, activation='relu'),\n",
        "        Dropout(0.5),  # Add dropout to prevent overfitting\n",
        "        Dense(1, activation='linear')  # Output layer for the quality score\n",
        "    ])\n",
        "    return model\n",
        "\n",
        "model = build_model()\n",
        "model.compile(optimizer='adam', loss='mean_squared_error', metrics=['mean_absolute_error'])\n",
        "model.summary()"
      ],
      "metadata": {
        "id": "f0NZk2e61XQ4",
        "colab": {
          "base_uri": "https://localhost:8080/"
        },
        "outputId": "24b51e20-1e86-448c-8725-7004de6338f4"
      },
      "execution_count": 8,
      "outputs": [
        {
          "output_type": "stream",
          "name": "stdout",
          "text": [
            "Model: \"sequential\"\n",
            "_________________________________________________________________\n",
            " Layer (type)                Output Shape              Param #   \n",
            "=================================================================\n",
            " conv2d (Conv2D)             (None, 26, 26, 50)        7400      \n",
            "                                                                 \n",
            " global_max_pooling2d (Glob  (None, 50)                0         \n",
            " alMaxPooling2D)                                                 \n",
            "                                                                 \n",
            " dense (Dense)               (None, 800)               40800     \n",
            "                                                                 \n",
            " dense_1 (Dense)             (None, 800)               640800    \n",
            "                                                                 \n",
            " dropout (Dropout)           (None, 800)               0         \n",
            "                                                                 \n",
            " dense_2 (Dense)             (None, 1)                 801       \n",
            "                                                                 \n",
            "=================================================================\n",
            "Total params: 689801 (2.63 MB)\n",
            "Trainable params: 689801 (2.63 MB)\n",
            "Non-trainable params: 0 (0.00 Byte)\n",
            "_________________________________________________________________\n"
          ]
        }
      ]
    },
    {
      "cell_type": "markdown",
      "source": [
        "#### Training"
      ],
      "metadata": {
        "id": "QXKdDuPye9nT"
      }
    },
    {
      "cell_type": "code",
      "source": [
        "history = model.fit(train_generator, epochs=3, validation_data=val_generator)"
      ],
      "metadata": {
        "colab": {
          "base_uri": "https://localhost:8080/"
        },
        "id": "4_lntSvq1czn",
        "outputId": "2d699819-d06c-4db4-fc9e-2161ba2d25a5"
      },
      "execution_count": 9,
      "outputs": [
        {
          "output_type": "stream",
          "name": "stdout",
          "text": [
            "Epoch 1/3\n",
            "1800/1800 [==============================] - 51s 28ms/step - loss: 1.7305 - mean_absolute_error: 0.9372 - val_loss: 1.0288 - val_mean_absolute_error: 0.7402\n",
            "Epoch 2/3\n",
            "1800/1800 [==============================] - 49s 27ms/step - loss: 0.9827 - mean_absolute_error: 0.7548 - val_loss: 0.9432 - val_mean_absolute_error: 0.6930\n",
            "Epoch 3/3\n",
            "1800/1800 [==============================] - 48s 27ms/step - loss: 0.9099 - mean_absolute_error: 0.7212 - val_loss: 0.9522 - val_mean_absolute_error: 0.6777\n"
          ]
        }
      ]
    },
    {
      "cell_type": "markdown",
      "source": [
        "## Summarize predictions"
      ],
      "metadata": {
        "id": "ISiuLItZgSne"
      }
    },
    {
      "cell_type": "markdown",
      "source": [
        "#### Predict test data and get labels (DMOS/MOS)"
      ],
      "metadata": {
        "id": "tS2I_1XcghBI"
      }
    },
    {
      "cell_type": "code",
      "source": [
        "test_predictions = model.predict(test_generator)\n",
        "patch_info = test_generator.filenames # get list of test patches\n",
        "image_scores = {}\n",
        "for i, patch_path in enumerate(patch_info):\n",
        "    # Extract the base image name by removing the patch-specific part\n",
        "    base_image_name = \"_\".join(patch_path.split('_')[1:-2]) + '.bmp'\n",
        "    if base_image_name not in image_scores:\n",
        "        image_scores[base_image_name] = []\n",
        "    image_scores[base_image_name].append(test_predictions[i])\n",
        "\n",
        "average_scores = {image: np.mean(scores) for image, scores in image_scores.items()}\n",
        "average_scores_df = pd.DataFrame(list(average_scores.items()), columns=['Image', f'Predicted_{score_measure}'])\n",
        "print(\"Summary of test predictions:\")\n",
        "print(average_scores_df.describe())\n",
        "\n",
        "test_images_score = pd.read_csv(f'{db_dir}/{score_measure.lower()}_with_names.csv')\n",
        "test_images_score.rename(columns={'image_filename':'Image', score_measure:score_measure}, inplace=True)\n",
        "# Force all extensions to be '.bmp' (there are inconsitencies between mos_with_names.txt and actual filename: '.bmp' vs '.BMP')\n",
        "test_images_score['Image'] = test_images_score['Image'].apply(lambda x: x.lower())\n",
        "average_scores_df['Image'] = average_scores_df['Image'].apply(lambda x: x.lower())\n",
        "# Merge dataframes to match predicted mos with ground-truth score\n",
        "merged_df = average_scores_df.merge(test_images_score, on=\"Image\", how=\"inner\")\n",
        "merged_df.rename(columns={f'Predicted_{score_measure}_x': f'Predicted_{score_measure}', f'Predicted_{score_measure}_y': {score_measure}}, inplace=True)\n",
        "print(merged_df)"
      ],
      "metadata": {
        "colab": {
          "base_uri": "https://localhost:8080/"
        },
        "id": "WALGk_xS0em6",
        "outputId": "e3c00759-a1cb-4cfc-ca61-0f5747e5d965"
      },
      "execution_count": 10,
      "outputs": [
        {
          "output_type": "stream",
          "name": "stdout",
          "text": [
            "600/600 [==============================] - 11s 19ms/step\n",
            "Summary of test predictions:\n",
            "       Predicted_MOS\n",
            "count     100.000000\n",
            "mean        4.385120\n",
            "std         1.029896\n",
            "min         2.362621\n",
            "25%         3.584252\n",
            "50%         4.856643\n",
            "75%         5.258489\n",
            "max         5.532938\n",
            "           Image  Predicted_MOS      MOS\n",
            "0   i09_08_3.bmp       3.770106  4.34375\n",
            "1   i09_08_5.bmp       2.435340  2.37500\n",
            "2   i24_01_2.bmp       5.305886  5.05556\n",
            "3   i13_10_4.bmp       4.040310  3.25581\n",
            "4   i03_01_3.bmp       4.903753  4.68421\n",
            "..           ...            ...      ...\n",
            "95  i03_10_5.bmp       2.935618  2.48718\n",
            "96  i24_08_1.bmp       5.384514  5.94444\n",
            "97  i16_10_1.bmp       5.173177  5.90000\n",
            "98  i11_11_1.bmp       5.308196  5.86111\n",
            "99  i20_01_2.bmp       5.323282  5.51282\n",
            "\n",
            "[100 rows x 3 columns]\n"
          ]
        }
      ]
    },
    {
      "cell_type": "markdown",
      "source": [
        "#### Calculate correlations"
      ],
      "metadata": {
        "id": "nPruT9IPiTug"
      }
    },
    {
      "cell_type": "code",
      "source": [
        "from scipy.stats import spearmanr, pearsonr\n",
        "# Drop NaN or inf values if present\n",
        "cleaned_df = merged_df.dropna()\n",
        "cleaned_df = cleaned_df[np.isfinite(cleaned_df[score_measure]) & np.isfinite(cleaned_df[f'Predicted_{score_measure}'])]\n",
        "\n",
        "# Calculate LCC and SROCC\n",
        "lcc = pearsonr(cleaned_df[f'Predicted_{score_measure}'], cleaned_df[score_measure])[0]\n",
        "srocc = spearmanr(cleaned_df[f'Predicted_{score_measure}'], cleaned_df[score_measure])[0]\n",
        "\n",
        "print(f\"LCC (Linear Correlation Coefficient): {lcc}\")\n",
        "print(f\"SROCC (Spearman Rank Order Correlation Coefficient): {srocc}\")"
      ],
      "metadata": {
        "colab": {
          "base_uri": "https://localhost:8080/"
        },
        "id": "S8BCLrn3Mdqe",
        "outputId": "ed8f4ca7-b004-414d-eb83-68f42e38bf51"
      },
      "execution_count": 11,
      "outputs": [
        {
          "output_type": "stream",
          "name": "stdout",
          "text": [
            "LCC (Linear Correlation Coefficient): 0.8751623887908129\n",
            "SROCC (Spearman Rank Order Correlation Coefficient): 0.8450765076507649\n"
          ]
        }
      ]
    },
    {
      "cell_type": "markdown",
      "source": [
        "#### Visualize correletions and training"
      ],
      "metadata": {
        "id": "pXy-sFwPiY0C"
      }
    },
    {
      "cell_type": "code",
      "source": [
        "# Scatter plot with regression line\n",
        "plt.figure(figsize=(10, 6))\n",
        "sns.regplot(x=score_measure, y=f'Predicted_{score_measure}', data=merged_df, scatter_kws={'s': 10}, line_kws={'color': 'red'})\n",
        "plt.xlabel(f'True {score_measure}')\n",
        "plt.ylabel(f'Predicted {score_measure}')\n",
        "plt.title(f'Scatter Plot of True {score_measure} vs Predicted {score_measure}')\n",
        "plt.grid(True)\n",
        "plt.show()\n",
        "\n",
        "y_pred = test_predictions\n",
        "y_true = test_generator.labels\n",
        "# Training progress (loss minimization)\n",
        "plt.figure(figsize=(10, 5))\n",
        "plt.plot(history.history['loss'], label='Loss')\n",
        "plt.plot(history.history['val_loss'], label='Validation Loss')\n",
        "plt.xlabel('Epochs')\n",
        "plt.ylabel('Loss')\n",
        "plt.legend()\n",
        "plt.title('Model Loss')\n",
        "plt.show()"
      ],
      "metadata": {
        "colab": {
          "base_uri": "https://localhost:8080/",
          "height": 1000
        },
        "id": "QnSB-ylXSE-d",
        "outputId": "4fa7a4f4-ea3e-4574-a44b-ab6077e72c86"
      },
      "execution_count": 12,
      "outputs": [
        {
          "output_type": "display_data",
          "data": {
            "text/plain": [
              "<Figure size 1000x600 with 1 Axes>"
            ],
            "image/png": "[encoded data removed]"
          },
          "metadata": {}
        },
        {
          "output_type": "display_data",
          "data": {
            "text/plain": [
              "<Figure size 1000x500 with 1 Axes>"
            ],
            "image/png": "[encoded data removed]"
          },
          "metadata": {}
        }
      ]
    }
  ]
}