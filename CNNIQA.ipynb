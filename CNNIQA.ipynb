{
  "nbformat": 4,
  "nbformat_minor": 0,
  "metadata": {
    "colab": {
      "provenance": [],
      "machine_shape": "hm"
    },
    "kernelspec": {
      "name": "python3",
      "display_name": "Python 3"
    },
    "language_info": {
      "name": "python"
    }
  },
  "cells": [
    {
      "cell_type": "markdown",
      "source": [
        "##Dependencies"
      ],
      "metadata": {
        "id": "VRPrxsbCsDWZ"
      }
    },
    {
      "cell_type": "code",
      "execution_count": null,
      "metadata": {
        "id": "n5adwOYcqrS3",
        "colab": {
          "base_uri": "https://localhost:8080/"
        },
        "outputId": "384a8740-9f8e-4202-df94-7f88bb58b3ec"
      },
      "outputs": [
        {
          "output_type": "stream",
          "name": "stdout",
          "text": [
            "Reading package lists... Done\n",
            "Building dependency tree... Done\n",
            "Reading state information... Done\n",
            "unrar is already the newest version (1:6.1.5-1).\n",
            "0 upgraded, 0 newly installed, 0 to remove and 45 not upgraded.\n"
          ]
        }
      ],
      "source": [
        "import tensorflow as tf\n",
        "from tensorflow.keras.preprocessing.image import ImageDataGenerator\n",
        "from tensorflow.keras.preprocessing.image import load_img, img_to_array\n",
        "from sklearn.model_selection import train_test_split\n",
        "from sklearn.preprocessing import LabelEncoder\n",
        "from sklearn.metrics import confusion_matrix, ConfusionMatrixDisplay\n",
        "import numpy as np\n",
        "import scipy\n",
        "import pandas as pd\n",
        "import os\n",
        "import matplotlib.pyplot as plt\n",
        "import cv2\n",
        "\n",
        "!apt-get install unrar"
      ]
    },
    {
      "cell_type": "markdown",
      "source": [
        "### Download and extract dataset"
      ],
      "metadata": {
        "id": "EAyOHVzksLdr"
      }
    },
    {
      "cell_type": "code",
      "source": [
        "!wget https://www.ponomarenko.info/tid2013/tid2013.rar # tid2013\n"
      ],
      "metadata": {
        "collapsed": true,
        "id": "8D30b-aernpn",
        "colab": {
          "base_uri": "https://localhost:8080/"
        },
        "outputId": "f8a4ef73-1151-4107-cd61-efd6f1f3a531"
      },
      "execution_count": null,
      "outputs": [
        {
          "output_type": "stream",
          "name": "stdout",
          "text": [
            "--2024-05-30 11:13:32--  https://www.ponomarenko.info/tid2013/tid2013.rar\n",
            "Resolving www.ponomarenko.info (www.ponomarenko.info)... 154.62.106.34, 2a02:4780:1e:322f:b339:a4a:671c:9ac\n",
            "Connecting to www.ponomarenko.info (www.ponomarenko.info)|154.62.106.34|:443... connected.\n",
            "HTTP request sent, awaiting response... 200 OK\n",
            "Length: 957680241 (913M) [application/x-rar-compressed]\n",
            "Saving to: ‘tid2013.rar’\n",
            "\n",
            "tid2013.rar         100%[===================>] 913.31M   151MB/s    in 94s     \n",
            "\n",
            "2024-05-30 11:15:07 (9.68 MB/s) - ‘tid2013.rar’ saved [957680241/957680241]\n",
            "\n"
          ]
        }
      ]
    },
    {
      "cell_type": "code",
      "source": [
        "!mkdir -p '/content/tid2013'\n",
        "!unrar x -inul '/content/tid2013.rar' '/content/tid2013'\n",
        "!rm '/content/tid2013.rar'"
      ],
      "metadata": {
        "id": "bVU2r4DRsoKF",
        "collapsed": true
      },
      "execution_count": null,
      "outputs": []
    },
    {
      "cell_type": "markdown",
      "source": [
        "Reset directory if needed"
      ],
      "metadata": {
        "id": "QHlo-4qMdRSm"
      }
    },
    {
      "cell_type": "code",
      "source": [
        "!rm -r '/content/tid2013/patches'\n",
        "!rm -r '/content/tid2013/patch_mos_with_names.csv'"
      ],
      "metadata": {
        "id": "-OEtoDjh0oBh"
      },
      "execution_count": null,
      "outputs": []
    },
    {
      "cell_type": "markdown",
      "source": [
        "##Preprocessing"
      ],
      "metadata": {
        "id": "vs7fpMeDsN-W"
      }
    },
    {
      "cell_type": "markdown",
      "source": [
        "#### Normalization and patch-slicing"
      ],
      "metadata": {
        "id": "YqXAjZnncz7t"
      }
    },
    {
      "cell_type": "code",
      "source": [
        "from scipy.signal import convolve2d\n",
        "from scipy.ndimage import convolve\n",
        "\n",
        "def my_normalize(image, kernel_size=3, C=1):\n",
        "    kernel = np.ones((kernel_size, kernel_size), dtype=np.float32)\n",
        "    pad_size = kernel_size // 2\n",
        "    sum_image = convolve(image, kernel, mode='constant', cval=0)\n",
        "    std_image = np.zeros_like(image, dtype=np.float32)\n",
        "\n",
        "    def get_window_sum(i, j):\n",
        "        i_min, i_max = max(i - pad_size, 0), min(i + pad_size + 1, image.shape[0])\n",
        "        j_min, j_max = max(j - pad_size, 0), min(j + pad_size + 1, image.shape[1])\n",
        "        window = (image[i_min:i_max, j_min:j_max] - sum_image[i, j])**2\n",
        "        return np.sqrt(np.sum(window * kernel[0:(i_max - i_min), 0:(j_max - j_min)]))\n",
        "\n",
        "    for i in range(image.shape[0]):\n",
        "        for j in range(image.shape[1]):\n",
        "            std_image[i, j] = get_window_sum(i, j)\n",
        "\n",
        "    normalized_image = (image-sum_image)/(std_image+C)\n",
        "    return normalized_image\n",
        "\n",
        "def simple_normalize(image):\n",
        "    image = image.astype('float32')\n",
        "    mean = np.mean(image, axis=(0, 1, 2), keepdims=True)\n",
        "    std = np.std(image, axis=(0, 1, 2), keepdims=True)\n",
        "    return (image - mean) / (std + 1e-7)\n",
        "\n",
        "def liqd92_normalize(patch, P=3, Q=3, C=1):\n",
        "    kernel = np.ones((P, Q)) / (P * Q)\n",
        "    patch_mean = convolve2d(patch, kernel, boundary='symm', mode='same')\n",
        "    patch_sm = convolve2d(np.square(patch), kernel, boundary='symm', mode='same')\n",
        "    patch_std = np.sqrt(np.maximum(patch_sm - np.square(patch_mean), 0)) + C\n",
        "    patch_ln = (patch - patch_mean) / patch_std\n",
        "    return patch_ln.astype('float32')\n",
        "\n",
        "def filter_distortions(filename):\n",
        "    parts = filename.split('_')\n",
        "    if len(parts) == 3:\n",
        "        distortion_type = int(parts[1])\n",
        "        return distortion_type in [1, 8, 10, 11]\n",
        "    return False"
      ],
      "metadata": {
        "id": "uvzrUPc3zlMM"
      },
      "execution_count": null,
      "outputs": []
    },
    {
      "cell_type": "code",
      "source": [
        "# Read and filter data, create target directory\n",
        "file_list_path = \"tid2013/mos_with_names.txt\"\n",
        "file_list = pd.read_csv(file_list_path, header=None, delimiter=' ')\n",
        "file_list = file_list[file_list[1].apply(filter_distortions)] # filter distortion: jp2k, jpeg, wn and blur\n",
        "\n",
        "output_dir = \"tid2013/patches\"\n",
        "os.makedirs(output_dir, exist_ok=True)\n",
        "\n",
        "patch_info_list = []\n",
        "for index, row in file_list.iterrows():\n",
        "    mos_value = row[0]\n",
        "    image_name = row[1]\n",
        "\n",
        "    image_path = \"tid2013/distorted_images/\" + image_name\n",
        "    image = cv2.imread(image_path)\n",
        "    if image is None:\n",
        "        print(f\"Failed to load image: {image_name}\")\n",
        "        continue\n",
        "\n",
        "    # Normalize the image\n",
        "    image_gray = cv2.cvtColor(image, cv2.COLOR_BGR2GRAY)\n",
        "    image_normalized = liqd92_normalize(image_gray)\n",
        "    image_normalized_rgb = cv2.cvtColor(image_normalized, cv2.COLOR_GRAY2BGR)\n",
        "\n",
        "    height, width = image.shape[:2]\n",
        "    patch_size = 32\n",
        "    num_patches_y = height // patch_size\n",
        "    num_patches_x = width // patch_size\n",
        "    # Extract and save patches\n",
        "    patch_count = 0\n",
        "    for i in range(num_patches_y):\n",
        "        for j in range(num_patches_x):\n",
        "            patch = image_normalized_rgb[i*patch_size:(i+1)*patch_size, j*patch_size:(j+1)*patch_size]\n",
        "            patch_path = os.path.join(output_dir, f\"{os.path.splitext(image_name)[0]}_patch_{patch_count}.bmp\")\n",
        "            patch_filename = f\"{os.path.splitext(image_name)[0]}_patch_{patch_count}.bmp\"\n",
        "            cv2.imwrite(patch_path, patch)\n",
        "\n",
        "            # Add patch info to the list\n",
        "            patch_info_list.append([mos_value, patch_filename])\n",
        "            patch_count += 1\n",
        "\n",
        "    #print(f\"Saved {patch_count} patches for image {image_name} to the '{output_dir}' directory.\")\n",
        "\n",
        "patch_info_df = pd.DataFrame(patch_info_list, columns=['MOS', 'image_path'])\n",
        "patch_info_df.to_csv('tid2013/patch_mos_with_names.csv', index=False)\n",
        "print(\"Saved patch information to 'patch_mos_with_names.csv'.\")\n"
      ],
      "metadata": {
        "colab": {
          "base_uri": "https://localhost:8080/"
        },
        "id": "KZx_DXvvc0YO",
        "outputId": "04544e89-7c31-41d3-97f3-7afa36036330"
      },
      "execution_count": null,
      "outputs": [
        {
          "output_type": "stream",
          "name": "stdout",
          "text": [
            "Saved patch information to 'patch_mos_with_names.csv'.\n"
          ]
        }
      ]
    },
    {
      "cell_type": "markdown",
      "source": [
        "#### Divide data and load it to tensorflow data generators"
      ],
      "metadata": {
        "id": "6tFa7tPXeXMT"
      }
    },
    {
      "cell_type": "code",
      "source": [
        "def load_data(base_dir):\n",
        "    data_path = os.path.join(base_dir, 'patch_mos_with_names.csv')\n",
        "    data = pd.read_csv(data_path)\n",
        "    return data\n",
        "\n",
        "def split_data(data):\n",
        "    train_data, test_data = train_test_split(data, test_size=0.2, random_state=42)\n",
        "    train_data, val_data = train_test_split(train_data, test_size=0.25, random_state=42)\n",
        "    return train_data, val_data, test_data\n",
        "\n",
        "\n",
        "def create_data_generators(base_dir, train_data, val_data, test_data, batch_size):\n",
        "    datagen = ImageDataGenerator()\n",
        "\n",
        "    train_generator = datagen.flow_from_dataframe(\n",
        "        dataframe=train_data,\n",
        "        directory=os.path.join(base_dir, 'patches'),\n",
        "        x_col='image_path',\n",
        "        y_col='MOS',\n",
        "        target_size=(32, 32),\n",
        "        batch_size=batch_size,\n",
        "        class_mode='raw',\n",
        "        shuffle=True,\n",
        "        seed=42\n",
        "    )\n",
        "\n",
        "    val_generator = datagen.flow_from_dataframe(\n",
        "        dataframe=val_data,\n",
        "        directory=os.path.join(base_dir, 'patches'),\n",
        "        x_col='image_path',\n",
        "        y_col='MOS',\n",
        "        target_size=(32, 32),\n",
        "        batch_size=batch_size,\n",
        "        class_mode='raw',\n",
        "        shuffle=True,\n",
        "        seed=42\n",
        "    )\n",
        "\n",
        "    test_generator = datagen.flow_from_dataframe(\n",
        "        dataframe=test_data,\n",
        "        directory=os.path.join(base_dir, 'patches'),\n",
        "        x_col='image_path',\n",
        "        y_col='MOS',\n",
        "        target_size=(32, 32),\n",
        "        batch_size=batch_size,\n",
        "        class_mode='raw',\n",
        "        shuffle=False,\n",
        "        seed=42\n",
        "    )\n",
        "\n",
        "    return train_generator, val_generator, test_generator\n",
        "\n",
        "# Załaduj dane i podziel je\n",
        "base_dir = 'tid2013'\n",
        "data = load_data(base_dir)\n",
        "train_data, val_data, test_data = split_data(data)\n",
        "\n",
        "train_generator, val_generator, test_generator = create_data_generators(base_dir, train_data, val_data, test_data, batch_size=32)\n"
      ],
      "metadata": {
        "colab": {
          "base_uri": "https://localhost:8080/"
        },
        "id": "oW39LlfkqsNJ",
        "outputId": "b8bc6927-d523-4f3a-8cdc-cbd1fe9c450c"
      },
      "execution_count": null,
      "outputs": [
        {
          "output_type": "stream",
          "name": "stdout",
          "text": [
            "Found 57600 validated image filenames.\n",
            "Found 19200 validated image filenames.\n",
            "Found 19200 validated image filenames.\n"
          ]
        }
      ]
    },
    {
      "cell_type": "markdown",
      "source": [
        "## Define and train the model"
      ],
      "metadata": {
        "id": "4NHnpI_vesrH"
      }
    },
    {
      "cell_type": "markdown",
      "source": [
        "#### Network architecture"
      ],
      "metadata": {
        "id": "ATY5cvloe4AO"
      }
    },
    {
      "cell_type": "code",
      "source": [
        "from tensorflow.keras.models import Sequential\n",
        "from tensorflow.keras.layers import Conv2D, GlobalMaxPooling2D, Flatten, Dense, Dropout\n",
        "\n",
        "def build_model():\n",
        "    model = Sequential([\n",
        "        Conv2D(50, (7, 7), activation='relu', input_shape=(32, 32, 3)), # linear in the paper\n",
        "        GlobalMaxPooling2D(),\n",
        "        Dense(800, activation='relu'),\n",
        "        #Dropout(0.5),  # Add dropout to prevent overfitting\n",
        "        Dense(800, activation='relu'),\n",
        "        Dropout(0.5),  # Add dropout to prevent overfitting\n",
        "        Dense(1, activation='linear')  # Output layer for the quality score\n",
        "    ])\n",
        "    return model\n",
        "\n",
        "# Budowanie modelu\n",
        "model = build_model()\n",
        "model.compile(optimizer='adam', loss='mean_squared_error', metrics=['mean_absolute_error'])\n",
        "model.summary()"
      ],
      "metadata": {
        "id": "f0NZk2e61XQ4",
        "colab": {
          "base_uri": "https://localhost:8080/"
        },
        "outputId": "1a3eee5c-9f5c-4a67-cbf5-a199bb92bde6"
      },
      "execution_count": null,
      "outputs": [
        {
          "output_type": "stream",
          "name": "stdout",
          "text": [
            "Model: \"sequential_1\"\n",
            "_________________________________________________________________\n",
            " Layer (type)                Output Shape              Param #   \n",
            "=================================================================\n",
            " conv2d_4 (Conv2D)           (None, 26, 26, 50)        7400      \n",
            "                                                                 \n",
            " global_max_pooling2d_4 (Gl  (None, 50)                0         \n",
            " obalMaxPooling2D)                                               \n",
            "                                                                 \n",
            " dense_12 (Dense)            (None, 800)               40800     \n",
            "                                                                 \n",
            " dense_13 (Dense)            (None, 800)               640800    \n",
            "                                                                 \n",
            " dropout_4 (Dropout)         (None, 800)               0         \n",
            "                                                                 \n",
            " dense_14 (Dense)            (None, 1)                 801       \n",
            "                                                                 \n",
            "=================================================================\n",
            "Total params: 689801 (2.63 MB)\n",
            "Trainable params: 689801 (2.63 MB)\n",
            "Non-trainable params: 0 (0.00 Byte)\n",
            "_________________________________________________________________\n"
          ]
        }
      ]
    },
    {
      "cell_type": "markdown",
      "source": [
        "#### Training"
      ],
      "metadata": {
        "id": "QXKdDuPye9nT"
      }
    },
    {
      "cell_type": "code",
      "source": [
        "history = model.fit(train_generator, epochs=10, validation_data=val_generator)"
      ],
      "metadata": {
        "colab": {
          "base_uri": "https://localhost:8080/"
        },
        "id": "4_lntSvq1czn",
        "outputId": "d0ac9f6a-0796-4285-df05-2955edf53420"
      },
      "execution_count": null,
      "outputs": [
        {
          "output_type": "stream",
          "name": "stdout",
          "text": [
            "Epoch 1/10\n",
            "1800/1800 [==============================] - 35s 19ms/step - loss: 1.6945 - mean_absolute_error: 0.9273 - val_loss: 0.8841 - val_mean_absolute_error: 0.6992\n",
            "Epoch 2/10\n",
            "1800/1800 [==============================] - 33s 19ms/step - loss: 0.9680 - mean_absolute_error: 0.7475 - val_loss: 0.8609 - val_mean_absolute_error: 0.6942\n",
            "Epoch 3/10\n",
            "1800/1800 [==============================] - 33s 18ms/step - loss: 0.9224 - mean_absolute_error: 0.7227 - val_loss: 0.8737 - val_mean_absolute_error: 0.6857\n",
            "Epoch 4/10\n",
            "1800/1800 [==============================] - 34s 19ms/step - loss: 0.8652 - mean_absolute_error: 0.6950 - val_loss: 0.7599 - val_mean_absolute_error: 0.6373\n",
            "Epoch 5/10\n",
            "1800/1800 [==============================] - 33s 18ms/step - loss: 0.8099 - mean_absolute_error: 0.6693 - val_loss: 0.7563 - val_mean_absolute_error: 0.6417\n",
            "Epoch 6/10\n",
            "1800/1800 [==============================] - 35s 19ms/step - loss: 0.7627 - mean_absolute_error: 0.6460 - val_loss: 0.7226 - val_mean_absolute_error: 0.6140\n",
            "Epoch 7/10\n",
            "1800/1800 [==============================] - 35s 19ms/step - loss: 0.7422 - mean_absolute_error: 0.6343 - val_loss: 0.7057 - val_mean_absolute_error: 0.6103\n",
            "Epoch 8/10\n",
            "1800/1800 [==============================] - 34s 19ms/step - loss: 0.7103 - mean_absolute_error: 0.6185 - val_loss: 0.6955 - val_mean_absolute_error: 0.5995\n",
            "Epoch 9/10\n",
            "1800/1800 [==============================] - 36s 20ms/step - loss: 0.7167 - mean_absolute_error: 0.6192 - val_loss: 0.6810 - val_mean_absolute_error: 0.5961\n",
            "Epoch 10/10\n",
            "1800/1800 [==============================] - 34s 19ms/step - loss: 0.6900 - mean_absolute_error: 0.6090 - val_loss: 0.6699 - val_mean_absolute_error: 0.5871\n"
          ]
        }
      ]
    },
    {
      "cell_type": "markdown",
      "source": [
        "## Summarize predictions"
      ],
      "metadata": {
        "id": "ISiuLItZgSne"
      }
    },
    {
      "cell_type": "markdown",
      "source": [
        "#### Predict test data and get labels (MOS)"
      ],
      "metadata": {
        "id": "tS2I_1XcghBI"
      }
    },
    {
      "cell_type": "code",
      "source": [
        "test_predictions = model.predict(test_generator)\n",
        "print(\"Summary of test predictions:\")\n",
        "print(pd.Series(test_predictions.flatten()).describe())\n",
        "\n",
        "patch_info = test_generator.filenames # get list of test patches\n",
        "image_scores = {}\n",
        "for i, patch_path in enumerate(patch_info):\n",
        "    # Extract the base image name by removing the patch-specific part\n",
        "    base_image_name = \"_\".join(patch_path.split('_')[:-2]) + '.bmp'\n",
        "    if base_image_name not in image_scores:\n",
        "        image_scores[base_image_name] = []\n",
        "    image_scores[base_image_name].append(test_predictions[i])\n",
        "\n",
        "average_scores = {image: np.mean(scores) for image, scores in image_scores.items()}\n",
        "# Save the predicted_mos and mos to a DataFrame\n",
        "average_scores_df = pd.DataFrame(list(average_scores.items()), columns=['Image', 'Predicted_MOS'])\n",
        "test_images_mos = pd.read_csv('tid2013/mos_with_names.txt', header=None, delimiter=' ', names=[\"Predicted_MOS\", \"Image\"])\n",
        "test_images_mos = pd.DataFrame(test_images_mos)\n",
        "# Merge dataframes to match predicted mos with ground-truth mos\n",
        "test_images_mos = average_scores_df.merge(test_images_mos, on=\"Image\", how=\"inner\")\n",
        "test_images_mos.rename(columns={'Predicted_MOS_x': 'Predicted_MOS', 'Predicted_MOS_y': 'MOS'}, inplace=True)\n",
        "\n",
        "print(test_images_mos)"
      ],
      "metadata": {
        "colab": {
          "base_uri": "https://localhost:8080/"
        },
        "id": "WALGk_xS0em6",
        "outputId": "66db2005-5d6f-4d2c-db86-aa53fe6a4ac3"
      },
      "execution_count": null,
      "outputs": [
        {
          "output_type": "stream",
          "name": "stdout",
          "text": [
            "600/600 [==============================] - 6s 10ms/step\n",
            "Summary of test predictions:\n",
            "count    19200.000000\n",
            "mean         4.261289\n",
            "std          1.147610\n",
            "min          0.453942\n",
            "25%          3.153841\n",
            "50%          4.504920\n",
            "75%          5.359562\n",
            "max          6.206980\n",
            "dtype: float64\n",
            "            Image  Predicted_MOS      MOS\n",
            "0    i22_10_4.bmp       3.400089  3.58974\n",
            "1    i19_10_5.bmp       2.781352  1.65789\n",
            "2    i13_08_3.bmp       4.215619  3.12195\n",
            "3    i25_10_5.bmp       3.313796  1.47222\n",
            "4    i05_11_4.bmp       4.355170  3.66667\n",
            "..            ...            ...      ...\n",
            "470  I06_01_1.bmp       5.299102  5.75676\n",
            "471  i02_10_1.bmp       5.496158  6.00000\n",
            "472  i25_08_3.bmp       3.659657  4.29412\n",
            "473  i12_08_2.bmp       5.307358  5.47368\n",
            "474  i01_11_4.bmp       3.944767  3.67568\n",
            "\n",
            "[475 rows x 3 columns]\n"
          ]
        }
      ]
    },
    {
      "cell_type": "markdown",
      "source": [
        "#### Calculate correlations"
      ],
      "metadata": {
        "id": "nPruT9IPiTug"
      }
    },
    {
      "cell_type": "code",
      "source": [
        "from scipy.stats import spearmanr, pearsonr\n",
        "# Drop NaN or inf values if present\n",
        "\n",
        "test_images_mos = test_images_mos.dropna()\n",
        "test_images_mos = test_images_mos[np.isfinite(test_images_mos['MOS']) & np.isfinite(test_images_mos['Predicted_MOS'])]\n",
        "\n",
        "lcc = pearsonr(test_images_mos['Predicted_MOS'], test_images_mos['MOS'])[0]\n",
        "srocc = spearmanr(test_images_mos['Predicted_MOS'], test_images_mos['MOS'])[0]\n",
        "\n",
        "print(f\"LCC (Linear Correlation Coefficient): {lcc}\")\n",
        "print(f\"SROCC (Spearman Rank Order Correlation Coefficient): {srocc}\")"
      ],
      "metadata": {
        "colab": {
          "base_uri": "https://localhost:8080/"
        },
        "id": "S8BCLrn3Mdqe",
        "outputId": "82c721dc-5f13-40ae-c423-71a11931e43f"
      },
      "execution_count": null,
      "outputs": [
        {
          "output_type": "stream",
          "name": "stdout",
          "text": [
            "LCC (Linear Correlation Coefficient): 0.916985785556618\n",
            "SROCC (Spearman Rank Order Correlation Coefficient): 0.9170608889422314\n"
          ]
        }
      ]
    },
    {
      "cell_type": "markdown",
      "source": [
        "#### Visualize correletions and training"
      ],
      "metadata": {
        "id": "pXy-sFwPiY0C"
      }
    },
    {
      "cell_type": "code",
      "source": [
        "import matplotlib.pyplot as plt\n",
        "import seaborn as sns\n",
        "# Scatter plot with regression line\n",
        "plt.figure(figsize=(10, 6))\n",
        "sns.regplot(x='MOS', y='Predicted_MOS', data=test_images_mos, scatter_kws={'s': 10}, line_kws={'color': 'red'})\n",
        "plt.xlabel('True MOS')\n",
        "plt.ylabel('Predicted MOS')\n",
        "plt.title('Scatter Plot of True MOS vs Predicted MOS')\n",
        "plt.grid(True)\n",
        "plt.show()\n",
        "\n",
        "y_pred = test_predictions\n",
        "y_true = test_generator.labels\n",
        "# Training progress (loss minimization)\n",
        "plt.figure(figsize=(10, 5))\n",
        "plt.plot(history.history['loss'], label='Loss')\n",
        "plt.plot(history.history['val_loss'], label='Validation Loss')\n",
        "plt.xlabel('Epochs')\n",
        "plt.ylabel('Loss')\n",
        "plt.legend()\n",
        "plt.title('Model Loss')\n",
        "plt.show()"
      ],
      "metadata": {
        "colab": {
          "base_uri": "https://localhost:8080/",
          "height": 1000
        },
        "id": "QnSB-ylXSE-d",
        "outputId": "469e864d-a469-4145-d695-77ba0502efd1"
      },
      "execution_count": null,
      "outputs": [
        {
          "output_type": "display_data",
          "data": {
            "text/plain": [
              "<Figure size 1000x600 with 1 Axes>"
            ],
            "image/png": "[encoded data removed]"
          },
          "metadata": {}
        },
        {
          "output_type": "display_data",
          "data": {
            "text/plain": [
              "<Figure size 1000x500 with 1 Axes>"
            ],
            "image/png": "[encoded data removed]"
          },
          "metadata": {}
        }
      ]
    }
  ]
}