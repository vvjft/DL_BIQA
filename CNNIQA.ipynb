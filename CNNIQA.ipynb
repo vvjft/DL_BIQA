{
  "nbformat": 4,
  "nbformat_minor": 0,
  "metadata": {
    "colab": {
      "provenance": [],
      "machine_shape": "hm",
      "authorship_tag": "ABX9TyOVAF1ZPPc4S3SF+6EJaFWz",
      "include_colab_link": true
    },
    "kernelspec": {
      "name": "python3",
      "display_name": "Python 3"
    },
    "language_info": {
      "name": "python"
    }
  },
  "cells": [
    {
      "cell_type": "markdown",
      "metadata": {
        "id": "view-in-github",
        "colab_type": "text"
      },
      "source": [
        "<a href=\"https://colab.research.google.com/github/vvjft/DL_BIQA/blob/main/CNNIQA.ipynb\" target=\"_parent\"><img src=\"https://colab.research.google.com/assets/colab-badge.svg\" alt=\"Open In Colab\"/></a>"
      ]
    },
    {
      "cell_type": "markdown",
      "source": [
        "##Dependencies"
      ],
      "metadata": {
        "id": "VRPrxsbCsDWZ"
      }
    },
    {
      "cell_type": "code",
      "execution_count": 1,
      "metadata": {
        "id": "n5adwOYcqrS3",
        "colab": {
          "base_uri": "https://localhost:8080/"
        },
        "outputId": "342166a2-5a6a-467c-bc30-80c170a20559"
      },
      "outputs": [
        {
          "output_type": "stream",
          "name": "stdout",
          "text": [
            "Reading package lists... Done\n",
            "Building dependency tree... Done\n",
            "Reading state information... Done\n",
            "unrar is already the newest version (1:6.1.5-1).\n",
            "0 upgraded, 0 newly installed, 0 to remove and 45 not upgraded.\n"
          ]
        }
      ],
      "source": [
        "import tensorflow as tf\n",
        "import numpy as np\n",
        "import scipy\n",
        "import pandas as pd\n",
        "import os\n",
        "import matplotlib.pyplot as plt\n",
        "import seaborn as sns\n",
        "import cv2\n",
        "\n",
        "!apt-get install unrar"
      ]
    },
    {
      "cell_type": "markdown",
      "source": [
        "### Download and extract dataset"
      ],
      "metadata": {
        "id": "EAyOHVzksLdr"
      }
    },
    {
      "cell_type": "code",
      "source": [
        "!wget https://www.ponomarenko.info/tid2013/tid2013.rar # tid2013\n"
      ],
      "metadata": {
        "collapsed": true,
        "id": "8D30b-aernpn",
        "colab": {
          "base_uri": "https://localhost:8080/"
        },
        "outputId": "8ffe2d63-78c8-441e-86d1-1d45256710bc"
      },
      "execution_count": 2,
      "outputs": [
        {
          "output_type": "stream",
          "name": "stdout",
          "text": [
            "--2024-05-31 14:34:05--  https://www.ponomarenko.info/tid2013/tid2013.rar\n",
            "Resolving www.ponomarenko.info (www.ponomarenko.info)... 191.101.228.102, 2a02:4780:39:7345:b1ff:b3ee:37c8:d619\n",
            "Connecting to www.ponomarenko.info (www.ponomarenko.info)|191.101.228.102|:443... connected.\n",
            "HTTP request sent, awaiting response... 200 OK\n",
            "Length: 957680241 (913M) [application/x-rar-compressed]\n",
            "Saving to: ‘tid2013.rar’\n",
            "\n",
            "tid2013.rar         100%[===================>] 913.31M  49.7MB/s    in 17s     \n",
            "\n",
            "2024-05-31 14:34:24 (53.0 MB/s) - ‘tid2013.rar’ saved [957680241/957680241]\n",
            "\n"
          ]
        }
      ]
    },
    {
      "cell_type": "code",
      "source": [
        "!mkdir -p '/content/tid2013'\n",
        "!unrar x -inul '/content/tid2013.rar' '/content/tid2013'\n",
        "!rm '/content/tid2013.rar'\n",
        "!rm -r '/content/tid2013/metrics_values'\n",
        "!rm -r '/content/tid2013/papers'\n",
        "!rm '/content/tid2013/readme'\n",
        "!rm -r '/content/sample_data'"
      ],
      "metadata": {
        "id": "bVU2r4DRsoKF",
        "collapsed": true
      },
      "execution_count": 3,
      "outputs": []
    },
    {
      "cell_type": "markdown",
      "source": [
        "Reset directory if needed"
      ],
      "metadata": {
        "id": "QHlo-4qMdRSm"
      }
    },
    {
      "cell_type": "code",
      "source": [
        "#!rm -r '/content/tid2013'\n",
        "#!rm -r '/content/tid2013/patch_mos_with_names.csv'"
      ],
      "metadata": {
        "id": "-OEtoDjh0oBh"
      },
      "execution_count": 7,
      "outputs": []
    },
    {
      "cell_type": "markdown",
      "source": [
        "##Preprocessing"
      ],
      "metadata": {
        "id": "vs7fpMeDsN-W"
      }
    },
    {
      "cell_type": "markdown",
      "source": [
        "#### Divide dataset"
      ],
      "metadata": {
        "id": "p0CPxppSxUOU"
      }
    },
    {
      "cell_type": "code",
      "source": [
        "from sklearn.model_selection import train_test_split\n",
        "\n",
        "def load_data(base_dir):\n",
        "    data_path = os.path.join(base_dir, 'mos_with_names.txt')\n",
        "    data = pd.read_csv(data_path, header=None, delimiter=' ')\n",
        "    distortion_types = [1, 8, 10, 11] # filter distortions: wn, blur, jpeg and jp2k\n",
        "    filtered_data = data[data[1].apply(lambda x: int(x.split('_')[1]) in distortion_types)]\n",
        "    filtered_data.columns = ['MOS', 'image_filename']\n",
        "    return filtered_data\n",
        "\n",
        "def split_data(data):\n",
        "    train_data, test_data = train_test_split(data, test_size=0.2, random_state=42)\n",
        "    train_data, val_data = train_test_split(train_data, test_size=0.25, random_state=42)\n",
        "    return train_data, val_data, test_data\n",
        "\n",
        "# Załaduj dane i podziel je\n",
        "base_dir = 'tid2013'\n",
        "data = load_data(base_dir)\n",
        "data.to_csv('tid2013/filtered_mos_with_names.csv')\n",
        "train_data, val_data, test_data = split_data(data)"
      ],
      "metadata": {
        "id": "p0mKJcdDHQAI"
      },
      "execution_count": 4,
      "outputs": []
    },
    {
      "cell_type": "markdown",
      "source": [
        "#### Normalize and slice to patches"
      ],
      "metadata": {
        "id": "NmPjGksxxYaY"
      }
    },
    {
      "cell_type": "code",
      "source": [
        "from scipy.signal import convolve2d\n",
        "def liqd92_normalize(patch, P=3, Q=3, C=1):\n",
        "    kernel = np.ones((P, Q)) / (P * Q)\n",
        "    patch_mean = convolve2d(patch, kernel, boundary='symm', mode='same')\n",
        "    patch_sm = convolve2d(np.square(patch), kernel, boundary='symm', mode='same')\n",
        "    patch_std = np.sqrt(np.maximum(patch_sm - np.square(patch_mean), 0)) + C\n",
        "    patch_ln = (patch - patch_mean) / patch_std\n",
        "    return patch_ln.astype('float32')\n",
        "\n",
        "sets = {'train': [train_data, 'training'], 'val':[val_data, 'validation'], 'test':[test_data, 'test']}\n",
        "input_dir = 'tid2013/distorted_images/'\n",
        "\n",
        "for key, (data, name) in sets.items():\n",
        "\n",
        "  output_dir_full = f'tid2013/normalized_distorted_images/{name}/full/' # where to store normalized distorted images\n",
        "  output_dir_patches = f'tid2013/normalized_distorted_images/{name}/patches/' # where to store patches\n",
        "  norm_file_info_path = f'tid2013/normalized_distorted_images/{name}/norm_{name}.csv'\n",
        "  patch_file_info_path = f'tid2013/normalized_distorted_images/{name}/patch_{name}.csv'\n",
        "  os.makedirs(output_dir_full, exist_ok=True)\n",
        "  os.makedirs(output_dir_patches, exist_ok=True)\n",
        "\n",
        "  norm_info_list = []\n",
        "  patch_info_list = []\n",
        "  for index, row in data.iterrows():\n",
        "      mos_value = row[0]\n",
        "      image_filename = row[1]\n",
        "      image_path = input_dir + image_filename\n",
        "      image = cv2.imread(image_path)\n",
        "      if image is None:\n",
        "          print(f\"Failed to load image: {image_filename}\")\n",
        "          continue\n",
        "      # Normalize the image\n",
        "      image_gray = cv2.cvtColor(image, cv2.COLOR_BGR2GRAY)\n",
        "      image_normalized = liqd92_normalize(image_gray)\n",
        "      image_normalized = cv2.cvtColor(image_normalized, cv2.COLOR_GRAY2BGR)\n",
        "      # Save\n",
        "      image_filename = \"NORM_\"+image_filename\n",
        "      norm_info_list.append([image_filename, mos_value])\n",
        "      cv2.imwrite(output_dir_full+image_filename, image_normalized)\n",
        "      # Slice to patches\n",
        "      height, width = image_normalized.shape[:2]\n",
        "      patch_size = 32\n",
        "      num_patches_y = height // patch_size\n",
        "      num_patches_x = width // patch_size\n",
        "      patch_count = 0\n",
        "      for i in range(num_patches_y):\n",
        "          for j in range(num_patches_x):\n",
        "              patch = image_normalized[i*patch_size:(i+1)*patch_size, j*patch_size:(j+1)*patch_size]\n",
        "              patch_path = os.path.join(output_dir_patches, f\"{os.path.splitext(image_filename)[0]}_patch_{patch_count}.bmp\")\n",
        "              patch_filename = f\"{os.path.splitext(image_filename)[0]}_patch_{patch_count}.bmp\"\n",
        "              cv2.imwrite(patch_path, patch)\n",
        "              # Add patch info to the list\n",
        "              patch_info_list.append([patch_filename, mos_value])\n",
        "              patch_count += 1\n",
        "\n",
        "  norm_info_df = pd.DataFrame(norm_info_list, columns=['image_filename', 'MOS'])\n",
        "  norm_info_df.to_csv(norm_file_info_path, index=False)\n",
        "  print(f\"[{name}]: Saved full normalized distorted image info to:\\n{patch_file_info_path}.\")\n",
        "  patch_info_df = pd.DataFrame(patch_info_list, columns=['image_filename', 'MOS'])\n",
        "  patch_info_df.to_csv(patch_file_info_path, index=False)\n",
        "  print(f\"[{name}]: Saved patch info to {patch_file_info_path}.\")\n"
      ],
      "metadata": {
        "colab": {
          "base_uri": "https://localhost:8080/"
        },
        "id": "HORzxa5RLJQV",
        "outputId": "e30ccf81-863c-4b92-cddd-b8f761590fc0"
      },
      "execution_count": 5,
      "outputs": [
        {
          "output_type": "stream",
          "name": "stdout",
          "text": [
            "[training]: Saved full normalized distorted image info to:\n",
            "tid2013/normalized_distorted_images/training/patch_training.csv.\n",
            "[training]: Saved patch info to tid2013/normalized_distorted_images/training/patch_training.csv.\n",
            "[validation]: Saved full normalized distorted image info to:\n",
            "tid2013/normalized_distorted_images/validation/patch_validation.csv.\n",
            "[validation]: Saved patch info to tid2013/normalized_distorted_images/validation/patch_validation.csv.\n",
            "[test]: Saved full normalized distorted image info to:\n",
            "tid2013/normalized_distorted_images/test/patch_test.csv.\n",
            "[test]: Saved patch info to tid2013/normalized_distorted_images/test/patch_test.csv.\n"
          ]
        }
      ]
    },
    {
      "cell_type": "markdown",
      "source": [
        "##### Validate the division"
      ],
      "metadata": {
        "id": "VZ71UCqittHi"
      }
    },
    {
      "cell_type": "code",
      "source": [
        "# Paths to the CSV files\n",
        "norm_training_csv = 'tid2013/normalized_distorted_images/training/norm_training.csv'\n",
        "norm_validation_csv = 'tid2013/normalized_distorted_images/validation/norm_validation.csv'\n",
        "norm_test_csv = 'tid2013/normalized_distorted_images/test/norm_test.csv'\n",
        "\n",
        "# Read the CSV files\n",
        "norm_training_df = pd.read_csv(norm_training_csv)\n",
        "norm_validation_df = pd.read_csv(norm_validation_csv)\n",
        "norm_test_df = pd.read_csv(norm_test_csv)\n",
        "\n",
        "# Extract the lists of filenames\n",
        "training_files = set(norm_training_df['image_filename'])\n",
        "validation_files = set(norm_validation_df['image_filename'])\n",
        "test_files = set(norm_test_df['image_filename'])\n",
        "\n",
        "# Check for common files\n",
        "common_training_validation = training_files.intersection(validation_files)\n",
        "common_training_test = training_files.intersection(test_files)\n",
        "common_validation_test = validation_files.intersection(test_files)\n",
        "\n",
        "# Print the results\n",
        "if not common_training_validation and not common_training_test and not common_validation_test:\n",
        "    print(\"There are no common files between norm_training, norm_validation, and norm_test.\")\n",
        "else:\n",
        "    if common_training_validation:\n",
        "        print(f\"Common files between training and validation: {common_training_validation}\")\n",
        "    if common_training_test:\n",
        "        print(f\"Common files between training and test: {common_training_test}\")\n",
        "    if common_validation_test:\n",
        "        print(f\"Common files between validation and test: {common_validation_test}\")\n"
      ],
      "metadata": {
        "colab": {
          "base_uri": "https://localhost:8080/"
        },
        "id": "AraumYdUj_Ls",
        "outputId": "917df0f4-e228-42b8-c334-eb0b7964527b"
      },
      "execution_count": 18,
      "outputs": [
        {
          "output_type": "stream",
          "name": "stdout",
          "text": [
            "There are no common files between norm_training, norm_validation, and norm_test.\n"
          ]
        }
      ]
    },
    {
      "cell_type": "markdown",
      "source": [
        "#### Load data into tensorflow data generators"
      ],
      "metadata": {
        "id": "6tFa7tPXeXMT"
      }
    },
    {
      "cell_type": "code",
      "source": [
        "from tensorflow.keras.preprocessing.image import ImageDataGenerator\n",
        "\n",
        "def create_data_generators(base_dir, train_data, val_data, test_data, batch_size):\n",
        "    datagen = ImageDataGenerator()\n",
        "\n",
        "    train_generator = datagen.flow_from_dataframe(\n",
        "        dataframe=train_data,\n",
        "        directory=os.path.join(base_dir, 'training/patches/'),\n",
        "        x_col='image_filename',\n",
        "        y_col='MOS',\n",
        "        target_size=(32, 32),\n",
        "        batch_size=batch_size,\n",
        "        class_mode='raw',\n",
        "        shuffle=True,\n",
        "        seed=42\n",
        "    )\n",
        "\n",
        "    val_generator = datagen.flow_from_dataframe(\n",
        "        dataframe=val_data,\n",
        "        directory=os.path.join(base_dir, 'validation/patches/'),\n",
        "        x_col='image_filename',\n",
        "        y_col='MOS',\n",
        "        target_size=(32, 32),\n",
        "        batch_size=batch_size,\n",
        "        class_mode='raw',\n",
        "        shuffle=True,\n",
        "        seed=42\n",
        "    )\n",
        "\n",
        "    test_generator = datagen.flow_from_dataframe(\n",
        "        dataframe=test_data,\n",
        "        directory=os.path.join(base_dir, 'test/patches/'),\n",
        "        x_col='image_filename',\n",
        "        y_col='MOS',\n",
        "        target_size=(32, 32),\n",
        "        batch_size=batch_size,\n",
        "        class_mode='raw',\n",
        "        shuffle=False,\n",
        "        seed=42\n",
        "    )\n",
        "\n",
        "    return train_generator, val_generator, test_generator\n",
        "\n",
        "base_dir = 'tid2013/normalized_distorted_images'\n",
        "train_data = pd.read_csv('tid2013/normalized_distorted_images/training/patch_training.csv')\n",
        "val_data = pd.read_csv('tid2013/normalized_distorted_images/validation/patch_validation.csv')\n",
        "test_data = pd.read_csv('tid2013/normalized_distorted_images/test/patch_test.csv')\n",
        "train_generator, val_generator, test_generator = create_data_generators(base_dir, train_data, val_data, test_data, batch_size=32)\n"
      ],
      "metadata": {
        "colab": {
          "base_uri": "https://localhost:8080/"
        },
        "id": "oW39LlfkqsNJ",
        "outputId": "7ecace23-0423-417b-bace-0d40a54c8ef1"
      },
      "execution_count": 6,
      "outputs": [
        {
          "output_type": "stream",
          "name": "stdout",
          "text": [
            "Found 57600 validated image filenames.\n",
            "Found 19200 validated image filenames.\n",
            "Found 19200 validated image filenames.\n"
          ]
        }
      ]
    },
    {
      "cell_type": "markdown",
      "source": [
        "## Define and train the model"
      ],
      "metadata": {
        "id": "4NHnpI_vesrH"
      }
    },
    {
      "cell_type": "markdown",
      "source": [
        "#### Network architecture"
      ],
      "metadata": {
        "id": "ATY5cvloe4AO"
      }
    },
    {
      "cell_type": "code",
      "source": [
        "from tensorflow.keras.models import Sequential\n",
        "from tensorflow.keras.layers import Conv2D, GlobalMaxPooling2D, Dense, Dropout\n",
        "\n",
        "def build_model():\n",
        "    model = Sequential([\n",
        "        Conv2D(50, (7, 7), activation='relu', input_shape=(32, 32, 3)), # linear in the paper\n",
        "        GlobalMaxPooling2D(),\n",
        "        Dense(800, activation='relu'),\n",
        "        #Dropout(0.5),  # Add dropout to prevent overfitting\n",
        "        Dense(800, activation='relu'),\n",
        "        Dropout(0.5),  # Add dropout to prevent overfitting\n",
        "        Dense(1, activation='linear')  # Output layer for the quality score\n",
        "    ])\n",
        "    return model\n",
        "\n",
        "# Budowanie modelu\n",
        "model = build_model()\n",
        "model.compile(optimizer='adam', loss='mean_squared_error', metrics=['mean_absolute_error'])\n",
        "model.summary()"
      ],
      "metadata": {
        "id": "f0NZk2e61XQ4",
        "colab": {
          "base_uri": "https://localhost:8080/"
        },
        "outputId": "c27b20c6-dcdb-435d-8138-399b2add8da9"
      },
      "execution_count": 7,
      "outputs": [
        {
          "output_type": "stream",
          "name": "stdout",
          "text": [
            "Model: \"sequential\"\n",
            "_________________________________________________________________\n",
            " Layer (type)                Output Shape              Param #   \n",
            "=================================================================\n",
            " conv2d (Conv2D)             (None, 26, 26, 50)        7400      \n",
            "                                                                 \n",
            " global_max_pooling2d (Glob  (None, 50)                0         \n",
            " alMaxPooling2D)                                                 \n",
            "                                                                 \n",
            " dense (Dense)               (None, 800)               40800     \n",
            "                                                                 \n",
            " dense_1 (Dense)             (None, 800)               640800    \n",
            "                                                                 \n",
            " dropout (Dropout)           (None, 800)               0         \n",
            "                                                                 \n",
            " dense_2 (Dense)             (None, 1)                 801       \n",
            "                                                                 \n",
            "=================================================================\n",
            "Total params: 689801 (2.63 MB)\n",
            "Trainable params: 689801 (2.63 MB)\n",
            "Non-trainable params: 0 (0.00 Byte)\n",
            "_________________________________________________________________\n"
          ]
        }
      ]
    },
    {
      "cell_type": "markdown",
      "source": [
        "#### Training"
      ],
      "metadata": {
        "id": "QXKdDuPye9nT"
      }
    },
    {
      "cell_type": "code",
      "source": [
        "history = model.fit(train_generator, epochs=3, validation_data=val_generator)"
      ],
      "metadata": {
        "colab": {
          "base_uri": "https://localhost:8080/"
        },
        "id": "4_lntSvq1czn",
        "outputId": "df08eeb3-b228-446b-b5eb-d869f48030fb"
      },
      "execution_count": 8,
      "outputs": [
        {
          "output_type": "stream",
          "name": "stdout",
          "text": [
            "Epoch 1/3\n",
            "1800/1800 [==============================] - 32s 17ms/step - loss: 1.5480 - mean_absolute_error: 0.8859 - val_loss: 0.9436 - val_mean_absolute_error: 0.7526\n",
            "Epoch 2/3\n",
            "1800/1800 [==============================] - 30s 17ms/step - loss: 0.8537 - mean_absolute_error: 0.6986 - val_loss: 0.9368 - val_mean_absolute_error: 0.7181\n",
            "Epoch 3/3\n",
            "1800/1800 [==============================] - 30s 17ms/step - loss: 0.7924 - mean_absolute_error: 0.6684 - val_loss: 0.9114 - val_mean_absolute_error: 0.7033\n"
          ]
        }
      ]
    },
    {
      "cell_type": "markdown",
      "source": [
        "## Summarize predictions"
      ],
      "metadata": {
        "id": "ISiuLItZgSne"
      }
    },
    {
      "cell_type": "markdown",
      "source": [
        "#### Predict test data and get labels (MOS)"
      ],
      "metadata": {
        "id": "tS2I_1XcghBI"
      }
    },
    {
      "cell_type": "code",
      "source": [
        "# Identify missing images\n",
        "missing_images = set(average_scores_df['Image']) - set(test_images_mos['Image'])\n",
        "print(f\"Missing images: {missing_images}\")\n",
        "for _, img in average_scores_df.iterrows():\n",
        "  print(img[0])"
      ],
      "metadata": {
        "colab": {
          "base_uri": "https://localhost:8080/"
        },
        "id": "WvtyHHh5BpgV",
        "outputId": "8b73ea75-97f9-4cce-f31f-3b640c4f1e27"
      },
      "execution_count": 19,
      "outputs": [
        {
          "output_type": "stream",
          "name": "stdout",
          "text": [
            "Missing images: {'I08_11_1.bmp', 'I23_01_1.bmp', 'I21_11_1.bmp', 'I24_11_1.bmp', 'I10_01_1.bmp', 'I01_11_1.bmp', 'I25_11_1.bmp', 'I15_01_1.bmp', 'I03_11_1.bmp', 'I04_11_1.bmp', 'I01_01_1.bmp', 'I23_11_1.bmp'}\n",
            "i19_01_2.bmp\n",
            "i04_10_4.bmp\n",
            "i19_10_5.bmp\n",
            "I08_11_1.bmp\n",
            "i06_01_5.bmp\n",
            "i20_10_5.bmp\n",
            "i19_11_3.bmp\n",
            "i07_01_5.bmp\n",
            "i04_08_4.bmp\n",
            "i23_10_1.bmp\n",
            "i01_08_5.bmp\n",
            "i10_10_5.bmp\n",
            "i21_08_2.bmp\n",
            "i05_01_5.bmp\n",
            "i19_10_2.bmp\n",
            "i20_08_4.bmp\n",
            "I25_11_1.bmp\n",
            "i02_10_1.bmp\n",
            "i16_11_2.bmp\n",
            "i21_08_4.bmp\n",
            "i25_10_1.bmp\n",
            "i25_10_2.bmp\n",
            "I15_01_1.bmp\n",
            "i18_11_2.bmp\n",
            "i04_11_2.bmp\n",
            "i24_01_2.bmp\n",
            "i25_11_3.bmp\n",
            "i11_10_2.bmp\n",
            "i06_01_2.bmp\n",
            "i17_10_5.bmp\n",
            "I24_11_1.bmp\n",
            "i17_11_2.bmp\n",
            "I23_01_1.bmp\n",
            "i09_10_4.bmp\n",
            "i01_01_3.bmp\n",
            "i17_10_4.bmp\n",
            "i21_08_5.bmp\n",
            "i04_10_1.bmp\n",
            "i11_08_5.bmp\n",
            "i04_01_4.bmp\n",
            "i20_01_5.bmp\n",
            "i05_10_4.bmp\n",
            "i25_08_1.bmp\n",
            "i10_08_1.bmp\n",
            "i02_10_4.bmp\n",
            "i04_11_3.bmp\n",
            "I01_01_1.bmp\n",
            "i01_10_2.bmp\n",
            "I21_11_1.bmp\n",
            "i02_01_3.bmp\n",
            "i04_10_3.bmp\n",
            "i10_01_3.bmp\n",
            "i07_10_2.bmp\n",
            "i21_10_1.bmp\n",
            "i10_10_4.bmp\n",
            "I03_11_1.bmp\n",
            "i08_08_4.bmp\n",
            "i01_11_4.bmp\n",
            "i11_01_5.bmp\n",
            "i04_11_4.bmp\n",
            "i25_10_5.bmp\n",
            "i14_01_3.bmp\n",
            "i17_01_4.bmp\n",
            "i25_01_4.bmp\n",
            "i04_11_5.bmp\n",
            "i02_11_5.bmp\n",
            "i23_10_2.bmp\n",
            "i03_08_2.bmp\n",
            "i12_11_4.bmp\n",
            "i20_10_2.bmp\n",
            "i18_10_3.bmp\n",
            "i18_01_2.bmp\n",
            "i14_11_3.bmp\n",
            "i15_10_1.bmp\n",
            "i16_11_3.bmp\n",
            "i16_01_5.bmp\n",
            "i14_08_4.bmp\n",
            "i04_08_5.bmp\n",
            "I23_11_1.bmp\n",
            "i24_08_1.bmp\n",
            "i08_10_5.bmp\n",
            "i05_01_3.bmp\n",
            "i24_11_3.bmp\n",
            "i09_10_3.bmp\n",
            "i17_01_2.bmp\n",
            "i05_10_1.bmp\n",
            "I10_01_1.bmp\n",
            "i21_10_5.bmp\n",
            "i16_10_3.bmp\n",
            "i14_11_4.bmp\n",
            "i20_01_2.bmp\n",
            "i24_10_3.bmp\n",
            "i19_01_3.bmp\n",
            "i17_01_5.bmp\n",
            "i22_10_2.bmp\n",
            "i18_08_3.bmp\n",
            "i05_08_2.bmp\n",
            "I04_11_1.bmp\n",
            "i22_11_4.bmp\n",
            "I01_11_1.bmp\n"
          ]
        }
      ]
    },
    {
      "cell_type": "code",
      "source": [
        "test_predictions = model.predict(test_generator)\n",
        "patch_info = test_generator.filenames # get list of test patches\n",
        "image_scores = {}\n",
        "for i, patch_path in enumerate(patch_info):\n",
        "    # Extract the base image name by removing the patch-specific part\n",
        "    base_image_name = \"_\".join(patch_path.split('_')[1:-2]) + '.bmp'\n",
        "    if base_image_name not in image_scores:\n",
        "        image_scores[base_image_name] = []\n",
        "    image_scores[base_image_name].append(test_predictions[i])\n",
        "\n",
        "average_scores = {image: np.mean(scores) for image, scores in image_scores.items()}\n",
        "average_scores_df = pd.DataFrame(list(average_scores.items()), columns=['Image', 'Predicted_MOS'])\n",
        "print(\"Summary of test predictions:\")\n",
        "print(average_scores_df.describe())\n",
        "\n",
        "test_images_mos = pd.read_csv('tid2013/filtered_mos_with_names.csv', index_col=0)\n",
        "test_images_mos.rename(columns={'MOS':'MOS', 'image_filename':'Image'}, inplace=True)\n",
        "test_images_mos = pd.DataFrame(test_images_mos)\n",
        "# Force all extensions to be '.bmp' (there are inconsitencies between mos_with_names.txt and acutal filename)\n",
        "test_images_mos['Image'] = test_images_mos['Image'].apply(lambda x: x.lower())\n",
        "average_scores_df['Image'] = average_scores_df['Image'].apply(lambda x: x.lower())\n",
        "# Merge dataframes to match predicted mos with ground-truth mos\n",
        "merged_df = average_scores_df.merge(test_images_mos, on=\"Image\", how=\"inner\")\n",
        "merged_df.rename(columns={'Predicted_MOS_x': 'Predicted_MOS', 'Predicted_MOS_y': 'MOS'}, inplace=True)\n",
        "print(merged_df)"
      ],
      "metadata": {
        "colab": {
          "base_uri": "https://localhost:8080/"
        },
        "id": "WALGk_xS0em6",
        "outputId": "6c5bcfdd-a7bf-43bd-9da8-c28dc2b065ef"
      },
      "execution_count": 20,
      "outputs": [
        {
          "output_type": "stream",
          "name": "stdout",
          "text": [
            "600/600 [==============================] - 5s 8ms/step\n",
            "Summary of test predictions:\n",
            "       Predicted_MOS\n",
            "count     100.000000\n",
            "mean        4.259779\n",
            "std         0.959027\n",
            "min         2.264182\n",
            "25%         3.292839\n",
            "50%         4.527185\n",
            "75%         5.122172\n",
            "max         5.492285\n",
            "           Image  Predicted_MOS      MOS\n",
            "0   i19_01_2.bmp       5.253419  5.10811\n",
            "1   i04_10_4.bmp       3.297302  3.26190\n",
            "2   i19_10_5.bmp       2.860745  1.65789\n",
            "3   i08_11_1.bmp       5.086527  6.00000\n",
            "4   i06_01_5.bmp       4.410595  3.61111\n",
            "..           ...            ...      ...\n",
            "95  i18_08_3.bmp       4.025568  4.14286\n",
            "96  i05_08_2.bmp       4.840705  4.66667\n",
            "97  i04_11_1.bmp       4.018822  5.30000\n",
            "98  i22_11_4.bmp       2.963685  2.63158\n",
            "99  i01_11_1.bmp       5.322481  5.91429\n",
            "\n",
            "[100 rows x 3 columns]\n"
          ]
        }
      ]
    },
    {
      "cell_type": "markdown",
      "source": [
        "#### Calculate correlations"
      ],
      "metadata": {
        "id": "nPruT9IPiTug"
      }
    },
    {
      "cell_type": "code",
      "source": [
        "from scipy.stats import spearmanr, pearsonr\n",
        "# Drop NaN or inf values if present\n",
        "cleaned_df = merged_df.dropna()\n",
        "cleaned_df = cleaned_df[np.isfinite(cleaned_df['MOS']) & np.isfinite(cleaned_df['Predicted_MOS'])]\n",
        "\n",
        "# Calculate LCC and SROCC\n",
        "lcc = pearsonr(cleaned_df['Predicted_MOS'], cleaned_df['MOS'])[0]\n",
        "srocc = spearmanr(cleaned_df['Predicted_MOS'], cleaned_df['MOS'])[0]\n",
        "\n",
        "print(f\"LCC (Linear Correlation Coefficient): {lcc}\")\n",
        "print(f\"SROCC (Spearman Rank Order Correlation Coefficient): {srocc}\")"
      ],
      "metadata": {
        "colab": {
          "base_uri": "https://localhost:8080/"
        },
        "id": "S8BCLrn3Mdqe",
        "outputId": "f09317e3-caa9-4937-9302-b29846b07272"
      },
      "execution_count": 21,
      "outputs": [
        {
          "output_type": "stream",
          "name": "stdout",
          "text": [
            "LCC (Linear Correlation Coefficient): 0.8564239490980596\n",
            "SROCC (Spearman Rank Order Correlation Coefficient): 0.826681148161981\n"
          ]
        }
      ]
    },
    {
      "cell_type": "markdown",
      "source": [
        "#### Visualize correletions and training"
      ],
      "metadata": {
        "id": "pXy-sFwPiY0C"
      }
    },
    {
      "cell_type": "code",
      "source": [
        "# Scatter plot with regression line\n",
        "plt.figure(figsize=(10, 6))\n",
        "sns.regplot(x='MOS', y='Predicted_MOS', data=merged_df, scatter_kws={'s': 10}, line_kws={'color': 'red'})\n",
        "plt.xlabel('True MOS')\n",
        "plt.ylabel('Predicted MOS')\n",
        "plt.title('Scatter Plot of True MOS vs Predicted MOS')\n",
        "plt.grid(True)\n",
        "plt.show()\n",
        "\n",
        "y_pred = test_predictions\n",
        "y_true = test_generator.labels\n",
        "# Training progress (loss minimization)\n",
        "plt.figure(figsize=(10, 5))\n",
        "plt.plot(history.history['loss'], label='Loss')\n",
        "plt.plot(history.history['val_loss'], label='Validation Loss')\n",
        "plt.xlabel('Epochs')\n",
        "plt.ylabel('Loss')\n",
        "plt.legend()\n",
        "plt.title('Model Loss')\n",
        "plt.show()"
      ],
      "metadata": {
        "colab": {
          "base_uri": "https://localhost:8080/",
          "height": 1000
        },
        "id": "QnSB-ylXSE-d",
        "outputId": "8a134e93-aa30-4e04-a7ee-d25fed37d0e7"
      },
      "execution_count": 22,
      "outputs": [
        {
          "output_type": "display_data",
          "data": {
            "text/plain": [
              "<Figure size 1000x600 with 1 Axes>"
            ],
            "image/png": "[encoded data removed]"
          },
          "metadata": {}
        },
        {
          "output_type": "display_data",
          "data": {
            "text/plain": [
              "<Figure size 1000x500 with 1 Axes>"
            ],
            "image/png": "[encoded data removed]"
          },
          "metadata": {}
        }
      ]
    }
  ]
}