{
  "nbformat": 4,
  "nbformat_minor": 0,
  "metadata": {
    "colab": {
      "provenance": [],
      "machine_shape": "hm",
      "authorship_tag": "ABX9TyO0V2imvzhqQxqD9jsWkaVE",
      "include_colab_link": true
    },
    "kernelspec": {
      "name": "python3",
      "display_name": "Python 3"
    },
    "language_info": {
      "name": "python"
    }
  },
  "cells": [
    {
      "cell_type": "markdown",
      "metadata": {
        "id": "view-in-github",
        "colab_type": "text"
      },
      "source": [
        "<a href=\"https://colab.research.google.com/github/vvjft/DL_BIQA/blob/main/CNNIQA.ipynb\" target=\"_parent\"><img src=\"https://colab.research.google.com/assets/colab-badge.svg\" alt=\"Open In Colab\"/></a>"
      ]
    },
    {
      "cell_type": "markdown",
      "source": [
        "##Dependencies"
      ],
      "metadata": {
        "id": "VRPrxsbCsDWZ"
      }
    },
    {
      "cell_type": "code",
      "execution_count": 1,
      "metadata": {
        "id": "n5adwOYcqrS3",
        "colab": {
          "base_uri": "https://localhost:8080/"
        },
        "outputId": "aa9dd040-00b1-449e-da3d-33f277be10ed"
      },
      "outputs": [
        {
          "output_type": "stream",
          "name": "stdout",
          "text": [
            "Reading package lists... Done\n",
            "Building dependency tree... Done\n",
            "Reading state information... Done\n",
            "unrar is already the newest version (1:6.1.5-1).\n",
            "0 upgraded, 0 newly installed, 0 to remove and 45 not upgraded.\n"
          ]
        }
      ],
      "source": [
        "import tensorflow as tf\n",
        "import numpy as np\n",
        "import scipy\n",
        "import pandas as pd\n",
        "import os\n",
        "import matplotlib.pyplot as plt\n",
        "import seaborn as sns\n",
        "import cv2\n",
        "\n",
        "!apt-get install unrar"
      ]
    },
    {
      "cell_type": "markdown",
      "source": [
        "### Download and extract dataset"
      ],
      "metadata": {
        "id": "EAyOHVzksLdr"
      }
    },
    {
      "cell_type": "code",
      "source": [
        "!wget https://www.ponomarenko.info/tid2013/tid2013.rar # tid2013\n",
        "\n",
        "from google.colab import drive\n",
        "drive.mount('/content/drive') # LIVE"
      ],
      "metadata": {
        "collapsed": true,
        "id": "8D30b-aernpn",
        "colab": {
          "base_uri": "https://localhost:8080/"
        },
        "outputId": "29ef9d90-51c4-42e0-f62b-5fd9819d0937"
      },
      "execution_count": 3,
      "outputs": [
        {
          "output_type": "stream",
          "name": "stdout",
          "text": [
            "--2024-06-02 16:59:05--  https://www.ponomarenko.info/tid2013/tid2013.rar\n",
            "Resolving www.ponomarenko.info (www.ponomarenko.info)... 191.101.104.220, 2a02:4780:1e:6565:a3f:292f:9583:e822\n",
            "Connecting to www.ponomarenko.info (www.ponomarenko.info)|191.101.104.220|:443... connected.\n",
            "HTTP request sent, awaiting response... 200 OK\n",
            "Length: 957680241 (913M) [application/x-rar-compressed]\n",
            "Saving to: ‘tid2013.rar.1’\n",
            "\n",
            "tid2013.rar.1       100%[===================>] 913.31M  16.4MB/s    in 58s     \n",
            "\n",
            "2024-06-02 17:00:03 (15.8 MB/s) - ‘tid2013.rar.1’ saved [957680241/957680241]\n",
            "\n",
            "Mounted at /content/drive\n"
          ]
        }
      ]
    },
    {
      "cell_type": "code",
      "source": [
        "!mkdir -p '/content/tid2013'\n",
        "!unrar x -inul '/content/tid2013.rar' '/content/tid2013'\n",
        "!rm '/content/tid2013.rar'\n",
        "!rm -r '/content/tid2013/metrics_values'\n",
        "!rm -r '/content/tid2013/papers'\n",
        "!rm '/content/tid2013/readme'\n",
        "!rm -r '/content/sample_data'\n",
        "\n",
        "!cp -r /content/drive/MyDrive/magisterka/LIVEIQA_release2 /content\n",
        "os.rename('/content/LIVEIQA_release2', '/content/LIVE')\n",
        "drive.flush_and_unmount()"
      ],
      "metadata": {
        "id": "bVU2r4DRsoKF",
        "collapsed": true
      },
      "execution_count": 4,
      "outputs": []
    },
    {
      "cell_type": "markdown",
      "source": [
        "Reset directory if needed"
      ],
      "metadata": {
        "id": "QHlo-4qMdRSm"
      }
    },
    {
      "cell_type": "code",
      "source": [
        "#!rm -r '/content/LIVE'\n",
        "#!rm -r '/content/tid2013'\n",
        "#!rm -r '/content/tid2013/patch_mos_with_names.csv'"
      ],
      "metadata": {
        "id": "-OEtoDjh0oBh",
        "colab": {
          "base_uri": "https://localhost:8080/"
        },
        "outputId": "9aca425e-dfa1-4d99-f312-411aecd0226f"
      },
      "execution_count": null,
      "outputs": [
        {
          "output_type": "stream",
          "name": "stdout",
          "text": [
            "rm: cannot remove '/content/tid2013': No such file or directory\n"
          ]
        }
      ]
    },
    {
      "cell_type": "markdown",
      "source": [
        "##Preprocessing"
      ],
      "metadata": {
        "id": "vs7fpMeDsN-W"
      }
    },
    {
      "cell_type": "markdown",
      "source": [
        "#### Divide dataset"
      ],
      "metadata": {
        "id": "p0CPxppSxUOU"
      }
    },
    {
      "cell_type": "code",
      "source": [
        "from sklearn.model_selection import train_test_split\n",
        "\n",
        "def load_tid2013(base_dir):\n",
        "    data_path = os.path.join(base_dir, 'mos_with_names.txt')\n",
        "    data = pd.read_csv(data_path, header=None, delimiter=' ')\n",
        "    data = data.iloc[:,[1,0]] # swamp colummns order\n",
        "    distortion_types = [1, 8, 10, 11] # filter distortions: wn, blur, jpeg and jp2k\n",
        "    filtered_data = data[data[0].apply(lambda x: int(x.split('_')[1]) in distortion_types)]\n",
        "    filtered_data.columns = ['image_filename', 'MOS']\n",
        "    return filtered_data\n",
        "\n",
        "def load_live(base_dir):\n",
        "    data = pd.read_csv(base_dir, 'dmos_with_names.csv')\n",
        "    distortion_types = [1, 2, 3, 4] # filter distortions: wn, blur, jpeg and jp2k\n",
        "    filtered_data = data[data[0].apply(lambda x: int(x.split('_')[1]) in distortion_types)]\n",
        "    filtered_data.columns = ['image_filename', 'DMOS']\n",
        "    return filtered_data\n",
        "\n",
        "def split_data(data):\n",
        "    train_data, test_data = train_test_split(data, test_size=0.2, random_state=42)\n",
        "    train_data, val_data = train_test_split(train_data, test_size=0.25, random_state=42)\n",
        "    return train_data, val_data, test_data\n",
        "\n",
        "# Załaduj dane i podziel je\n",
        "tid2013_dir = 'tid2013'\n",
        "live_dir = 'LIVE'\n",
        "\n",
        "#data = load_tid2013(tid2013_dir)\n",
        "#data.to_csv('tid2013/filtered_mos_with_names.csv')\n",
        "data = pd.read_csv('LIVE/dmos_with_names.csv')\n",
        "\n",
        "train_data, val_data, test_data = split_data(data)"
      ],
      "metadata": {
        "id": "p0mKJcdDHQAI"
      },
      "execution_count": 5,
      "outputs": []
    },
    {
      "cell_type": "markdown",
      "source": [
        "#### Normalize and slice to patches"
      ],
      "metadata": {
        "id": "NmPjGksxxYaY"
      }
    },
    {
      "cell_type": "code",
      "source": [
        "from scipy.signal import convolve2d\n",
        "def liqd92_normalize(patch, P=3, Q=3, C=1):\n",
        "    kernel = np.ones((P, Q)) / (P * Q)\n",
        "    patch_mean = convolve2d(patch, kernel, boundary='symm', mode='same')\n",
        "    patch_sm = convolve2d(np.square(patch), kernel, boundary='symm', mode='same')\n",
        "    patch_std = np.sqrt(np.maximum(patch_sm - np.square(patch_mean), 0)) + C\n",
        "    patch_ln = (patch - patch_mean) / patch_std\n",
        "    return patch_ln.astype('float32')\n",
        "\n",
        "sets = {'train': [train_data, 'training'], 'val':[val_data, 'validation'], 'test':[test_data, 'test']}\n",
        "input_dir = 'LIVE/distorted_images/'\n",
        "\n",
        "for key, (data, name) in sets.items():\n",
        "\n",
        "  output_dir_full = f'LIVE/normalized_distorted_images/{name}/full/' # where to store normalized distorted images\n",
        "  output_dir_patches = f'LIVE/normalized_distorted_images/{name}/patches/' # where to store patches\n",
        "  norm_file_info_path = f'LIVE/normalized_distorted_images/{name}/norm_{name}.csv'\n",
        "  patch_file_info_path = f'LIVE/normalized_distorted_images/{name}/patch_{name}.csv'\n",
        "  os.makedirs(output_dir_full, exist_ok=True)\n",
        "  os.makedirs(output_dir_patches, exist_ok=True)\n",
        "\n",
        "  norm_info_list = []\n",
        "  patch_info_list = []\n",
        "  for index, row in data.iterrows():\n",
        "      mos_value = row[1]\n",
        "      image_filename = row[0]\n",
        "      image_path = input_dir + image_filename\n",
        "      image = cv2.imread(image_path)\n",
        "      if image is None:\n",
        "          print(f\"Failed to load image: {image_filename}\")\n",
        "          continue\n",
        "      # Normalize the image\n",
        "      image_gray = cv2.cvtColor(image, cv2.COLOR_BGR2GRAY)\n",
        "      image_normalized = liqd92_normalize(image_gray)\n",
        "      #image_normalized = cv2.cvtColor(image_normalized, cv2.COLOR_GRAY2BGR)\n",
        "      # Save\n",
        "      image_filename = \"NORM_\"+image_filename\n",
        "      norm_info_list.append([image_filename, mos_value])\n",
        "      cv2.imwrite(output_dir_full+image_filename, image_normalized)\n",
        "      # Slice to patches\n",
        "      height, width = image_normalized.shape[:2]\n",
        "      patch_size = 32\n",
        "      num_patches_y = height // patch_size\n",
        "      num_patches_x = width // patch_size\n",
        "      patch_count = 0\n",
        "      for i in range(num_patches_y):\n",
        "          for j in range(num_patches_x):\n",
        "              patch = image_normalized[i*patch_size:(i+1)*patch_size, j*patch_size:(j+1)*patch_size]\n",
        "              patch_path = os.path.join(output_dir_patches, f\"{os.path.splitext(image_filename)[0]}_patch_{patch_count}.bmp\")\n",
        "              patch_filename = f\"{os.path.splitext(image_filename)[0]}_patch_{patch_count}.bmp\"\n",
        "              cv2.imwrite(patch_path, patch)\n",
        "              # Add patch info to the list\n",
        "              patch_info_list.append([patch_filename, mos_value])\n",
        "              patch_count += 1\n",
        "\n",
        "  norm_info_df = pd.DataFrame(norm_info_list, columns=['image_filename', 'MOS'])\n",
        "  norm_info_df.to_csv(norm_file_info_path, index=False)\n",
        "  print(f\"[{name}]: Saved full normalized distorted image info to:\\n{patch_file_info_path}.\")\n",
        "  patch_info_df = pd.DataFrame(patch_info_list, columns=['image_filename', 'MOS'])\n",
        "  patch_info_df.to_csv(patch_file_info_path, index=False)\n",
        "  print(f\"[{name}]: Saved patch info to {patch_file_info_path}.\")\n"
      ],
      "metadata": {
        "colab": {
          "base_uri": "https://localhost:8080/"
        },
        "id": "HORzxa5RLJQV",
        "outputId": "2750a856-b7c8-41c5-a16b-34d4b2bfb74c"
      },
      "execution_count": 6,
      "outputs": [
        {
          "output_type": "stream",
          "name": "stdout",
          "text": [
            "[training]: Saved full normalized distorted image info to:\n",
            "LIVE/normalized_distorted_images/training/patch_training.csv.\n",
            "[training]: Saved patch info to LIVE/normalized_distorted_images/training/patch_training.csv.\n",
            "[validation]: Saved full normalized distorted image info to:\n",
            "LIVE/normalized_distorted_images/validation/patch_validation.csv.\n",
            "[validation]: Saved patch info to LIVE/normalized_distorted_images/validation/patch_validation.csv.\n",
            "[test]: Saved full normalized distorted image info to:\n",
            "LIVE/normalized_distorted_images/test/patch_test.csv.\n",
            "[test]: Saved patch info to LIVE/normalized_distorted_images/test/patch_test.csv.\n"
          ]
        }
      ]
    },
    {
      "cell_type": "markdown",
      "source": [
        "##### Validate the division"
      ],
      "metadata": {
        "id": "VZ71UCqittHi"
      }
    },
    {
      "cell_type": "code",
      "source": [
        "# Paths to the CSV files\n",
        "norm_training_csv = 'LIVE/normalized_distorted_images/training/norm_training.csv'\n",
        "norm_validation_csv = 'LIVE/normalized_distorted_images/validation/norm_validation.csv'\n",
        "norm_test_csv = 'LIVE/normalized_distorted_images/test/norm_test.csv'\n",
        "\n",
        "# Read the CSV files\n",
        "norm_training_df = pd.read_csv(norm_training_csv)\n",
        "norm_validation_df = pd.read_csv(norm_validation_csv)\n",
        "norm_test_df = pd.read_csv(norm_test_csv)\n",
        "\n",
        "# Extract the lists of filenames\n",
        "training_files = set(norm_training_df['image_filename'])\n",
        "validation_files = set(norm_validation_df['image_filename'])\n",
        "test_files = set(norm_test_df['image_filename'])\n",
        "\n",
        "# Check for common files\n",
        "common_training_validation = training_files.intersection(validation_files)\n",
        "common_training_test = training_files.intersection(test_files)\n",
        "common_validation_test = validation_files.intersection(test_files)\n",
        "\n",
        "# Print the results\n",
        "if not common_training_validation and not common_training_test and not common_validation_test:\n",
        "    print(\"There are no common files between norm_training, norm_validation, and norm_test.\")\n",
        "else:\n",
        "    if common_training_validation:\n",
        "        print(f\"Common files between training and validation: {common_training_validation}\")\n",
        "    if common_training_test:\n",
        "        print(f\"Common files between training and test: {common_training_test}\")\n",
        "    if common_validation_test:\n",
        "        print(f\"Common files between validation and test: {common_validation_test}\")\n"
      ],
      "metadata": {
        "colab": {
          "base_uri": "https://localhost:8080/"
        },
        "id": "AraumYdUj_Ls",
        "outputId": "97bf035b-9520-4413-a52d-14f099f77db4"
      },
      "execution_count": null,
      "outputs": [
        {
          "output_type": "stream",
          "name": "stdout",
          "text": [
            "There are no common files between norm_training, norm_validation, and norm_test.\n"
          ]
        }
      ]
    },
    {
      "cell_type": "markdown",
      "source": [
        "#### Load data into tensorflow data generators"
      ],
      "metadata": {
        "id": "6tFa7tPXeXMT"
      }
    },
    {
      "cell_type": "code",
      "source": [
        "from tensorflow.keras.preprocessing.image import ImageDataGenerator\n",
        "\n",
        "def create_data_generators(base_dir, train_data, val_data, test_data, batch_size):\n",
        "    datagen = ImageDataGenerator()\n",
        "\n",
        "    train_generator = datagen.flow_from_dataframe(\n",
        "        dataframe=train_data,\n",
        "        directory=os.path.join(base_dir, 'training/patches/'),\n",
        "        x_col='image_filename',\n",
        "        y_col='MOS',\n",
        "        target_size=(32, 32),\n",
        "        batch_size=batch_size,\n",
        "        class_mode='raw',\n",
        "        shuffle=True,\n",
        "        seed=42\n",
        "    )\n",
        "\n",
        "    val_generator = datagen.flow_from_dataframe(\n",
        "        dataframe=val_data,\n",
        "        directory=os.path.join(base_dir, 'validation/patches/'),\n",
        "        x_col='image_filename',\n",
        "        y_col='MOS',\n",
        "        target_size=(32, 32),\n",
        "        batch_size=batch_size,\n",
        "        class_mode='raw',\n",
        "        shuffle=True,\n",
        "        seed=42\n",
        "    )\n",
        "\n",
        "    test_generator = datagen.flow_from_dataframe(\n",
        "        dataframe=test_data,\n",
        "        directory=os.path.join(base_dir, 'test/patches/'),\n",
        "        x_col='image_filename',\n",
        "        y_col='MOS',\n",
        "        target_size=(32, 32),\n",
        "        batch_size=batch_size,\n",
        "        class_mode='raw',\n",
        "        shuffle=False,\n",
        "        seed=42\n",
        "    )\n",
        "\n",
        "    return train_generator, val_generator, test_generator\n",
        "\n",
        "base_dir = 'LIVE/normalized_distorted_images'\n",
        "train_data = pd.read_csv('LIVE/normalized_distorted_images/training/patch_training.csv')\n",
        "val_data = pd.read_csv('LIVE/normalized_distorted_images/validation/patch_validation.csv')\n",
        "test_data = pd.read_csv('LIVE/normalized_distorted_images/test/patch_test.csv')\n",
        "train_generator, val_generator, test_generator = create_data_generators(base_dir, train_data, val_data, test_data, batch_size=32)\n"
      ],
      "metadata": {
        "colab": {
          "base_uri": "https://localhost:8080/"
        },
        "id": "oW39LlfkqsNJ",
        "outputId": "63a383e5-a71a-4b24-f947-8f87048d94d6"
      },
      "execution_count": 7,
      "outputs": [
        {
          "output_type": "stream",
          "name": "stdout",
          "text": [
            "Found 160701 validated image filenames.\n",
            "Found 52734 validated image filenames.\n",
            "Found 54425 validated image filenames.\n"
          ]
        }
      ]
    },
    {
      "cell_type": "markdown",
      "source": [
        "## Define and train the model"
      ],
      "metadata": {
        "id": "4NHnpI_vesrH"
      }
    },
    {
      "cell_type": "markdown",
      "source": [
        "#### Network architecture"
      ],
      "metadata": {
        "id": "ATY5cvloe4AO"
      }
    },
    {
      "cell_type": "code",
      "source": [
        "from tensorflow.keras.models import Sequential\n",
        "from tensorflow.keras.layers import Conv2D, GlobalMaxPooling2D, Dense, Dropout\n",
        "\n",
        "def build_model():\n",
        "    model = Sequential([\n",
        "        Conv2D(50, (7, 7), activation='relu', input_shape=(32, 32, 3)), # linear in the paper\n",
        "        GlobalMaxPooling2D(),\n",
        "        Dense(800, activation='relu'),\n",
        "        #Dropout(0.5),  # Add dropout to prevent overfitting\n",
        "        Dense(800, activation='relu'),\n",
        "        Dropout(0.5),  # Add dropout to prevent overfitting\n",
        "        Dense(1, activation='linear')  # Output layer for the quality score\n",
        "    ])\n",
        "    return model\n",
        "\n",
        "# Budowanie modelu\n",
        "model = build_model()\n",
        "model.compile(optimizer='adam', loss='mean_squared_error', metrics=['mean_absolute_error'])\n",
        "model.summary()"
      ],
      "metadata": {
        "id": "f0NZk2e61XQ4",
        "colab": {
          "base_uri": "https://localhost:8080/"
        },
        "outputId": "ba37963b-47e1-4446-ced0-7c5899194bd8"
      },
      "execution_count": 18,
      "outputs": [
        {
          "output_type": "stream",
          "name": "stdout",
          "text": [
            "Model: \"sequential_2\"\n",
            "_________________________________________________________________\n",
            " Layer (type)                Output Shape              Param #   \n",
            "=================================================================\n",
            " conv2d_2 (Conv2D)           (None, 26, 26, 50)        7400      \n",
            "                                                                 \n",
            " global_max_pooling2d_2 (Gl  (None, 50)                0         \n",
            " obalMaxPooling2D)                                               \n",
            "                                                                 \n",
            " dense_6 (Dense)             (None, 800)               40800     \n",
            "                                                                 \n",
            " dense_7 (Dense)             (None, 800)               640800    \n",
            "                                                                 \n",
            " dropout_3 (Dropout)         (None, 800)               0         \n",
            "                                                                 \n",
            " dense_8 (Dense)             (None, 1)                 801       \n",
            "                                                                 \n",
            "=================================================================\n",
            "Total params: 689801 (2.63 MB)\n",
            "Trainable params: 689801 (2.63 MB)\n",
            "Non-trainable params: 0 (0.00 Byte)\n",
            "_________________________________________________________________\n"
          ]
        }
      ]
    },
    {
      "cell_type": "markdown",
      "source": [
        "#### Training"
      ],
      "metadata": {
        "id": "QXKdDuPye9nT"
      }
    },
    {
      "cell_type": "code",
      "source": [
        "history = model.fit(train_generator, epochs=40, validation_data=val_generator)"
      ],
      "metadata": {
        "colab": {
          "base_uri": "https://localhost:8080/"
        },
        "id": "4_lntSvq1czn",
        "outputId": "c575ccc2-3ac7-4c65-c1b0-a21cbdaa375e"
      },
      "execution_count": 19,
      "outputs": [
        {
          "output_type": "stream",
          "name": "stdout",
          "text": [
            "Epoch 1/40\n",
            "5022/5022 [==============================] - 101s 20ms/step - loss: 326.9991 - mean_absolute_error: 13.5578 - val_loss: 254.2868 - val_mean_absolute_error: 11.7805\n",
            "Epoch 2/40\n",
            "5022/5022 [==============================] - 101s 20ms/step - loss: 244.5710 - mean_absolute_error: 11.6274 - val_loss: 239.9340 - val_mean_absolute_error: 11.4921\n",
            "Epoch 3/40\n",
            "5022/5022 [==============================] - 102s 20ms/step - loss: 227.3735 - mean_absolute_error: 11.1230 - val_loss: 228.6971 - val_mean_absolute_error: 11.1435\n",
            "Epoch 4/40\n",
            "5022/5022 [==============================] - 101s 20ms/step - loss: 219.0496 - mean_absolute_error: 10.8674 - val_loss: 233.4541 - val_mean_absolute_error: 11.2805\n",
            "Epoch 5/40\n",
            "5022/5022 [==============================] - 105s 21ms/step - loss: 214.5927 - mean_absolute_error: 10.7343 - val_loss: 227.1367 - val_mean_absolute_error: 10.9829\n",
            "Epoch 6/40\n",
            "5022/5022 [==============================] - 103s 21ms/step - loss: 208.9268 - mean_absolute_error: 10.5702 - val_loss: 224.0535 - val_mean_absolute_error: 10.9563\n",
            "Epoch 7/40\n",
            "5022/5022 [==============================] - 102s 20ms/step - loss: 204.5419 - mean_absolute_error: 10.4493 - val_loss: 227.7629 - val_mean_absolute_error: 10.7937\n",
            "Epoch 8/40\n",
            "5022/5022 [==============================] - 101s 20ms/step - loss: 201.4463 - mean_absolute_error: 10.3718 - val_loss: 220.3142 - val_mean_absolute_error: 10.7673\n",
            "Epoch 9/40\n",
            "5022/5022 [==============================] - 105s 21ms/step - loss: 199.6020 - mean_absolute_error: 10.3109 - val_loss: 212.5170 - val_mean_absolute_error: 10.5620\n",
            "Epoch 10/40\n",
            "5022/5022 [==============================] - 104s 21ms/step - loss: 196.5579 - mean_absolute_error: 10.2244 - val_loss: 220.9714 - val_mean_absolute_error: 10.7305\n",
            "Epoch 11/40\n",
            "5022/5022 [==============================] - 101s 20ms/step - loss: 194.8748 - mean_absolute_error: 10.1778 - val_loss: 236.4003 - val_mean_absolute_error: 11.2354\n",
            "Epoch 12/40\n",
            "5022/5022 [==============================] - 101s 20ms/step - loss: 193.2517 - mean_absolute_error: 10.1210 - val_loss: 228.9642 - val_mean_absolute_error: 11.0050\n",
            "Epoch 13/40\n",
            "5022/5022 [==============================] - 102s 20ms/step - loss: 192.4703 - mean_absolute_error: 10.1085 - val_loss: 215.0823 - val_mean_absolute_error: 10.5153\n",
            "Epoch 14/40\n",
            "5022/5022 [==============================] - 104s 21ms/step - loss: 190.7316 - mean_absolute_error: 10.0437 - val_loss: 217.2322 - val_mean_absolute_error: 10.6249\n",
            "Epoch 15/40\n",
            "5022/5022 [==============================] - 101s 20ms/step - loss: 189.0658 - mean_absolute_error: 9.9823 - val_loss: 215.8844 - val_mean_absolute_error: 10.5205\n",
            "Epoch 16/40\n",
            "5022/5022 [==============================] - 97s 19ms/step - loss: 188.6086 - mean_absolute_error: 9.9689 - val_loss: 237.4566 - val_mean_absolute_error: 11.4116\n",
            "Epoch 17/40\n",
            "5022/5022 [==============================] - 92s 18ms/step - loss: 186.3011 - mean_absolute_error: 9.9121 - val_loss: 225.4673 - val_mean_absolute_error: 11.0616\n",
            "Epoch 18/40\n",
            "5022/5022 [==============================] - 91s 18ms/step - loss: 185.0906 - mean_absolute_error: 9.8734 - val_loss: 209.1857 - val_mean_absolute_error: 10.3236\n",
            "Epoch 19/40\n",
            "5022/5022 [==============================] - 91s 18ms/step - loss: 184.7751 - mean_absolute_error: 9.8508 - val_loss: 210.8033 - val_mean_absolute_error: 10.4869\n",
            "Epoch 20/40\n",
            "5022/5022 [==============================] - 91s 18ms/step - loss: 183.8815 - mean_absolute_error: 9.8508 - val_loss: 211.7761 - val_mean_absolute_error: 10.4267\n",
            "Epoch 21/40\n",
            "5022/5022 [==============================] - 91s 18ms/step - loss: 182.5064 - mean_absolute_error: 9.8024 - val_loss: 217.2822 - val_mean_absolute_error: 10.7634\n",
            "Epoch 22/40\n",
            "5022/5022 [==============================] - 92s 18ms/step - loss: 181.2608 - mean_absolute_error: 9.7704 - val_loss: 212.2708 - val_mean_absolute_error: 10.3807\n",
            "Epoch 23/40\n",
            "5022/5022 [==============================] - 93s 19ms/step - loss: 179.9205 - mean_absolute_error: 9.7252 - val_loss: 213.1751 - val_mean_absolute_error: 10.5302\n",
            "Epoch 24/40\n",
            "5022/5022 [==============================] - 92s 18ms/step - loss: 179.6739 - mean_absolute_error: 9.7374 - val_loss: 215.7074 - val_mean_absolute_error: 10.6122\n",
            "Epoch 25/40\n",
            "5022/5022 [==============================] - 91s 18ms/step - loss: 178.6008 - mean_absolute_error: 9.6897 - val_loss: 208.8932 - val_mean_absolute_error: 10.2706\n",
            "Epoch 26/40\n",
            "5022/5022 [==============================] - 91s 18ms/step - loss: 178.4275 - mean_absolute_error: 9.6894 - val_loss: 221.2431 - val_mean_absolute_error: 10.8100\n",
            "Epoch 27/40\n",
            "5022/5022 [==============================] - 91s 18ms/step - loss: 177.5811 - mean_absolute_error: 9.6556 - val_loss: 212.3216 - val_mean_absolute_error: 10.3757\n",
            "Epoch 28/40\n",
            "5022/5022 [==============================] - 92s 18ms/step - loss: 176.9911 - mean_absolute_error: 9.6342 - val_loss: 210.5319 - val_mean_absolute_error: 10.3201\n",
            "Epoch 29/40\n",
            "5022/5022 [==============================] - 92s 18ms/step - loss: 175.3828 - mean_absolute_error: 9.5850 - val_loss: 208.8570 - val_mean_absolute_error: 10.3649\n",
            "Epoch 30/40\n",
            "5022/5022 [==============================] - 91s 18ms/step - loss: 174.9412 - mean_absolute_error: 9.5858 - val_loss: 210.9190 - val_mean_absolute_error: 10.4987\n",
            "Epoch 31/40\n",
            "5022/5022 [==============================] - 91s 18ms/step - loss: 175.2645 - mean_absolute_error: 9.5882 - val_loss: 212.6886 - val_mean_absolute_error: 10.3392\n",
            "Epoch 32/40\n",
            "5022/5022 [==============================] - 91s 18ms/step - loss: 174.5614 - mean_absolute_error: 9.5657 - val_loss: 206.3397 - val_mean_absolute_error: 10.2922\n",
            "Epoch 33/40\n",
            "5022/5022 [==============================] - 91s 18ms/step - loss: 173.3348 - mean_absolute_error: 9.5438 - val_loss: 207.9357 - val_mean_absolute_error: 10.2858\n",
            "Epoch 34/40\n",
            "5022/5022 [==============================] - 91s 18ms/step - loss: 172.3389 - mean_absolute_error: 9.5116 - val_loss: 204.9082 - val_mean_absolute_error: 10.1743\n",
            "Epoch 35/40\n",
            "5022/5022 [==============================] - 91s 18ms/step - loss: 172.0044 - mean_absolute_error: 9.5018 - val_loss: 211.8775 - val_mean_absolute_error: 10.3536\n",
            "Epoch 36/40\n",
            "5022/5022 [==============================] - 91s 18ms/step - loss: 171.6019 - mean_absolute_error: 9.5028 - val_loss: 207.8846 - val_mean_absolute_error: 10.3170\n",
            "Epoch 37/40\n",
            "5022/5022 [==============================] - 91s 18ms/step - loss: 171.2571 - mean_absolute_error: 9.4776 - val_loss: 205.0977 - val_mean_absolute_error: 10.2663\n",
            "Epoch 38/40\n",
            "5022/5022 [==============================] - 91s 18ms/step - loss: 171.0971 - mean_absolute_error: 9.4816 - val_loss: 220.4453 - val_mean_absolute_error: 10.7399\n",
            "Epoch 39/40\n",
            "5022/5022 [==============================] - 92s 18ms/step - loss: 170.4328 - mean_absolute_error: 9.4490 - val_loss: 204.8541 - val_mean_absolute_error: 10.1578\n",
            "Epoch 40/40\n",
            "5022/5022 [==============================] - 91s 18ms/step - loss: 169.2161 - mean_absolute_error: 9.4186 - val_loss: 207.9882 - val_mean_absolute_error: 10.2848\n"
          ]
        }
      ]
    },
    {
      "cell_type": "markdown",
      "source": [
        "## Summarize predictions"
      ],
      "metadata": {
        "id": "ISiuLItZgSne"
      }
    },
    {
      "cell_type": "markdown",
      "source": [
        "#### Predict test data and get labels (MOS)"
      ],
      "metadata": {
        "id": "tS2I_1XcghBI"
      }
    },
    {
      "cell_type": "code",
      "source": [
        "test_predictions = model.predict(test_generator)\n",
        "patch_info = test_generator.filenames # get list of test patches\n",
        "image_scores = {}\n",
        "for i, patch_path in enumerate(patch_info):\n",
        "    # Extract the base image name by removing the patch-specific part\n",
        "    base_image_name = \"_\".join(patch_path.split('_')[1:-2]) + '.bmp'\n",
        "    if base_image_name not in image_scores:\n",
        "        image_scores[base_image_name] = []\n",
        "    image_scores[base_image_name].append(test_predictions[i])\n",
        "\n",
        "average_scores = {image: np.mean(scores) for image, scores in image_scores.items()}\n",
        "average_scores_df = pd.DataFrame(list(average_scores.items()), columns=['Image', 'Predicted_MOS'])\n",
        "print(\"Summary of test predictions:\")\n",
        "print(average_scores_df.describe())\n",
        "\n",
        "test_images_mos = pd.read_csv('LIVE/dmos_with_names.csv')\n",
        "test_images_mos.rename(columns={'image_filename':'Image','DMOS':'DMOS'}, inplace=True)\n",
        "test_images_mos = pd.DataFrame(test_images_mos)\n",
        "# Force all extensions to be '.bmp' (there are inconsitencies between mos_with_names.txt and acutal filename)\n",
        "test_images_mos['Image'] = test_images_mos['Image'].apply(lambda x: x.lower())\n",
        "average_scores_df['Image'] = average_scores_df['Image'].apply(lambda x: x.lower())\n",
        "# Merge dataframes to match predicted mos with ground-truth mos\n",
        "merged_df = average_scores_df.merge(test_images_mos, on=\"Image\", how=\"inner\")\n",
        "merged_df.rename(columns={'Predicted_MOS_x': 'Predicted_MOS', 'Predicted_MOS_y': 'MOS'}, inplace=True)\n",
        "print(merged_df)"
      ],
      "metadata": {
        "colab": {
          "base_uri": "https://localhost:8080/"
        },
        "id": "WALGk_xS0em6",
        "outputId": "b39fabd7-820a-4266-db40-a7af3c6f4d09"
      },
      "execution_count": 20,
      "outputs": [
        {
          "output_type": "stream",
          "name": "stdout",
          "text": [
            "1701/1701 [==============================] - 20s 12ms/step\n",
            "Summary of test predictions:\n",
            "       Predicted_MOS\n",
            "count     156.000000\n",
            "mean       46.989861\n",
            "std        20.429504\n",
            "min        15.493736\n",
            "25%        29.995465\n",
            "50%        46.244007\n",
            "75%        62.921741\n",
            "max       101.130791\n",
            "                        Image  Predicted_MOS        DMOS\n",
            "0            sailing3_1_4.bmp      48.136986   42.497069\n",
            "1            sailing2_5_1.bmp      58.433220   54.352983\n",
            "2            sailing1_1_6.bmp      28.399149    7.692347\n",
            "3            sailing4_5_5.bmp      34.299217   34.050219\n",
            "4               plane_1_2.bmp      31.622618    5.651470\n",
            "..                        ...            ...         ...\n",
            "151        lighthouse_5_5.bmp      56.218266   58.499516\n",
            "152         buildings_5_1.bmp      55.530704   59.220409\n",
            "153           cemetry_3_2.bmp     100.710503  109.627084\n",
            "154        lighthouse_2_3.bmp      47.862003   42.576243\n",
            "155  churchandcapitol_2_1.bmp      29.910095   33.283198\n",
            "\n",
            "[156 rows x 3 columns]\n"
          ]
        }
      ]
    },
    {
      "cell_type": "markdown",
      "source": [
        "#### Calculate correlations"
      ],
      "metadata": {
        "id": "nPruT9IPiTug"
      }
    },
    {
      "cell_type": "code",
      "source": [
        "from scipy.stats import spearmanr, pearsonr\n",
        "# Drop NaN or inf values if present\n",
        "cleaned_df = merged_df.dropna()\n",
        "cleaned_df = cleaned_df[np.isfinite(cleaned_df['DMOS']) & np.isfinite(cleaned_df['Predicted_MOS'])]\n",
        "\n",
        "# Calculate LCC and SROCC\n",
        "lcc = pearsonr(cleaned_df['Predicted_MOS'], cleaned_df['DMOS'])[0]\n",
        "srocc = spearmanr(cleaned_df['Predicted_MOS'], cleaned_df['DMOS'])[0]\n",
        "\n",
        "print(f\"LCC (Linear Correlation Coefficient): {lcc}\")\n",
        "print(f\"SROCC (Spearman Rank Order Correlation Coefficient): {srocc}\")"
      ],
      "metadata": {
        "colab": {
          "base_uri": "https://localhost:8080/"
        },
        "id": "S8BCLrn3Mdqe",
        "outputId": "a7df2a3a-1fda-48c5-d593-c5bede940609"
      },
      "execution_count": 21,
      "outputs": [
        {
          "output_type": "stream",
          "name": "stdout",
          "text": [
            "LCC (Linear Correlation Coefficient): 0.9455074806908872\n",
            "SROCC (Spearman Rank Order Correlation Coefficient): 0.9436961641194227\n"
          ]
        }
      ]
    },
    {
      "cell_type": "markdown",
      "source": [
        "#### Visualize correletions and training"
      ],
      "metadata": {
        "id": "pXy-sFwPiY0C"
      }
    },
    {
      "cell_type": "code",
      "source": [
        "# Scatter plot with regression line\n",
        "plt.figure(figsize=(10, 6))\n",
        "sns.regplot(x='DMOS', y='Predicted_MOS', data=merged_df, scatter_kws={'s': 10}, line_kws={'color': 'red'})\n",
        "plt.xlabel('True MOS')\n",
        "plt.ylabel('Predicted MOS')\n",
        "plt.title('Scatter Plot of True MOS vs Predicted MOS')\n",
        "plt.grid(True)\n",
        "plt.show()\n",
        "\n",
        "y_pred = test_predictions\n",
        "y_true = test_generator.labels\n",
        "# Training progress (loss minimization)\n",
        "plt.figure(figsize=(10, 5))\n",
        "plt.plot(history.history['loss'], label='Loss')\n",
        "plt.plot(history.history['val_loss'], label='Validation Loss')\n",
        "plt.xlabel('Epochs')\n",
        "plt.ylabel('Loss')\n",
        "plt.legend()\n",
        "plt.title('Model Loss')\n",
        "plt.show()"
      ],
      "metadata": {
        "colab": {
          "base_uri": "https://localhost:8080/",
          "height": 1000
        },
        "id": "QnSB-ylXSE-d",
        "outputId": "f06986ba-b738-485f-8f5a-aa7b7259332a"
      },
      "execution_count": 22,
      "outputs": [
        {
          "output_type": "display_data",
          "data": {
            "text/plain": [
              "<Figure size 1000x600 with 1 Axes>"
            ],
            "image/png": "[encoded data removed]"
          },
          "metadata": {}
        },
        {
          "output_type": "display_data",
          "data": {
            "text/plain": [
              "<Figure size 1000x500 with 1 Axes>"
            ],
            "image/png": "[encoded data removed]"
          },
          "metadata": {}
        }
      ]
    }
  ]
}