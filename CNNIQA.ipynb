{
  "nbformat": 4,
  "nbformat_minor": 0,
  "metadata": {
    "colab": {
      "provenance": [],
      "machine_shape": "hm",
      "collapsed_sections": [
        "VZ71UCqittHi"
      ],
      "gpuType": "T4",
      "authorship_tag": "ABX9TyPRQr0+5qmPgnrRd/7x3dL1",
      "include_colab_link": true
    },
    "kernelspec": {
      "name": "python3",
      "display_name": "Python 3"
    },
    "language_info": {
      "name": "python"
    },
    "accelerator": "GPU"
  },
  "cells": [
    {
      "cell_type": "markdown",
      "metadata": {
        "id": "view-in-github",
        "colab_type": "text"
      },
      "source": [
        "<a href=\"https://colab.research.google.com/github/vvjft/DL_BIQA/blob/main/CNNIQA.ipynb\" target=\"_parent\"><img src=\"https://colab.research.google.com/assets/colab-badge.svg\" alt=\"Open In Colab\"/></a>"
      ]
    },
    {
      "cell_type": "markdown",
      "source": [
        "### **Dependencies**"
      ],
      "metadata": {
        "id": "VRPrxsbCsDWZ"
      }
    },
    {
      "cell_type": "code",
      "execution_count": 1,
      "metadata": {
        "id": "n5adwOYcqrS3",
        "colab": {
          "base_uri": "https://localhost:8080/"
        },
        "outputId": "3a82eec4-cda8-4cf1-fad7-90dddb80d360"
      },
      "outputs": [
        {
          "output_type": "stream",
          "name": "stdout",
          "text": [
            "Reading package lists... Done\n",
            "Building dependency tree... Done\n",
            "Reading state information... Done\n",
            "unrar is already the newest version (1:6.1.5-1).\n",
            "0 upgraded, 0 newly installed, 0 to remove and 45 not upgraded.\n"
          ]
        }
      ],
      "source": [
        "import tensorflow as tf\n",
        "import numpy as np\n",
        "import scipy\n",
        "import pandas as pd\n",
        "import os\n",
        "import matplotlib.pyplot as plt\n",
        "import seaborn as sns\n",
        "import cv2\n",
        "\n",
        "!apt-get install unrar"
      ]
    },
    {
      "cell_type": "markdown",
      "source": [
        "##### Download and extract dataset"
      ],
      "metadata": {
        "id": "EAyOHVzksLdr"
      }
    },
    {
      "cell_type": "code",
      "source": [
        "!wget https://www.ponomarenko.info/tid2013/tid2013.rar # tid2013\n",
        "\n",
        "from google.colab import drive\n",
        "drive.mount('/content/drive') # LIVE"
      ],
      "metadata": {
        "collapsed": true,
        "id": "8D30b-aernpn",
        "colab": {
          "base_uri": "https://localhost:8080/"
        },
        "outputId": "e5bd41de-bcc9-405e-f004-d848a9ffbd44"
      },
      "execution_count": 9,
      "outputs": [
        {
          "output_type": "stream",
          "name": "stdout",
          "text": [
            "--2024-06-09 20:10:40--  https://www.ponomarenko.info/tid2013/tid2013.rar\n",
            "Resolving www.ponomarenko.info (www.ponomarenko.info)... 191.96.144.105, 2a02:4780:22:dc8f:4160:c5f4:ba5f:1635\n",
            "Connecting to www.ponomarenko.info (www.ponomarenko.info)|191.96.144.105|:443... connected.\n",
            "HTTP request sent, awaiting response... 200 OK\n",
            "Length: 957680241 (913M) [application/x-rar-compressed]\n",
            "Saving to: ‘tid2013.rar.7’\n",
            "\n",
            "tid2013.rar.7       100%[===================>] 913.31M  15.7MB/s    in 59s     \n",
            "\n",
            "2024-06-09 20:11:40 (15.4 MB/s) - ‘tid2013.rar.7’ saved [957680241/957680241]\n",
            "\n",
            "Mounted at /content/drive\n"
          ]
        }
      ]
    },
    {
      "cell_type": "code",
      "source": [
        "!mkdir -p '/content/tid2013'\n",
        "!unrar x -inul '/content/tid2013.rar' '/content/tid2013'\n",
        "!rm '/content/tid2013.rar'\n",
        "!rm -r '/content/tid2013/metrics_values'\n",
        "!rm -r '/content/tid2013/papers'\n",
        "!rm '/content/tid2013/readme'\n",
        "!rm -r '/content/sample_data'\n",
        "\n",
        "!cp -r /content/drive/MyDrive/magisterka/LIVEIQA_release2 /content\n",
        "os.rename('/content/LIVEIQA_release2', '/content/LIVE')\n",
        "drive.flush_and_unmount()"
      ],
      "metadata": {
        "id": "bVU2r4DRsoKF",
        "collapsed": true
      },
      "execution_count": 10,
      "outputs": []
    },
    {
      "cell_type": "markdown",
      "source": [
        "Reset workspace or directory if needed"
      ],
      "metadata": {
        "id": "QHlo-4qMdRSm"
      }
    },
    {
      "cell_type": "code",
      "source": [
        "#!rm -r '/content/LIVE/normalized_distorted_images'\n",
        "#!rm -r '/content/tid2013'\n",
        "#!rm -r '/content/tid2013/patch_mos_with_names.csv'\n",
        "\n",
        "#%reset -f"
      ],
      "metadata": {
        "id": "-OEtoDjh0oBh"
      },
      "execution_count": null,
      "outputs": []
    },
    {
      "cell_type": "markdown",
      "source": [
        "### **Preprocessing**"
      ],
      "metadata": {
        "id": "vs7fpMeDsN-W"
      }
    },
    {
      "cell_type": "markdown",
      "source": [
        "##### Logistic mapping"
      ],
      "metadata": {
        "id": "p0CPxppSxUOU"
      }
    },
    {
      "cell_type": "code",
      "source": [
        "from scipy.optimize import curve_fit\n",
        "\n",
        "def logistic_function(x, a, b, c, d):\n",
        "    return a / (1 + np.exp(-c * (x - d))) + b\n",
        "\n",
        "def get_logistic_fun(data_tid, data_live):\n",
        "  def convert_mos_to_dmos(mos, dmos):\n",
        "      initial_params = [0, 0, 0, np.median(mos)]  # initial guess for parameters\n",
        "      popt, _ = curve_fit(logistic_function, mos, dmos, p0=initial_params, maxfev=10000)\n",
        "      return popt\n",
        "\n",
        "  train_data_tid, val_data_tid, test_data_tid = split_data(data_tid)\n",
        "  train_data_live, val_data_live, test_data_live = split_data(data_live)\n",
        "  # Align MOS and DMOS for fitting\n",
        "  mos_train = np.sort(train_data_tid['MOS'].values)\n",
        "  dmos_train = np.sort(train_data_live['DMOS'].values[:len(mos_train)])[::-1]  # ensure lengths match for curve fitting\n",
        "\n",
        "  params = convert_mos_to_dmos(mos_train, dmos_train)\n",
        "  #print(\"Estimated parameters:\", params)\n",
        "  data_tid['DMOS_pred'] = logistic_function(data_tid['MOS'].values, *params)\n",
        "\n",
        "  plt.scatter(data_tid['MOS'], data_tid['DMOS_pred'], label='Predicted DMOS', alpha=0.5)\n",
        "  plt.scatter(mos_train, dmos_train, label='Actual DMOS (Training Data)', alpha=0.5)\n",
        "  plt.title('Logistic mapping (MOS to DMOS)')\n",
        "  plt.xlabel('MOS')\n",
        "  plt.ylabel('DMOS')\n",
        "  plt.legend()\n",
        "  plt.grid(True)\n",
        "  plt.show()\n",
        "\n",
        "  return params"
      ],
      "metadata": {
        "id": "fT0r52xIGxoO"
      },
      "execution_count": 11,
      "outputs": []
    },
    {
      "cell_type": "markdown",
      "source": [
        "##### Normalize and slice to patches"
      ],
      "metadata": {
        "id": "sY_Mq9ja2EZZ"
      }
    },
    {
      "cell_type": "code",
      "source": [
        "from scipy.signal import convolve2d\n",
        "def normalize_and_slice(db_dir, train_data, val_data, test_data, patch_size=32, cross=False):\n",
        "\n",
        "  def local_normalize(patch, P=3, Q=3, C=1):\n",
        "      kernel = np.ones((P, Q)) / (P * Q)\n",
        "      patch_mean = convolve2d(patch, kernel, boundary='symm', mode='same')\n",
        "      patch_sm = convolve2d(np.square(patch), kernel, boundary='symm', mode='same')\n",
        "      patch_std = np.sqrt(np.maximum(patch_sm - np.square(patch_mean), 0))\n",
        "      patch_ln = (patch - patch_mean) / (patch_std + C)\n",
        "      return patch_ln.astype('float32')\n",
        "\n",
        "  sets = {'train': [train_data, 'training'], 'val':[val_data, 'validation'], 'test':[test_data, 'test']}\n",
        "\n",
        "  for key, (data, name) in sets.items():\n",
        "    if cross==True and name=='test':\n",
        "      db_dir = 'tid2013'\n",
        "\n",
        "    output_dir_full = f'{db_dir}/normalized_distorted_images/{name}/full/' # where to store normalized distorted images\n",
        "    output_dir_patches = f'{db_dir}/normalized_distorted_images/{name}/patches/' # where to store patches\n",
        "    norm_file_info_path = f'{db_dir}/normalized_distorted_images/{name}/norm_{name}.csv'\n",
        "    patch_file_info_path = f'{db_dir}/normalized_distorted_images/{name}/patch_{name}.csv'\n",
        "    os.makedirs(output_dir_full, exist_ok=True)\n",
        "    os.makedirs(output_dir_patches, exist_ok=True)\n",
        "\n",
        "    norm_info_list = []\n",
        "    patch_info_list = []\n",
        "\n",
        "    for index, row in data.iterrows():\n",
        "        image_filename = row[0]\n",
        "        mos_value = row[1]\n",
        "        distortion = row[2]\n",
        "        image_path = f'{db_dir}/distorted_images/{image_filename}'\n",
        "        image = cv2.imread(image_path)\n",
        "\n",
        "        if image is None:\n",
        "            print(f\"Failed to load image: {image_filename}\")\n",
        "            continue\n",
        "\n",
        "        # Normalize the image\n",
        "        image_gray = cv2.cvtColor(image, cv2.COLOR_BGR2GRAY)\n",
        "        image_normalized = local_normalize(image_gray)\n",
        "        # Save\n",
        "        image_filename = f'NORM_{image_filename}'\n",
        "        norm_info_list.append([image_filename, mos_value, distortion])\n",
        "        cv2.imwrite(output_dir_full+image_filename, image_normalized)\n",
        "        # Slice to patches\n",
        "        height, width = image_normalized.shape[:2]\n",
        "        num_patches_y = height // patch_size\n",
        "        num_patches_x = width // patch_size\n",
        "        patch_count = 0\n",
        "        for i in range(num_patches_y):\n",
        "            for j in range(num_patches_x):\n",
        "                patch = image_normalized[i*patch_size:(i+1)*patch_size, j*patch_size:(j+1)*patch_size]\n",
        "                patch_path = os.path.join(output_dir_patches, f\"{os.path.splitext(image_filename)[0]}_patch_{patch_count}.bmp\")\n",
        "                patch_filename = f\"{os.path.splitext(image_filename)[0]}_patch_{patch_count}.bmp\"\n",
        "                cv2.imwrite(patch_path, patch)\n",
        "                # Add patch info to the list\n",
        "                patch_info_list.append([patch_filename, mos_value, distortion])\n",
        "                patch_count += 1\n",
        "\n",
        "    norm_info_df = pd.DataFrame(norm_info_list, columns=['image_filename', score_measure, 'Distortion'])\n",
        "    norm_info_df.to_csv(norm_file_info_path, index=False)\n",
        "    print(f\"[{name}]: Saved full normalized distorted image info to:\\n{patch_file_info_path}.\")\n",
        "    patch_info_df = pd.DataFrame(patch_info_list, columns=['image_filename', score_measure, 'Distortion'])\n",
        "    patch_info_df.to_csv(patch_file_info_path, index=False)\n",
        "    print(f\"[{name}]: Saved patch info to {patch_file_info_path}.\")"
      ],
      "metadata": {
        "id": "HORzxa5RLJQV"
      },
      "execution_count": 12,
      "outputs": []
    },
    {
      "cell_type": "markdown",
      "source": [
        "##### Divide dataset"
      ],
      "metadata": {
        "id": "ES_6sLqq2QgZ"
      }
    },
    {
      "cell_type": "code",
      "source": [
        "from sklearn.model_selection import train_test_split, StratifiedShuffleSplit\n",
        "\n",
        "def load_tid2013(base_dir, filter=False):\n",
        "    distortion_mapping = {1: 'wn', 8: 'blur', 10: 'jpeg', 11: 'jp2k'}\n",
        "    data_path = os.path.join(base_dir, 'mos_with_names.txt')\n",
        "    data = pd.read_csv(data_path, header=None, delimiter=' ')\n",
        "    data = data.iloc[:, [1, 0]]  # swap column order\n",
        "    data.columns = ['image_filename', 'MOS']\n",
        "    # Specify distortion type based on filename\n",
        "    data['Distortion'] = data['image_filename'].apply(lambda x: distortion_mapping.get(int(x.split('_')[1]), 'other'))\n",
        "    if filter:\n",
        "        data = data[data['Distortion'].isin(distortion_mapping.values())]\n",
        "    return data\n",
        "\n",
        "def load_live(base_dir, filter=False):\n",
        "    data_path = os.path.join(base_dir, 'dmos_with_names.csv')\n",
        "    data = pd.read_csv(data_path, index_col=False)\n",
        "    if filter:\n",
        "      distortion_types = [1, 2, 3, 4] # filter distortions: jp2k, jpeg, wn and blur\n",
        "      data = data[data['image_filename'].apply(lambda x: int(x.split('_')[1]) in distortion_types)]\n",
        "    return data\n",
        "\n",
        "def split_data(data1, data2=None, params=None, cross=False):\n",
        "    if cross==True:\n",
        "      train_data, val_data = train_test_split(data1, test_size=0.2, random_state=40)\n",
        "      predicted_dmos = logistic_function(data2['MOS'].values, *params)\n",
        "      test_data = data2\n",
        "      test_data['MOS'] = predicted_dmos\n",
        "      test_data.rename(columns={'MOS':'DMOS'}, inplace=True)\n",
        "      return train_data, val_data, test_data\n",
        "    else:\n",
        "      train_data, test_data = train_test_split(data1, test_size=0.2, random_state=40)\n",
        "      train_data, val_data = train_test_split(train_data, test_size=0.25, random_state=40)\n",
        "      return train_data, val_data, test_data\n",
        "\n",
        "tid2013_dir = 'tid2013'\n",
        "live_dir = 'LIVE'\n",
        "db_dir = live_dir\n",
        "cross = False\n",
        "score_measure = 'DMOS' if db_dir == live_dir or cross == True else 'MOS'\n",
        "\n",
        "data_tid = load_tid2013(tid2013_dir, filter=True)\n",
        "data_tid.to_csv('tid2013/mos_with_names.csv', index=False)\n",
        "data_live = load_live(live_dir, filter=cross)\n",
        "data_live.to_csv('LIVE/dmos_with_names.csv', index=False)\n",
        "\n",
        "if cross == False:\n",
        "  '''Choose database to evaluate'''\n",
        "  data = data_live if db_dir == live_dir else data_tid\n",
        "  train_data, val_data, test_data = split_data(data)\n",
        "  normalize_and_slice(db_dir, train_data, val_data, test_data)\n",
        "\n",
        "  train_data = pd.read_csv(f'{db_dir}/normalized_distorted_images/training/patch_training.csv')\n",
        "  val_data = pd.read_csv(f'{db_dir}/normalized_distorted_images/validation/patch_validation.csv')\n",
        "  test_data = pd.read_csv(f'{db_dir}/normalized_distorted_images/test/patch_test.csv')\n",
        "else:\n",
        "  '''or perform cross validation'''\n",
        "  params = get_logistic_fun(data_tid, data_live)\n",
        "  train_data, val_data, test_data = split_data(data_live, data_tid, params, cross) # cross validation (TID2013 as test)\n",
        "  normalize_and_slice(db_dir, train_data, val_data, test_data, patch_size=32, cross=cross)\n",
        "\n",
        "  train_data = pd.read_csv(f'LIVE/normalized_distorted_images/training/patch_training.csv')\n",
        "  val_data = pd.read_csv(f'LIVE/normalized_distorted_images/validation/patch_validation.csv')\n",
        "  test_data = pd.read_csv(f'tid2013/normalized_distorted_images/test/patch_test.csv')"
      ],
      "metadata": {
        "id": "p0mKJcdDHQAI",
        "colab": {
          "base_uri": "https://localhost:8080/"
        },
        "outputId": "932bc8ec-f71a-4113-a917-c4bb369ef539"
      },
      "execution_count": 13,
      "outputs": [
        {
          "output_type": "stream",
          "name": "stdout",
          "text": [
            "[training]: Saved full normalized distorted image info to:\n",
            "LIVE/normalized_distorted_images/training/patch_training.csv.\n",
            "[training]: Saved patch info to LIVE/normalized_distorted_images/training/patch_training.csv.\n",
            "[validation]: Saved full normalized distorted image info to:\n",
            "LIVE/normalized_distorted_images/validation/patch_validation.csv.\n",
            "[validation]: Saved patch info to LIVE/normalized_distorted_images/validation/patch_validation.csv.\n",
            "[test]: Saved full normalized distorted image info to:\n",
            "LIVE/normalized_distorted_images/test/patch_test.csv.\n",
            "[test]: Saved patch info to LIVE/normalized_distorted_images/test/patch_test.csv.\n"
          ]
        }
      ]
    },
    {
      "cell_type": "markdown",
      "source": [
        "###### Validate the division"
      ],
      "metadata": {
        "id": "VZ71UCqittHi"
      }
    },
    {
      "cell_type": "code",
      "source": [
        "# Paths to the CSV files\n",
        "norm_training_csv = f'{db_dir}/normalized_distorted_images/training/norm_training.csv'\n",
        "norm_validation_csv = f'{db_dir}/normalized_distorted_images/validation/norm_validation.csv'\n",
        "norm_test_csv = f'{db_dir}/normalized_distorted_images/test/norm_test.csv'\n",
        "\n",
        "# Read the CSV files\n",
        "norm_training_df = pd.read_csv(norm_training_csv)\n",
        "norm_validation_df = pd.read_csv(norm_validation_csv)\n",
        "norm_test_df = pd.read_csv(norm_test_csv)\n",
        "\n",
        "# Extract the lists of filenames\n",
        "training_files = set(norm_training_df['image_filename'])\n",
        "validation_files = set(norm_validation_df['image_filename'])\n",
        "test_files = set(norm_test_df['image_filename'])\n",
        "\n",
        "# Check for common files\n",
        "common_training_validation = training_files.intersection(validation_files)\n",
        "common_training_test = training_files.intersection(test_files)\n",
        "common_validation_test = validation_files.intersection(test_files)\n",
        "\n",
        "# Print the results\n",
        "if not common_training_validation and not common_training_test and not common_validation_test:\n",
        "    print(\"There are no common files between norm_training, norm_validation, and norm_test.\")\n",
        "else:\n",
        "    if common_training_validation:\n",
        "        print(f\"Common files between training and validation: {common_training_validation}\")\n",
        "    if common_training_test:\n",
        "        print(f\"Common files between training and test: {common_training_test}\")\n",
        "    if common_validation_test:\n",
        "        print(f\"Common files between validation and test: {common_validation_test}\")\n"
      ],
      "metadata": {
        "colab": {
          "base_uri": "https://localhost:8080/"
        },
        "id": "AraumYdUj_Ls",
        "outputId": "b3d00b85-1215-487c-c177-75fb2fc4c377"
      },
      "execution_count": null,
      "outputs": [
        {
          "output_type": "stream",
          "name": "stdout",
          "text": [
            "There are no common files between norm_training, norm_validation, and norm_test.\n"
          ]
        }
      ]
    },
    {
      "cell_type": "markdown",
      "source": [
        "##### Load data into tensorflow data generators"
      ],
      "metadata": {
        "id": "6tFa7tPXeXMT"
      }
    },
    {
      "cell_type": "code",
      "source": [
        "from tensorflow.keras.preprocessing.image import ImageDataGenerator\n",
        "\n",
        "def create_data_generators(base_dir, train_data, val_data, test_data, batch_size):\n",
        "    datagen = ImageDataGenerator()\n",
        "    train_generator = datagen.flow_from_dataframe(\n",
        "        dataframe=train_data,\n",
        "        directory=os.path.join(base_dir, 'training/patches/'),\n",
        "        x_col='image_filename',\n",
        "        y_col=score_measure,\n",
        "        target_size=(32, 32),\n",
        "        batch_size=batch_size,\n",
        "        class_mode='raw',\n",
        "        shuffle=True,\n",
        "        seed=42\n",
        "    )\n",
        "    val_generator = datagen.flow_from_dataframe(\n",
        "        dataframe=val_data,\n",
        "        directory=os.path.join(base_dir, 'validation/patches/'),\n",
        "        x_col='image_filename',\n",
        "        y_col=score_measure,\n",
        "        target_size=(32, 32),\n",
        "        batch_size=batch_size,\n",
        "        class_mode='raw',\n",
        "        shuffle=True,\n",
        "        seed=42\n",
        "    )\n",
        "    if cross == True:\n",
        "      base_dir = 'tid2013/normalized_distorted_images'\n",
        "    test_generator = datagen.flow_from_dataframe(\n",
        "        dataframe=test_data,\n",
        "        directory=os.path.join(base_dir, 'test/patches/'),\n",
        "        x_col='image_filename',\n",
        "        y_col=score_measure,\n",
        "        target_size=(32, 32),\n",
        "        batch_size=batch_size,\n",
        "        class_mode='raw',\n",
        "        shuffle=False,\n",
        "        seed=42\n",
        "    )\n",
        "    return train_generator, val_generator, test_generator\n",
        "\n",
        "base_dir = f'{db_dir}/normalized_distorted_images'\n",
        "train_generator, val_generator, test_generator = create_data_generators(base_dir, train_data, val_data, test_data, batch_size=32)\n"
      ],
      "metadata": {
        "colab": {
          "base_uri": "https://localhost:8080/"
        },
        "id": "oW39LlfkqsNJ",
        "outputId": "b8e7a491-0e7e-4696-8099-469fe651356c"
      },
      "execution_count": 14,
      "outputs": [
        {
          "output_type": "stream",
          "name": "stdout",
          "text": [
            "Found 161332 validated image filenames.\n",
            "Found 53196 validated image filenames.\n",
            "Found 53332 validated image filenames.\n"
          ]
        }
      ]
    },
    {
      "cell_type": "markdown",
      "source": [
        "### **Define and train the model**"
      ],
      "metadata": {
        "id": "4NHnpI_vesrH"
      }
    },
    {
      "cell_type": "markdown",
      "source": [
        "##### Network architecture"
      ],
      "metadata": {
        "id": "ATY5cvloe4AO"
      }
    },
    {
      "cell_type": "code",
      "source": [
        "from tensorflow.keras.models import Sequential\n",
        "from tensorflow.keras.layers import Conv2D, GlobalMaxPooling2D, Dense, Dropout, Flatten, Concatenate, Input\n",
        "from tensorflow.keras.models import Model\n",
        "import tensorflow as tf\n",
        "\n",
        "def global_min_pooling(inputs):\n",
        "    neg_inputs = -inputs\n",
        "    min_pool = GlobalMaxPooling2D()(neg_inputs)\n",
        "    return -min_pool\n",
        "\n",
        "def build_model():\n",
        "    inputs = Input(shape=(32, 32, 3))\n",
        "    conv_layer = Conv2D(50, (7, 7), activation='relu')(inputs)  # linear  in the paper\n",
        "    max_pool = GlobalMaxPooling2D()(conv_layer)\n",
        "    min_pool = global_min_pooling(conv_layer)\n",
        "    #concatenated = Concatenate()([max_pool, min_pool])\n",
        "\n",
        "    dense_1 = Dense(800, activation='relu')(max_pool)\n",
        "    dense_2 = Dense(800, activation='relu')(dense_1)\n",
        "    dropout = Dropout(0.5)(dense_2)  # Add dropout to prevent overfitting\n",
        "    outputs = Dense(1, activation='linear')(dropout)  # Output layer for the quality score\n",
        "\n",
        "    model = Model(inputs, outputs)\n",
        "    return model\n",
        "\n",
        "model = build_model()\n",
        "model.compile(optimizer='adam', loss='mean_absolute_error')  # mean_absolute_error as both loss and metric\n",
        "model.summary()\n"
      ],
      "metadata": {
        "id": "f0NZk2e61XQ4",
        "colab": {
          "base_uri": "https://localhost:8080/"
        },
        "outputId": "e98fa353-3667-4065-9d39-47419d314943"
      },
      "execution_count": 25,
      "outputs": [
        {
          "output_type": "stream",
          "name": "stdout",
          "text": [
            "Model: \"model_2\"\n",
            "_________________________________________________________________\n",
            " Layer (type)                Output Shape              Param #   \n",
            "=================================================================\n",
            " input_3 (InputLayer)        [(None, 32, 32, 3)]       0         \n",
            "                                                                 \n",
            " conv2d_2 (Conv2D)           (None, 26, 26, 50)        7400      \n",
            "                                                                 \n",
            " global_max_pooling2d_4 (Gl  (None, 50)                0         \n",
            " obalMaxPooling2D)                                               \n",
            "                                                                 \n",
            " dense_6 (Dense)             (None, 800)               40800     \n",
            "                                                                 \n",
            " dense_7 (Dense)             (None, 800)               640800    \n",
            "                                                                 \n",
            " dropout_2 (Dropout)         (None, 800)               0         \n",
            "                                                                 \n",
            " dense_8 (Dense)             (None, 1)                 801       \n",
            "                                                                 \n",
            "=================================================================\n",
            "Total params: 689801 (2.63 MB)\n",
            "Trainable params: 689801 (2.63 MB)\n",
            "Non-trainable params: 0 (0.00 Byte)\n",
            "_________________________________________________________________\n"
          ]
        }
      ]
    },
    {
      "cell_type": "markdown",
      "source": [
        "#### Training"
      ],
      "metadata": {
        "id": "QXKdDuPye9nT"
      }
    },
    {
      "cell_type": "code",
      "source": [
        "history = model.fit(train_generator, epochs=40, validation_data=val_generator)"
      ],
      "metadata": {
        "colab": {
          "base_uri": "https://localhost:8080/"
        },
        "id": "4_lntSvq1czn",
        "outputId": "3b4a20ad-1318-46f6-f9be-d8112b8b414b"
      },
      "execution_count": 26,
      "outputs": [
        {
          "output_type": "stream",
          "name": "stdout",
          "text": [
            "Epoch 1/40\n",
            "5042/5042 [==============================] - 86s 17ms/step - loss: 13.4995 - val_loss: 12.5598\n",
            "Epoch 2/40\n",
            "5042/5042 [==============================] - 85s 17ms/step - loss: 11.3670 - val_loss: 12.0278\n",
            "Epoch 3/40\n",
            "5042/5042 [==============================] - 85s 17ms/step - loss: 10.9718 - val_loss: 12.2545\n",
            "Epoch 4/40\n",
            "5042/5042 [==============================] - 83s 17ms/step - loss: 10.7105 - val_loss: 11.6201\n",
            "Epoch 5/40\n",
            "5042/5042 [==============================] - 84s 17ms/step - loss: 10.4968 - val_loss: 11.7523\n",
            "Epoch 6/40\n",
            "5042/5042 [==============================] - 83s 17ms/step - loss: 10.4123 - val_loss: 11.8688\n",
            "Epoch 7/40\n",
            "5042/5042 [==============================] - 84s 17ms/step - loss: 10.2893 - val_loss: 11.5884\n",
            "Epoch 8/40\n",
            "5042/5042 [==============================] - 85s 17ms/step - loss: 10.2019 - val_loss: 11.7096\n",
            "Epoch 9/40\n",
            "5042/5042 [==============================] - 84s 17ms/step - loss: 10.1396 - val_loss: 11.2756\n",
            "Epoch 10/40\n",
            "5042/5042 [==============================] - 84s 17ms/step - loss: 10.0823 - val_loss: 11.5527\n",
            "Epoch 11/40\n",
            "5042/5042 [==============================] - 83s 17ms/step - loss: 10.0092 - val_loss: 11.6303\n",
            "Epoch 12/40\n",
            "5042/5042 [==============================] - 84s 17ms/step - loss: 9.9502 - val_loss: 11.3781\n",
            "Epoch 13/40\n",
            "5042/5042 [==============================] - 84s 17ms/step - loss: 9.8905 - val_loss: 11.3505\n",
            "Epoch 14/40\n",
            "5042/5042 [==============================] - 83s 16ms/step - loss: 9.8498 - val_loss: 11.4110\n",
            "Epoch 15/40\n",
            "5042/5042 [==============================] - 84s 17ms/step - loss: 9.8193 - val_loss: 11.2049\n",
            "Epoch 16/40\n",
            "5042/5042 [==============================] - 83s 17ms/step - loss: 9.7611 - val_loss: 11.1914\n",
            "Epoch 17/40\n",
            "5042/5042 [==============================] - 84s 17ms/step - loss: 9.7285 - val_loss: 11.5370\n",
            "Epoch 18/40\n",
            "5042/5042 [==============================] - 83s 17ms/step - loss: 9.6811 - val_loss: 11.1190\n",
            "Epoch 19/40\n",
            "5042/5042 [==============================] - 84s 17ms/step - loss: 9.6561 - val_loss: 11.2448\n",
            "Epoch 20/40\n",
            "5042/5042 [==============================] - 84s 17ms/step - loss: 9.6395 - val_loss: 11.4198\n",
            "Epoch 21/40\n",
            "5042/5042 [==============================] - 83s 17ms/step - loss: 9.6192 - val_loss: 11.1944\n",
            "Epoch 22/40\n",
            "5042/5042 [==============================] - 82s 16ms/step - loss: 9.5913 - val_loss: 11.1516\n",
            "Epoch 23/40\n",
            "5042/5042 [==============================] - 84s 17ms/step - loss: 9.5635 - val_loss: 11.1886\n",
            "Epoch 24/40\n",
            "5042/5042 [==============================] - 84s 17ms/step - loss: 9.5345 - val_loss: 11.1660\n",
            "Epoch 25/40\n",
            "5042/5042 [==============================] - 84s 17ms/step - loss: 9.4824 - val_loss: 11.3133\n",
            "Epoch 26/40\n",
            "5042/5042 [==============================] - 84s 17ms/step - loss: 9.4847 - val_loss: 11.2351\n",
            "Epoch 27/40\n",
            "5042/5042 [==============================] - 84s 17ms/step - loss: 9.4570 - val_loss: 11.1301\n",
            "Epoch 28/40\n",
            "5042/5042 [==============================] - 84s 17ms/step - loss: 9.4425 - val_loss: 11.0086\n",
            "Epoch 29/40\n",
            "5042/5042 [==============================] - 84s 17ms/step - loss: 9.4230 - val_loss: 11.3284\n",
            "Epoch 30/40\n",
            "5042/5042 [==============================] - 84s 17ms/step - loss: 9.4041 - val_loss: 11.2907\n",
            "Epoch 31/40\n",
            "5042/5042 [==============================] - 84s 17ms/step - loss: 9.3860 - val_loss: 11.0252\n",
            "Epoch 32/40\n",
            "5042/5042 [==============================] - 83s 17ms/step - loss: 9.3784 - val_loss: 11.1526\n",
            "Epoch 33/40\n",
            "5042/5042 [==============================] - 84s 17ms/step - loss: 9.3660 - val_loss: 11.0433\n",
            "Epoch 34/40\n",
            "5042/5042 [==============================] - 83s 17ms/step - loss: 9.3378 - val_loss: 11.0390\n",
            "Epoch 35/40\n",
            "5042/5042 [==============================] - 84s 17ms/step - loss: 9.3385 - val_loss: 11.0340\n",
            "Epoch 36/40\n",
            "5042/5042 [==============================] - 83s 17ms/step - loss: 9.3117 - val_loss: 10.9010\n",
            "Epoch 37/40\n",
            "5042/5042 [==============================] - 83s 16ms/step - loss: 9.2946 - val_loss: 11.0664\n",
            "Epoch 38/40\n",
            "5042/5042 [==============================] - 84s 17ms/step - loss: 9.2903 - val_loss: 11.1543\n",
            "Epoch 39/40\n",
            "5042/5042 [==============================] - 82s 16ms/step - loss: 9.2787 - val_loss: 11.0505\n",
            "Epoch 40/40\n",
            "5042/5042 [==============================] - 82s 16ms/step - loss: 9.2791 - val_loss: 11.0857\n"
          ]
        }
      ]
    },
    {
      "cell_type": "markdown",
      "source": [
        "### **Summarize predictions**"
      ],
      "metadata": {
        "id": "ISiuLItZgSne"
      }
    },
    {
      "cell_type": "markdown",
      "source": [
        "##### Predict DMOS/MOS score"
      ],
      "metadata": {
        "id": "tS2I_1XcghBI"
      }
    },
    {
      "cell_type": "code",
      "source": [
        "test_predictions = model.predict(test_generator)\n",
        "patch_info = test_generator.filenames # get list of test patches\n",
        "image_scores = {}\n",
        "for i, patch_path in enumerate(patch_info):\n",
        "    # Extract the base image name by removing the patch-specific part\n",
        "    base_image_name = \"_\".join(patch_path.split('_')[0:-2]) + '.bmp'\n",
        "    if base_image_name not in image_scores:\n",
        "        image_scores[base_image_name] = []\n",
        "    image_scores[base_image_name].append(test_predictions[i])\n",
        "\n",
        "average_scores = {image: np.mean(scores) for image, scores in image_scores.items()}\n",
        "average_scores_df = pd.DataFrame(list(average_scores.items()), columns=['Image', f'Predicted_{score_measure}'])\n",
        "print(\"Summary of test predictions:\")\n",
        "print(average_scores_df.describe())\n",
        "\n",
        "if cross == True:\n",
        "  db_dir = tid2013_dir\n",
        "test_images_score = pd.read_csv(f'{db_dir}/normalized_distorted_images/test/norm_test.csv')\n",
        "test_images_score.rename(columns={'image_filename':'Image', score_measure:score_measure, 'Distortion':'Distortion'}, inplace=True)\n",
        "\n",
        "# Force all extensions to be '.bmp' (there are inconsitencies between mos_with_names.txt and actual filename: '.bmp' vs '.BMP')\n",
        "test_images_score['Image'] = test_images_score['Image'].apply(lambda x: x.lower())\n",
        "average_scores_df['Image'] = average_scores_df['Image'].apply(lambda x: x.lower())\n",
        "\n",
        "# Merge dataframes to match predicted mos with ground-truth score\n",
        "merged_df = average_scores_df.merge(test_images_score, on=\"Image\", how=\"inner\")\n",
        "merged_df.rename(columns={f'Predicted_{score_measure}_x': f'Predicted_{score_measure}', f'Predicted_{score_measure}_y': {score_measure}}, inplace=True)\n",
        "merged_df['Image'] = merged_df['Image'].str.replace('norm_', '')\n",
        "print(merged_df)"
      ],
      "metadata": {
        "colab": {
          "base_uri": "https://localhost:8080/"
        },
        "id": "WALGk_xS0em6",
        "outputId": "260f5f30-2f4d-46f2-ce1c-88ee5660d625"
      },
      "execution_count": 27,
      "outputs": [
        {
          "output_type": "stream",
          "name": "stdout",
          "text": [
            "1667/1667 [==============================] - 20s 12ms/step\n",
            "Summary of test predictions:\n",
            "       Predicted_DMOS\n",
            "count      156.000000\n",
            "mean        46.939278\n",
            "std         23.023952\n",
            "min         13.306361\n",
            "25%         27.504299\n",
            "50%         44.431486\n",
            "75%         63.196050\n",
            "max         99.237907\n",
            "                        Image  Predicted_DMOS       DMOS  Distortion\n",
            "0         lighthouse2_4_5.bmp       20.368454  24.912864       gblur\n",
            "1               plane_5_1.bmp       45.910305  49.804950  fastfading\n",
            "2               house_3_2.bmp       18.737526  20.527485          wn\n",
            "3             cemetry_2_4.bmp       17.932951  24.492693        jpeg\n",
            "4             cemetry_1_1.bmp       61.035828  73.091742        jp2k\n",
            "..                        ...             ...        ...         ...\n",
            "151          sailing2_3_2.bmp       18.046852  21.610529          wn\n",
            "152           parrots_4_1.bmp       31.049944  23.747801       gblur\n",
            "153             house_3_1.bmp       62.345692  66.531650          wn\n",
            "154          womanhat_3_2.bmp       19.118906  23.038582          wn\n",
            "155  studentsculpture_5_1.bmp       69.053757  84.353989  fastfading\n",
            "\n",
            "[156 rows x 4 columns]\n"
          ]
        }
      ]
    },
    {
      "cell_type": "markdown",
      "source": [
        "##### Calculate correlations"
      ],
      "metadata": {
        "id": "nPruT9IPiTug"
      }
    },
    {
      "cell_type": "code",
      "source": [
        "from scipy.stats import spearmanr, pearsonr\n",
        "# Drop NaN or inf values if present\n",
        "cleaned_df = merged_df.dropna()\n",
        "cleaned_df = cleaned_df[np.isfinite(cleaned_df[score_measure]) & np.isfinite(cleaned_df[f'Predicted_{score_measure}'])]\n",
        "\n",
        "# Calculate LCC and SROCC\n",
        "lcc = pearsonr(cleaned_df[f'Predicted_{score_measure}'], cleaned_df[score_measure])[0]\n",
        "srocc = spearmanr(cleaned_df[f'Predicted_{score_measure}'], cleaned_df[score_measure])[0]\n",
        "\n",
        "print('All:')\n",
        "print(f\"  LCC (Linear Correlation Coefficient): {lcc}\")\n",
        "print(f\"  SROCC (Spearman Rank Order Correlation Coefficient): {srocc}\")\n",
        "\n",
        "# Calculate LCC and SROCC for each distortion\n",
        "grouped = cleaned_df.groupby('Distortion')\n",
        "\n",
        "for name, group in grouped:\n",
        "    group_lcc = pearsonr(group[f'Predicted_{score_measure}'], group[score_measure])[0]\n",
        "    group_srocc = spearmanr(group[f'Predicted_{score_measure}'], group[score_measure])[0]\n",
        "    print(f\"Distortion: {name}\")\n",
        "    print(f\"  LCC: {group_lcc}\")\n",
        "    print(f\"  SROCC: {group_srocc}\")"
      ],
      "metadata": {
        "colab": {
          "base_uri": "https://localhost:8080/"
        },
        "id": "S8BCLrn3Mdqe",
        "outputId": "18729e4b-9dcf-43dd-91b6-df8c48bbc014"
      },
      "execution_count": 28,
      "outputs": [
        {
          "output_type": "stream",
          "name": "stdout",
          "text": [
            "All:\n",
            "  LCC (Linear Correlation Coefficient): 0.9469029889750047\n",
            "  SROCC (Spearman Rank Order Correlation Coefficient): 0.9487434596764984\n",
            "Distortion: fastfading\n",
            "  LCC: 0.8995461579303835\n",
            "  SROCC: 0.907007786429366\n",
            "Distortion: gblur\n",
            "  LCC: 0.94245293286834\n",
            "  SROCC: 0.9541871921182266\n",
            "Distortion: jp2k\n",
            "  LCC: 0.9286071900041938\n",
            "  SROCC: 0.9541788856304986\n",
            "Distortion: jpeg\n",
            "  LCC: 0.9801235555566087\n",
            "  SROCC: 0.9527850096067785\n",
            "Distortion: wn\n",
            "  LCC: 0.9920978424624344\n",
            "  SROCC: 0.9860123281175911\n"
          ]
        }
      ]
    },
    {
      "cell_type": "markdown",
      "source": [
        "##### Visualize correletions and training"
      ],
      "metadata": {
        "id": "pXy-sFwPiY0C"
      }
    },
    {
      "cell_type": "code",
      "source": [
        "# Scatter plot with regression line\n",
        "plt.figure(figsize=(8, 6))\n",
        "sns.scatterplot(x=score_measure, y=f'Predicted_{score_measure}', data=merged_df, hue='Distortion', palette='tab10', s=20)\n",
        "sns.regplot(x=score_measure, y=f'Predicted_{score_measure}', data=merged_df, scatter=False, line_kws={'color': 'black'})\n",
        "plt.xlabel(f'True {score_measure}')\n",
        "plt.ylabel(f'Predicted {score_measure}')\n",
        "plt.title(f'Scatter Plot of True {score_measure} vs Predicted {score_measure}')\n",
        "plt.grid(True)\n",
        "plt.show()\n",
        "\n",
        "y_pred = test_predictions\n",
        "y_true = test_generator.labels\n",
        "# Training progress (loss minimization)\n",
        "plt.figure(figsize=(10, 5))\n",
        "plt.plot(history.history['loss'], label='Loss')\n",
        "plt.plot(history.history['val_loss'], label='Validation Loss')\n",
        "plt.xlabel('Epochs')\n",
        "plt.ylabel('Loss')\n",
        "plt.legend()\n",
        "plt.title('Model Loss')\n",
        "plt.show()"
      ],
      "metadata": {
        "colab": {
          "base_uri": "https://localhost:8080/",
          "height": 1000
        },
        "id": "QnSB-ylXSE-d",
        "outputId": "5eb098ee-0a74-4605-82ce-4b354fe42396"
      },
      "execution_count": 29,
      "outputs": [
        {
          "output_type": "display_data",
          "data": {
            "text/plain": [
              "<Figure size 800x600 with 1 Axes>"
            ],
            "image/png": "[encoded data removed]"
          },
          "metadata": {}
        },
        {
          "output_type": "display_data",
          "data": {
            "text/plain": [
              "<Figure size 1000x500 with 1 Axes>"
            ],
            "image/png": "[encoded data removed]"
          },
          "metadata": {}
        }
      ]
    }
  ]
}