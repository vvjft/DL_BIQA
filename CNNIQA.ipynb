{
  "nbformat": 4,
  "nbformat_minor": 0,
  "metadata": {
    "colab": {
      "provenance": [],
      "machine_shape": "hm",
      "authorship_tag": "ABX9TyPEH7gZznyrPLO++nof/5F4",
      "include_colab_link": true
    },
    "kernelspec": {
      "name": "python3",
      "display_name": "Python 3"
    },
    "language_info": {
      "name": "python"
    }
  },
  "cells": [
    {
      "cell_type": "markdown",
      "metadata": {
        "id": "view-in-github",
        "colab_type": "text"
      },
      "source": [
        "<a href=\"https://colab.research.google.com/github/vvjft/DL_BIQA/blob/main/CNNIQA.ipynb\" target=\"_parent\"><img src=\"https://colab.research.google.com/assets/colab-badge.svg\" alt=\"Open In Colab\"/></a>"
      ]
    },
    {
      "cell_type": "markdown",
      "source": [
        "##Dependencies"
      ],
      "metadata": {
        "id": "VRPrxsbCsDWZ"
      }
    },
    {
      "cell_type": "code",
      "execution_count": 1,
      "metadata": {
        "id": "n5adwOYcqrS3",
        "colab": {
          "base_uri": "https://localhost:8080/"
        },
        "outputId": "4f7ad438-261e-465c-fd37-35e3ca3b0b48"
      },
      "outputs": [
        {
          "output_type": "stream",
          "name": "stdout",
          "text": [
            "Reading package lists... Done\n",
            "Building dependency tree... Done\n",
            "Reading state information... Done\n",
            "unrar is already the newest version (1:6.1.5-1).\n",
            "0 upgraded, 0 newly installed, 0 to remove and 45 not upgraded.\n"
          ]
        }
      ],
      "source": [
        "import tensorflow as tf\n",
        "import numpy as np\n",
        "import scipy\n",
        "import pandas as pd\n",
        "import os\n",
        "import matplotlib.pyplot as plt\n",
        "import seaborn as sns\n",
        "import cv2\n",
        "\n",
        "!apt-get install unrar"
      ]
    },
    {
      "cell_type": "markdown",
      "source": [
        "### Download and extract dataset"
      ],
      "metadata": {
        "id": "EAyOHVzksLdr"
      }
    },
    {
      "cell_type": "code",
      "source": [
        "!wget https://www.ponomarenko.info/tid2013/tid2013.rar # tid2013\n"
      ],
      "metadata": {
        "collapsed": true,
        "id": "8D30b-aernpn",
        "colab": {
          "base_uri": "https://localhost:8080/"
        },
        "outputId": "18f319a9-28bd-4f71-d58d-3cb3814ddfae"
      },
      "execution_count": 2,
      "outputs": [
        {
          "output_type": "stream",
          "name": "stdout",
          "text": [
            "--2024-05-31 12:48:54--  https://www.ponomarenko.info/tid2013/tid2013.rar\n",
            "Resolving www.ponomarenko.info (www.ponomarenko.info)... 191.96.144.231, 2a02:4780:1e:bf4d:b0d3:31bf:475d:562c\n",
            "Connecting to www.ponomarenko.info (www.ponomarenko.info)|191.96.144.231|:443... connected.\n",
            "HTTP request sent, awaiting response... 200 OK\n",
            "Length: 957680241 (913M) [application/x-rar-compressed]\n",
            "Saving to: ‘tid2013.rar’\n",
            "\n",
            "tid2013.rar         100%[===================>] 913.31M   179MB/s    in 5.0s    \n",
            "\n",
            "2024-05-31 12:49:00 (181 MB/s) - ‘tid2013.rar’ saved [957680241/957680241]\n",
            "\n"
          ]
        }
      ]
    },
    {
      "cell_type": "code",
      "source": [
        "!mkdir -p '/content/tid2013'\n",
        "!unrar x -inul '/content/tid2013.rar' '/content/tid2013'\n",
        "!rm '/content/tid2013.rar'\n",
        "!rm -r '/content/tid2013/metrics_values'\n",
        "!rm -r '/content/tid2013/papers'\n",
        "!rm '/content/tid2013/readme'\n",
        "!rm -r '/content/sample_data'"
      ],
      "metadata": {
        "id": "bVU2r4DRsoKF",
        "collapsed": true
      },
      "execution_count": 3,
      "outputs": []
    },
    {
      "cell_type": "markdown",
      "source": [
        "Reset directory if needed"
      ],
      "metadata": {
        "id": "QHlo-4qMdRSm"
      }
    },
    {
      "cell_type": "code",
      "source": [
        "#!rm -r '/content/tid2013/normalized_distorted_images'\n",
        "#!rm -r '/content/tid2013/patch_mos_with_names.csv'"
      ],
      "metadata": {
        "id": "-OEtoDjh0oBh"
      },
      "execution_count": 7,
      "outputs": []
    },
    {
      "cell_type": "markdown",
      "source": [
        "##Preprocessing"
      ],
      "metadata": {
        "id": "vs7fpMeDsN-W"
      }
    },
    {
      "cell_type": "markdown",
      "source": [
        "#### Divide dataset"
      ],
      "metadata": {
        "id": "p0CPxppSxUOU"
      }
    },
    {
      "cell_type": "code",
      "source": [
        "from sklearn.model_selection import train_test_split\n",
        "\n",
        "def load_data(base_dir):\n",
        "    data_path = os.path.join(base_dir, 'mos_with_names.txt')\n",
        "    data = pd.read_csv(data_path, header=None, delimiter=' ')\n",
        "    distortion_types = [1, 8, 10, 11] # filter distortions: wn, blur, jpeg and jp2k\n",
        "    filtered_data = data[data[1].apply(lambda x: int(x.split('_')[1]) in distortion_types)]\n",
        "    filtered_data.columns = ['MOS', 'image_filename']\n",
        "    # Force all extensions to be '.bmp' (there are inconsitencies between mos_with_names.txt and acutal filename)\n",
        "    #filtered_data['image_filename'] = filtered_data['image_filename'].apply(lambda x: x.lower())\n",
        "    return filtered_data\n",
        "\n",
        "def split_data(data):\n",
        "    train_data, test_data = train_test_split(data, test_size=0.2, random_state=42)\n",
        "    train_data, val_data = train_test_split(train_data, test_size=0.25, random_state=42)\n",
        "    return train_data, val_data, test_data\n",
        "\n",
        "# Załaduj dane i podziel je\n",
        "base_dir = 'tid2013'\n",
        "data = load_data(base_dir)\n",
        "data.to_csv('tid2013/filtered_mos_with_names.csv')\n",
        "train_data, val_data, test_data = split_data(data)"
      ],
      "metadata": {
        "id": "p0mKJcdDHQAI"
      },
      "execution_count": 23,
      "outputs": []
    },
    {
      "cell_type": "markdown",
      "source": [
        "#### Normalize and slice to patches"
      ],
      "metadata": {
        "id": "NmPjGksxxYaY"
      }
    },
    {
      "cell_type": "code",
      "source": [
        "from scipy.signal import convolve2d\n",
        "def liqd92_normalize(patch, P=3, Q=3, C=1):\n",
        "    kernel = np.ones((P, Q)) / (P * Q)\n",
        "    patch_mean = convolve2d(patch, kernel, boundary='symm', mode='same')\n",
        "    patch_sm = convolve2d(np.square(patch), kernel, boundary='symm', mode='same')\n",
        "    patch_std = np.sqrt(np.maximum(patch_sm - np.square(patch_mean), 0)) + C\n",
        "    patch_ln = (patch - patch_mean) / patch_std\n",
        "    return patch_ln.astype('float32')\n",
        "\n",
        "sets = {'train': [train_data, 'training'], 'val':[val_data, 'validation'], 'test':[test_data, 'test']}\n",
        "input_dir = 'tid2013/distorted_images/'\n",
        "\n",
        "for key, (data, name) in sets.items():\n",
        "\n",
        "  output_dir_full = f'tid2013/normalized_distorted_images/{name}/full/' # where to store normalized distorted images\n",
        "  output_dir_patches = f'tid2013/normalized_distorted_images/{name}/patches/' # where to store patches\n",
        "  norm_file_info_path = f'tid2013/normalized_distorted_images/{name}/norm_{name}.csv'\n",
        "  patch_file_info_path = f'tid2013/normalized_distorted_images/{name}/patch_{name}.csv'\n",
        "  os.makedirs(output_dir_full, exist_ok=True)\n",
        "  os.makedirs(output_dir_patches, exist_ok=True)\n",
        "\n",
        "  norm_info_list = []\n",
        "  patch_info_list = []\n",
        "  for index, row in data.iterrows():\n",
        "      mos_value = row[0]\n",
        "      image_filename = row[1]\n",
        "      image_path = input_dir + image_filename\n",
        "      image = cv2.imread(image_path)\n",
        "      if image is None:\n",
        "          print(f\"Failed to load image: {image_filename}\")\n",
        "          continue\n",
        "      # Normalize the image\n",
        "      image_gray = cv2.cvtColor(image, cv2.COLOR_BGR2GRAY)\n",
        "      image_normalized = liqd92_normalize(image_gray)\n",
        "      image_normalized = cv2.cvtColor(image_normalized, cv2.COLOR_GRAY2BGR)\n",
        "      # Save\n",
        "      image_filename = \"NORM_\"+image_filename\n",
        "      norm_info_list.append([image_filename, mos_value])\n",
        "      cv2.imwrite(output_dir_full+image_filename, image_normalized)\n",
        "      # Slice to patches\n",
        "      height, width = image_normalized.shape[:2]\n",
        "      patch_size = 32\n",
        "      num_patches_y = height // patch_size\n",
        "      num_patches_x = width // patch_size\n",
        "      patch_count = 0\n",
        "      for i in range(num_patches_y):\n",
        "          for j in range(num_patches_x):\n",
        "              patch = image_normalized[i*patch_size:(i+1)*patch_size, j*patch_size:(j+1)*patch_size]\n",
        "              patch_path = os.path.join(output_dir_patches, f\"{os.path.splitext(image_filename)[0]}_patch_{patch_count}.bmp\")\n",
        "              patch_filename = f\"{os.path.splitext(image_filename)[0]}_patch_{patch_count}.bmp\"\n",
        "              cv2.imwrite(patch_path, patch)\n",
        "\n",
        "              # Add patch info to the list\n",
        "              patch_info_list.append([patch_filename, mos_value])\n",
        "              patch_count += 1\n",
        "\n",
        "  norm_info_df = pd.DataFrame(norm_info_list, columns=['image_filename', 'MOS'])\n",
        "  norm_info_df.to_csv(norm_file_info_path, index=False)\n",
        "  print(f\"[{name}]: Saved full normalized distorted image info to:\\n{patch_file_info_path}.\")\n",
        "  patch_info_df = pd.DataFrame(patch_info_list, columns=['image_filename', 'MOS'])\n",
        "  patch_info_df.to_csv(patch_file_info_path, index=False)\n",
        "  print(f\"[{name}]: Saved patch info to {patch_file_info_path}.\")\n"
      ],
      "metadata": {
        "colab": {
          "base_uri": "https://localhost:8080/"
        },
        "id": "HORzxa5RLJQV",
        "outputId": "70bf9dc2-0e55-4f10-d6ef-6e7f3940db16"
      },
      "execution_count": 8,
      "outputs": [
        {
          "output_type": "stream",
          "name": "stdout",
          "text": [
            "[training]: Saved full normalized distorted image information to:\n",
            "tid2013/normalized_distorted_images/training/patch_training.csv.\n",
            "[training]: Saved patch information to tid2013/normalized_distorted_images/training/patch_training.csv.\n",
            "[validation]: Saved full normalized distorted image information to:\n",
            "tid2013/normalized_distorted_images/validation/patch_validation.csv.\n",
            "[validation]: Saved patch information to tid2013/normalized_distorted_images/validation/patch_validation.csv.\n",
            "[test]: Saved full normalized distorted image information to:\n",
            "tid2013/normalized_distorted_images/test/patch_test.csv.\n",
            "[test]: Saved patch information to tid2013/normalized_distorted_images/test/patch_test.csv.\n"
          ]
        }
      ]
    },
    {
      "cell_type": "markdown",
      "source": [
        "##### Validate the division"
      ],
      "metadata": {
        "id": "VZ71UCqittHi"
      }
    },
    {
      "cell_type": "code",
      "source": [
        "# Paths to the CSV files\n",
        "norm_training_csv = 'tid2013/normalized_distorted_images/training/norm_training.csv'\n",
        "norm_validation_csv = 'tid2013/normalized_distorted_images/validation/norm_validation.csv'\n",
        "norm_test_csv = 'tid2013/normalized_distorted_images/test/norm_test.csv'\n",
        "\n",
        "# Read the CSV files\n",
        "norm_training_df = pd.read_csv(norm_training_csv)\n",
        "norm_validation_df = pd.read_csv(norm_validation_csv)\n",
        "norm_test_df = pd.read_csv(norm_test_csv)\n",
        "\n",
        "# Extract the lists of filenames\n",
        "training_files = set(norm_training_df['image_filename'])\n",
        "validation_files = set(norm_validation_df['image_filename'])\n",
        "test_files = set(norm_test_df['image_filename'])\n",
        "\n",
        "# Check for common files\n",
        "common_training_validation = training_files.intersection(validation_files)\n",
        "common_training_test = training_files.intersection(test_files)\n",
        "common_validation_test = validation_files.intersection(test_files)\n",
        "\n",
        "# Print the results\n",
        "if not common_training_validation and not common_training_test and not common_validation_test:\n",
        "    print(\"There are no common files between norm_training, norm_validation, and norm_test.\")\n",
        "else:\n",
        "    if common_training_validation:\n",
        "        print(f\"Common files between training and validation: {common_training_validation}\")\n",
        "    if common_training_test:\n",
        "        print(f\"Common files between training and test: {common_training_test}\")\n",
        "    if common_validation_test:\n",
        "        print(f\"Common files between validation and test: {common_validation_test}\")\n"
      ],
      "metadata": {
        "colab": {
          "base_uri": "https://localhost:8080/"
        },
        "id": "AraumYdUj_Ls",
        "outputId": "e1a92c4c-ab17-4ae5-f2a1-39bb3642d51e"
      },
      "execution_count": 10,
      "outputs": [
        {
          "output_type": "stream",
          "name": "stdout",
          "text": [
            "There are no common files between norm_training, norm_validation, and norm_test.\n"
          ]
        }
      ]
    },
    {
      "cell_type": "markdown",
      "source": [
        "#### Load data into tensorflow data generators"
      ],
      "metadata": {
        "id": "6tFa7tPXeXMT"
      }
    },
    {
      "cell_type": "code",
      "source": [
        "from tensorflow.keras.preprocessing.image import ImageDataGenerator\n",
        "\n",
        "def create_data_generators(base_dir, train_data, val_data, test_data, batch_size):\n",
        "    datagen = ImageDataGenerator()\n",
        "\n",
        "    train_generator = datagen.flow_from_dataframe(\n",
        "        dataframe=train_data,\n",
        "        directory=os.path.join(base_dir, 'training/patches/'),\n",
        "        x_col='image_filename',\n",
        "        y_col='MOS',\n",
        "        target_size=(32, 32),\n",
        "        batch_size=batch_size,\n",
        "        class_mode='raw',\n",
        "        shuffle=True,\n",
        "        seed=42\n",
        "    )\n",
        "\n",
        "    val_generator = datagen.flow_from_dataframe(\n",
        "        dataframe=val_data,\n",
        "        directory=os.path.join(base_dir, 'validation/patches/'),\n",
        "        x_col='image_filename',\n",
        "        y_col='MOS',\n",
        "        target_size=(32, 32),\n",
        "        batch_size=batch_size,\n",
        "        class_mode='raw',\n",
        "        shuffle=True,\n",
        "        seed=42\n",
        "    )\n",
        "\n",
        "    test_generator = datagen.flow_from_dataframe(\n",
        "        dataframe=test_data,\n",
        "        directory=os.path.join(base_dir, 'test/patches/'),\n",
        "        x_col='image_filename',\n",
        "        y_col='MOS',\n",
        "        target_size=(32, 32),\n",
        "        batch_size=batch_size,\n",
        "        class_mode='raw',\n",
        "        shuffle=False,\n",
        "        seed=42\n",
        "    )\n",
        "\n",
        "    return train_generator, val_generator, test_generator\n",
        "\n",
        "base_dir = 'tid2013/normalized_distorted_images'\n",
        "train_data = pd.read_csv('tid2013/normalized_distorted_images/training/patch_training.csv')\n",
        "val_data = pd.read_csv('tid2013/normalized_distorted_images/validation/patch_validation.csv')\n",
        "test_data = pd.read_csv('tid2013/normalized_distorted_images/test/patch_test.csv')\n",
        "train_generator, val_generator, test_generator = create_data_generators(base_dir, train_data, val_data, test_data, batch_size=32)\n"
      ],
      "metadata": {
        "colab": {
          "base_uri": "https://localhost:8080/"
        },
        "id": "oW39LlfkqsNJ",
        "outputId": "9da1c3b2-096b-430a-beba-e281851ddaf1"
      },
      "execution_count": 11,
      "outputs": [
        {
          "output_type": "stream",
          "name": "stdout",
          "text": [
            "Found 57600 validated image filenames.\n",
            "Found 19200 validated image filenames.\n",
            "Found 19200 validated image filenames.\n"
          ]
        }
      ]
    },
    {
      "cell_type": "markdown",
      "source": [
        "## Define and train the model"
      ],
      "metadata": {
        "id": "4NHnpI_vesrH"
      }
    },
    {
      "cell_type": "markdown",
      "source": [
        "#### Network architecture"
      ],
      "metadata": {
        "id": "ATY5cvloe4AO"
      }
    },
    {
      "cell_type": "code",
      "source": [
        "from tensorflow.keras.models import Sequential\n",
        "from tensorflow.keras.layers import Conv2D, GlobalMaxPooling2D, Dense, Dropout\n",
        "\n",
        "def build_model():\n",
        "    model = Sequential([\n",
        "        Conv2D(50, (7, 7), activation='relu', input_shape=(32, 32, 3)), # linear in the paper\n",
        "        GlobalMaxPooling2D(),\n",
        "        Dense(800, activation='relu'),\n",
        "        #Dropout(0.5),  # Add dropout to prevent overfitting\n",
        "        Dense(800, activation='relu'),\n",
        "        Dropout(0.5),  # Add dropout to prevent overfitting\n",
        "        Dense(1, activation='linear')  # Output layer for the quality score\n",
        "    ])\n",
        "    return model\n",
        "\n",
        "# Budowanie modelu\n",
        "model = build_model()\n",
        "model.compile(optimizer='adam', loss='mean_squared_error', metrics=['mean_absolute_error'])\n",
        "model.summary()"
      ],
      "metadata": {
        "id": "f0NZk2e61XQ4",
        "colab": {
          "base_uri": "https://localhost:8080/"
        },
        "outputId": "c272affd-5207-4dd2-c0bf-77df639fdf50"
      },
      "execution_count": 12,
      "outputs": [
        {
          "output_type": "stream",
          "name": "stdout",
          "text": [
            "Model: \"sequential\"\n",
            "_________________________________________________________________\n",
            " Layer (type)                Output Shape              Param #   \n",
            "=================================================================\n",
            " conv2d (Conv2D)             (None, 26, 26, 50)        7400      \n",
            "                                                                 \n",
            " global_max_pooling2d (Glob  (None, 50)                0         \n",
            " alMaxPooling2D)                                                 \n",
            "                                                                 \n",
            " dense (Dense)               (None, 800)               40800     \n",
            "                                                                 \n",
            " dense_1 (Dense)             (None, 800)               640800    \n",
            "                                                                 \n",
            " dropout (Dropout)           (None, 800)               0         \n",
            "                                                                 \n",
            " dense_2 (Dense)             (None, 1)                 801       \n",
            "                                                                 \n",
            "=================================================================\n",
            "Total params: 689801 (2.63 MB)\n",
            "Trainable params: 689801 (2.63 MB)\n",
            "Non-trainable params: 0 (0.00 Byte)\n",
            "_________________________________________________________________\n"
          ]
        }
      ]
    },
    {
      "cell_type": "markdown",
      "source": [
        "#### Training"
      ],
      "metadata": {
        "id": "QXKdDuPye9nT"
      }
    },
    {
      "cell_type": "code",
      "source": [
        "history = model.fit(train_generator, epochs=40, validation_data=val_generator)"
      ],
      "metadata": {
        "colab": {
          "base_uri": "https://localhost:8080/"
        },
        "id": "4_lntSvq1czn",
        "outputId": "ed95d180-9804-4368-8354-ac001f1b4261"
      },
      "execution_count": 13,
      "outputs": [
        {
          "output_type": "stream",
          "name": "stdout",
          "text": [
            "Epoch 1/40\n",
            "1800/1800 [==============================] - 38s 21ms/step - loss: 1.6535 - mean_absolute_error: 0.9065 - val_loss: 0.9994 - val_mean_absolute_error: 0.7654\n",
            "Epoch 2/40\n",
            "1800/1800 [==============================] - 36s 20ms/step - loss: 0.8998 - mean_absolute_error: 0.7229 - val_loss: 0.9304 - val_mean_absolute_error: 0.7345\n",
            "Epoch 3/40\n",
            "1800/1800 [==============================] - 37s 21ms/step - loss: 0.8360 - mean_absolute_error: 0.6923 - val_loss: 0.9588 - val_mean_absolute_error: 0.7257\n",
            "Epoch 4/40\n",
            "1800/1800 [==============================] - 36s 20ms/step - loss: 0.7769 - mean_absolute_error: 0.6630 - val_loss: 0.8469 - val_mean_absolute_error: 0.6841\n",
            "Epoch 5/40\n",
            "1800/1800 [==============================] - 36s 20ms/step - loss: 0.7356 - mean_absolute_error: 0.6408 - val_loss: 0.8903 - val_mean_absolute_error: 0.6919\n",
            "Epoch 6/40\n",
            "1800/1800 [==============================] - 35s 20ms/step - loss: 0.7010 - mean_absolute_error: 0.6212 - val_loss: 0.8487 - val_mean_absolute_error: 0.6762\n",
            "Epoch 7/40\n",
            "1800/1800 [==============================] - 36s 20ms/step - loss: 0.6715 - mean_absolute_error: 0.6072 - val_loss: 0.8154 - val_mean_absolute_error: 0.6681\n",
            "Epoch 8/40\n",
            "1800/1800 [==============================] - 36s 20ms/step - loss: 0.6539 - mean_absolute_error: 0.5984 - val_loss: 0.8883 - val_mean_absolute_error: 0.6928\n",
            "Epoch 9/40\n",
            "1800/1800 [==============================] - 37s 20ms/step - loss: 0.6353 - mean_absolute_error: 0.5886 - val_loss: 0.7863 - val_mean_absolute_error: 0.6557\n",
            "Epoch 10/40\n",
            "1800/1800 [==============================] - 36s 20ms/step - loss: 0.6174 - mean_absolute_error: 0.5793 - val_loss: 0.7962 - val_mean_absolute_error: 0.6573\n",
            "Epoch 11/40\n",
            "1800/1800 [==============================] - 35s 20ms/step - loss: 0.6062 - mean_absolute_error: 0.5728 - val_loss: 0.8330 - val_mean_absolute_error: 0.6608\n",
            "Epoch 12/40\n",
            "1800/1800 [==============================] - 35s 19ms/step - loss: 0.5901 - mean_absolute_error: 0.5652 - val_loss: 0.7737 - val_mean_absolute_error: 0.6365\n",
            "Epoch 13/40\n",
            "1800/1800 [==============================] - 36s 20ms/step - loss: 0.5793 - mean_absolute_error: 0.5595 - val_loss: 0.8245 - val_mean_absolute_error: 0.6554\n",
            "Epoch 14/40\n",
            "1800/1800 [==============================] - 35s 20ms/step - loss: 0.5673 - mean_absolute_error: 0.5520 - val_loss: 0.7556 - val_mean_absolute_error: 0.6413\n",
            "Epoch 15/40\n",
            "1800/1800 [==============================] - 36s 20ms/step - loss: 0.5591 - mean_absolute_error: 0.5488 - val_loss: 0.8184 - val_mean_absolute_error: 0.6553\n",
            "Epoch 16/40\n",
            "1800/1800 [==============================] - 37s 20ms/step - loss: 0.5517 - mean_absolute_error: 0.5451 - val_loss: 0.7934 - val_mean_absolute_error: 0.6511\n",
            "Epoch 17/40\n",
            "1800/1800 [==============================] - 38s 21ms/step - loss: 0.5446 - mean_absolute_error: 0.5422 - val_loss: 0.7692 - val_mean_absolute_error: 0.6360\n",
            "Epoch 18/40\n",
            "1800/1800 [==============================] - 37s 21ms/step - loss: 0.5445 - mean_absolute_error: 0.5401 - val_loss: 0.7681 - val_mean_absolute_error: 0.6372\n",
            "Epoch 19/40\n",
            "1800/1800 [==============================] - 37s 21ms/step - loss: 0.5349 - mean_absolute_error: 0.5364 - val_loss: 0.7705 - val_mean_absolute_error: 0.6380\n",
            "Epoch 20/40\n",
            "1800/1800 [==============================] - 36s 20ms/step - loss: 0.5348 - mean_absolute_error: 0.5359 - val_loss: 0.7749 - val_mean_absolute_error: 0.6312\n",
            "Epoch 21/40\n",
            "1800/1800 [==============================] - 37s 20ms/step - loss: 0.5279 - mean_absolute_error: 0.5322 - val_loss: 0.7659 - val_mean_absolute_error: 0.6379\n",
            "Epoch 22/40\n",
            "1800/1800 [==============================] - 36s 20ms/step - loss: 0.5248 - mean_absolute_error: 0.5315 - val_loss: 0.8601 - val_mean_absolute_error: 0.6624\n",
            "Epoch 23/40\n",
            "1800/1800 [==============================] - 36s 20ms/step - loss: 0.5202 - mean_absolute_error: 0.5287 - val_loss: 0.7824 - val_mean_absolute_error: 0.6444\n",
            "Epoch 24/40\n",
            "1800/1800 [==============================] - 36s 20ms/step - loss: 0.5207 - mean_absolute_error: 0.5278 - val_loss: 0.7740 - val_mean_absolute_error: 0.6427\n",
            "Epoch 25/40\n",
            "1800/1800 [==============================] - 36s 20ms/step - loss: 0.5183 - mean_absolute_error: 0.5279 - val_loss: 0.7921 - val_mean_absolute_error: 0.6411\n",
            "Epoch 26/40\n",
            "1800/1800 [==============================] - 36s 20ms/step - loss: 0.5115 - mean_absolute_error: 0.5239 - val_loss: 0.7494 - val_mean_absolute_error: 0.6253\n",
            "Epoch 27/40\n",
            "1800/1800 [==============================] - 36s 20ms/step - loss: 0.5090 - mean_absolute_error: 0.5224 - val_loss: 0.7494 - val_mean_absolute_error: 0.6225\n",
            "Epoch 28/40\n",
            "1800/1800 [==============================] - 36s 20ms/step - loss: 0.5091 - mean_absolute_error: 0.5224 - val_loss: 0.7434 - val_mean_absolute_error: 0.6226\n",
            "Epoch 29/40\n",
            "1800/1800 [==============================] - 44s 25ms/step - loss: 0.5054 - mean_absolute_error: 0.5203 - val_loss: 0.7806 - val_mean_absolute_error: 0.6387\n",
            "Epoch 30/40\n",
            "1800/1800 [==============================] - 36s 20ms/step - loss: 0.5059 - mean_absolute_error: 0.5210 - val_loss: 0.7591 - val_mean_absolute_error: 0.6351\n",
            "Epoch 31/40\n",
            "1800/1800 [==============================] - 36s 20ms/step - loss: 0.5046 - mean_absolute_error: 0.5197 - val_loss: 0.7527 - val_mean_absolute_error: 0.6291\n",
            "Epoch 32/40\n",
            "1800/1800 [==============================] - 36s 20ms/step - loss: 0.5036 - mean_absolute_error: 0.5196 - val_loss: 0.7517 - val_mean_absolute_error: 0.6225\n",
            "Epoch 33/40\n",
            "1800/1800 [==============================] - 36s 20ms/step - loss: 0.5022 - mean_absolute_error: 0.5192 - val_loss: 0.8123 - val_mean_absolute_error: 0.6368\n",
            "Epoch 34/40\n",
            "1800/1800 [==============================] - 35s 19ms/step - loss: 0.4935 - mean_absolute_error: 0.5146 - val_loss: 0.7911 - val_mean_absolute_error: 0.6360\n",
            "Epoch 35/40\n",
            "1800/1800 [==============================] - 36s 20ms/step - loss: 0.4921 - mean_absolute_error: 0.5142 - val_loss: 0.7925 - val_mean_absolute_error: 0.6370\n",
            "Epoch 36/40\n",
            "1800/1800 [==============================] - 36s 20ms/step - loss: 0.4916 - mean_absolute_error: 0.5138 - val_loss: 0.7539 - val_mean_absolute_error: 0.6265\n",
            "Epoch 37/40\n",
            "1800/1800 [==============================] - 35s 20ms/step - loss: 0.4938 - mean_absolute_error: 0.5149 - val_loss: 0.7633 - val_mean_absolute_error: 0.6405\n",
            "Epoch 38/40\n",
            "1800/1800 [==============================] - 35s 19ms/step - loss: 0.4916 - mean_absolute_error: 0.5137 - val_loss: 0.8118 - val_mean_absolute_error: 0.6491\n",
            "Epoch 39/40\n",
            "1800/1800 [==============================] - 35s 20ms/step - loss: 0.4888 - mean_absolute_error: 0.5130 - val_loss: 0.7867 - val_mean_absolute_error: 0.6312\n",
            "Epoch 40/40\n",
            "1800/1800 [==============================] - 36s 20ms/step - loss: 0.4849 - mean_absolute_error: 0.5109 - val_loss: 0.7266 - val_mean_absolute_error: 0.6149\n"
          ]
        }
      ]
    },
    {
      "cell_type": "markdown",
      "source": [
        "## Summarize predictions"
      ],
      "metadata": {
        "id": "ISiuLItZgSne"
      }
    },
    {
      "cell_type": "markdown",
      "source": [
        "#### Predict test data and get labels (MOS)"
      ],
      "metadata": {
        "id": "tS2I_1XcghBI"
      }
    },
    {
      "cell_type": "code",
      "source": [
        "test_predictions = model.predict(test_generator)\n",
        "patch_info = test_generator.filenames # get list of test patches\n",
        "image_scores = {}\n",
        "for i, patch_path in enumerate(patch_info):\n",
        "    # Extract the base image name by removing the patch-specific part\n",
        "    base_image_name = \"_\".join(patch_path.split('_')[1:-2]) + '.bmp'\n",
        "    if base_image_name not in image_scores:\n",
        "        image_scores[base_image_name] = []\n",
        "    image_scores[base_image_name].append(test_predictions[i])\n",
        "\n",
        "average_scores = {image: np.mean(scores) for image, scores in image_scores.items()}\n",
        "# Save the predicted_mos and mos to a DataFrame\n",
        "average_scores_df = pd.DataFrame(list(average_scores.items()), columns=['Image', 'Predicted_MOS'])\n",
        "print(\"Summary of test predictions:\")\n",
        "print(average_scores_df.describe())\n",
        "\n",
        "test_images_mos = pd.read_csv('tid2013/filtered_mos_with_names.csv', index_col=0)\n",
        "test_images_mos.rename(columns={'MOS':'MOS', 'image_filename':'Image'}, inplace=True)\n",
        "test_images_mos = pd.DataFrame(test_images_mos)\n",
        "test_images_mos['Image'] = test_images_mos['Image'].apply(lambda x: x.lower())\n",
        "print(test_images_mos)\n",
        "# Merge dataframes to match predicted mos with ground-truth mos\n",
        "merged_df = average_scores_df.merge(test_images_mos, on=\"Image\", how=\"inner\")\n",
        "merged_df.rename(columns={'Predicted_MOS_x': 'Predicted_MOS', 'Predicted_MOS_y': 'MOS'}, inplace=True)\n",
        "print(merged_df)"
      ],
      "metadata": {
        "colab": {
          "base_uri": "https://localhost:8080/"
        },
        "id": "WALGk_xS0em6",
        "outputId": "b9cf277a-957c-4dc4-9778-76c234d38765"
      },
      "execution_count": 66,
      "outputs": [
        {
          "output_type": "stream",
          "name": "stdout",
          "text": [
            "600/600 [==============================] - 6s 10ms/step\n",
            "Summary of test predictions:\n",
            "       Predicted_MOS\n",
            "count     100.000000\n",
            "mean        4.181074\n",
            "std         1.082450\n",
            "min         2.034785\n",
            "25%         3.401517\n",
            "50%         4.366570\n",
            "75%         5.217020\n",
            "max         5.484072\n",
            "          MOS         Image\n",
            "0     5.51429  i01_01_1.bmp\n",
            "1     5.56757  i01_01_2.bmp\n",
            "2     4.94444  i01_01_3.bmp\n",
            "3     4.37838  i01_01_4.bmp\n",
            "4     3.86486  i01_01_5.bmp\n",
            "...       ...           ...\n",
            "2930  6.08571  i25_11_1.bmp\n",
            "2931  5.86111  i25_11_2.bmp\n",
            "2932  5.36111  i25_11_3.bmp\n",
            "2933  4.97222  i25_11_4.bmp\n",
            "2934  4.60000  i25_11_5.bmp\n",
            "\n",
            "[500 rows x 2 columns]\n",
            "           Image  Predicted_MOS      MOS\n",
            "0   i19_01_2.bmp       5.234496  5.10811\n",
            "1   i04_10_4.bmp       3.402261  3.26190\n",
            "2   i19_10_5.bmp       2.855806  1.65789\n",
            "3   i06_01_5.bmp       4.171846  3.61111\n",
            "4   i20_10_5.bmp       2.726300  2.74359\n",
            "..           ...            ...      ...\n",
            "83  i17_01_5.bmp       4.104588  3.87179\n",
            "84  i22_10_2.bmp       5.370401  5.58974\n",
            "85  i18_08_3.bmp       3.999578  4.14286\n",
            "86  i05_08_2.bmp       5.001141  4.66667\n",
            "87  i22_11_4.bmp       2.512620  2.63158\n",
            "\n",
            "[88 rows x 3 columns]\n"
          ]
        }
      ]
    },
    {
      "cell_type": "markdown",
      "source": [
        "#### Calculate correlations"
      ],
      "metadata": {
        "id": "nPruT9IPiTug"
      }
    },
    {
      "cell_type": "code",
      "source": [
        "from scipy.stats import spearmanr, pearsonr\n",
        "# Drop NaN or inf values if present\n",
        "cleaned_df = merged_df.dropna()\n",
        "cleaned_df = cleaned_df[np.isfinite(cleaned_df['MOS']) & np.isfinite(cleaned_df['Predicted_MOS'])]\n",
        "\n",
        "# Calculate LCC and SROCC\n",
        "lcc = pearsonr(cleaned_df['Predicted_MOS'], cleaned_df['MOS'])[0]\n",
        "srocc = spearmanr(cleaned_df['Predicted_MOS'], cleaned_df['MOS'])[0]\n",
        "\n",
        "print(f\"LCC (Linear Correlation Coefficient): {lcc}\")\n",
        "print(f\"SROCC (Spearman Rank Order Correlation Coefficient): {srocc}\")"
      ],
      "metadata": {
        "colab": {
          "base_uri": "https://localhost:8080/"
        },
        "id": "S8BCLrn3Mdqe",
        "outputId": "d60fb6e0-9786-48d5-fb0b-63e9df1e4d20"
      },
      "execution_count": 67,
      "outputs": [
        {
          "output_type": "stream",
          "name": "stdout",
          "text": [
            "LCC (Linear Correlation Coefficient): 0.882176131448591\n",
            "SROCC (Spearman Rank Order Correlation Coefficient): 0.8810538550949246\n"
          ]
        }
      ]
    },
    {
      "cell_type": "markdown",
      "source": [
        "#### Visualize correletions and training"
      ],
      "metadata": {
        "id": "pXy-sFwPiY0C"
      }
    },
    {
      "cell_type": "code",
      "source": [
        "# Scatter plot with regression line\n",
        "plt.figure(figsize=(10, 6))\n",
        "sns.regplot(x='MOS', y='Predicted_MOS', data=merged_df, scatter_kws={'s': 10}, line_kws={'color': 'red'})\n",
        "plt.xlabel('True MOS')\n",
        "plt.ylabel('Predicted MOS')\n",
        "plt.title('Scatter Plot of True MOS vs Predicted MOS')\n",
        "plt.grid(True)\n",
        "plt.show()\n",
        "\n",
        "y_pred = test_predictions\n",
        "y_true = test_generator.labels\n",
        "# Training progress (loss minimization)\n",
        "plt.figure(figsize=(10, 5))\n",
        "plt.plot(history.history['loss'], label='Loss')\n",
        "plt.plot(history.history['val_loss'], label='Validation Loss')\n",
        "plt.xlabel('Epochs')\n",
        "plt.ylabel('Loss')\n",
        "plt.legend()\n",
        "plt.title('Model Loss')\n",
        "plt.show()"
      ],
      "metadata": {
        "colab": {
          "base_uri": "https://localhost:8080/",
          "height": 1000
        },
        "id": "QnSB-ylXSE-d",
        "outputId": "d59c4a40-e2c0-45b6-c40f-4869c0d7e9a7"
      },
      "execution_count": 71,
      "outputs": [
        {
          "output_type": "display_data",
          "data": {
            "text/plain": [
              "<Figure size 1000x600 with 1 Axes>"
            ],
            "image/png": "[encoded data removed]"
          },
          "metadata": {}
        },
        {
          "output_type": "display_data",
          "data": {
            "text/plain": [
              "<Figure size 1000x500 with 1 Axes>"
            ],
            "image/png": "[encoded data removed]"
          },
          "metadata": {}
        }
      ]
    }
  ]
}