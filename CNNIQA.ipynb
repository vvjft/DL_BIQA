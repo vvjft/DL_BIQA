{
  "nbformat": 4,
  "nbformat_minor": 0,
  "metadata": {
    "colab": {
      "provenance": [],
      "machine_shape": "hm",
      "collapsed_sections": [
        "VZ71UCqittHi"
      ],
      "gpuType": "T4",
      "authorship_tag": "ABX9TyP5a0bNFdQduhlk6DX2LXQj",
      "include_colab_link": true
    },
    "kernelspec": {
      "name": "python3",
      "display_name": "Python 3"
    },
    "language_info": {
      "name": "python"
    },
    "accelerator": "GPU"
  },
  "cells": [
    {
      "cell_type": "markdown",
      "metadata": {
        "id": "view-in-github",
        "colab_type": "text"
      },
      "source": [
        "<a href=\"https://colab.research.google.com/github/vvjft/DL_BIQA/blob/main/CNNIQA.ipynb\" target=\"_parent\"><img src=\"https://colab.research.google.com/assets/colab-badge.svg\" alt=\"Open In Colab\"/></a>"
      ]
    },
    {
      "cell_type": "markdown",
      "source": [
        "### **Dependencies**"
      ],
      "metadata": {
        "id": "VRPrxsbCsDWZ"
      }
    },
    {
      "cell_type": "code",
      "execution_count": 1,
      "metadata": {
        "id": "n5adwOYcqrS3",
        "colab": {
          "base_uri": "https://localhost:8080/"
        },
        "outputId": "3a82eec4-cda8-4cf1-fad7-90dddb80d360"
      },
      "outputs": [
        {
          "output_type": "stream",
          "name": "stdout",
          "text": [
            "Reading package lists... Done\n",
            "Building dependency tree... Done\n",
            "Reading state information... Done\n",
            "unrar is already the newest version (1:6.1.5-1).\n",
            "0 upgraded, 0 newly installed, 0 to remove and 45 not upgraded.\n"
          ]
        }
      ],
      "source": [
        "import tensorflow as tf\n",
        "import numpy as np\n",
        "import scipy\n",
        "import pandas as pd\n",
        "import os\n",
        "import matplotlib.pyplot as plt\n",
        "import seaborn as sns\n",
        "import cv2\n",
        "\n",
        "!apt-get install unrar"
      ]
    },
    {
      "cell_type": "markdown",
      "source": [
        "##### Download and extract dataset"
      ],
      "metadata": {
        "id": "EAyOHVzksLdr"
      }
    },
    {
      "cell_type": "code",
      "source": [
        "!wget https://www.ponomarenko.info/tid2013/tid2013.rar # tid2013\n",
        "\n",
        "from google.colab import drive\n",
        "drive.mount('/content/drive') # LIVE"
      ],
      "metadata": {
        "collapsed": true,
        "id": "8D30b-aernpn",
        "colab": {
          "base_uri": "https://localhost:8080/"
        },
        "outputId": "e5bd41de-bcc9-405e-f004-d848a9ffbd44"
      },
      "execution_count": 9,
      "outputs": [
        {
          "output_type": "stream",
          "name": "stdout",
          "text": [
            "--2024-06-09 20:10:40--  https://www.ponomarenko.info/tid2013/tid2013.rar\n",
            "Resolving www.ponomarenko.info (www.ponomarenko.info)... 191.96.144.105, 2a02:4780:22:dc8f:4160:c5f4:ba5f:1635\n",
            "Connecting to www.ponomarenko.info (www.ponomarenko.info)|191.96.144.105|:443... connected.\n",
            "HTTP request sent, awaiting response... 200 OK\n",
            "Length: 957680241 (913M) [application/x-rar-compressed]\n",
            "Saving to: ‘tid2013.rar.7’\n",
            "\n",
            "tid2013.rar.7       100%[===================>] 913.31M  15.7MB/s    in 59s     \n",
            "\n",
            "2024-06-09 20:11:40 (15.4 MB/s) - ‘tid2013.rar.7’ saved [957680241/957680241]\n",
            "\n",
            "Mounted at /content/drive\n"
          ]
        }
      ]
    },
    {
      "cell_type": "code",
      "source": [
        "!mkdir -p '/content/tid2013'\n",
        "!unrar x -inul '/content/tid2013.rar' '/content/tid2013'\n",
        "!rm '/content/tid2013.rar'\n",
        "!rm -r '/content/tid2013/metrics_values'\n",
        "!rm -r '/content/tid2013/papers'\n",
        "!rm '/content/tid2013/readme'\n",
        "!rm -r '/content/sample_data'\n",
        "\n",
        "!cp -r /content/drive/MyDrive/magisterka/LIVEIQA_release2 /content\n",
        "os.rename('/content/LIVEIQA_release2', '/content/LIVE')\n",
        "drive.flush_and_unmount()"
      ],
      "metadata": {
        "id": "bVU2r4DRsoKF",
        "collapsed": true
      },
      "execution_count": 10,
      "outputs": []
    },
    {
      "cell_type": "markdown",
      "source": [
        "Reset workspace or directory if needed"
      ],
      "metadata": {
        "id": "QHlo-4qMdRSm"
      }
    },
    {
      "cell_type": "code",
      "source": [
        "#!rm -r '/content/LIVE/normalized_distorted_images'\n",
        "#!rm -r '/content/tid2013'\n",
        "#!rm -r '/content/tid2013/patch_mos_with_names.csv'\n",
        "\n",
        "#%reset -f"
      ],
      "metadata": {
        "id": "-OEtoDjh0oBh"
      },
      "execution_count": null,
      "outputs": []
    },
    {
      "cell_type": "markdown",
      "source": [
        "### **Preprocessing**"
      ],
      "metadata": {
        "id": "vs7fpMeDsN-W"
      }
    },
    {
      "cell_type": "markdown",
      "source": [
        "##### Logistic mapping"
      ],
      "metadata": {
        "id": "p0CPxppSxUOU"
      }
    },
    {
      "cell_type": "code",
      "source": [
        "from scipy.optimize import curve_fit\n",
        "\n",
        "def logistic_function(x, a, b, c, d):\n",
        "    return a / (1 + np.exp(-c * (x - d))) + b\n",
        "\n",
        "def get_logistic_fun(data_tid, data_live):\n",
        "  def convert_mos_to_dmos(mos, dmos):\n",
        "      initial_params = [0, 0, 0, np.median(mos)]  # initial guess for parameters\n",
        "      popt, _ = curve_fit(logistic_function, mos, dmos, p0=initial_params, maxfev=10000)\n",
        "      return popt\n",
        "\n",
        "  train_data_tid, val_data_tid, test_data_tid = split_data(data_tid)\n",
        "  train_data_live, val_data_live, test_data_live = split_data(data_live)\n",
        "  # Align MOS and DMOS for fitting\n",
        "  mos_train = np.sort(train_data_tid['MOS'].values)\n",
        "  dmos_train = np.sort(train_data_live['DMOS'].values[:len(mos_train)])[::-1]  # ensure lengths match for curve fitting\n",
        "\n",
        "  params = convert_mos_to_dmos(mos_train, dmos_train)\n",
        "  #print(\"Estimated parameters:\", params)\n",
        "  data_tid['DMOS_pred'] = logistic_function(data_tid['MOS'].values, *params)\n",
        "\n",
        "  plt.scatter(data_tid['MOS'], data_tid['DMOS_pred'], label='Predicted DMOS', alpha=0.5)\n",
        "  plt.scatter(mos_train, dmos_train, label='Actual DMOS (Training Data)', alpha=0.5)\n",
        "  plt.title('Logistic mapping (MOS to DMOS)')\n",
        "  plt.xlabel('MOS')\n",
        "  plt.ylabel('DMOS')\n",
        "  plt.legend()\n",
        "  plt.grid(True)\n",
        "  plt.show()\n",
        "\n",
        "  return params"
      ],
      "metadata": {
        "id": "fT0r52xIGxoO"
      },
      "execution_count": 11,
      "outputs": []
    },
    {
      "cell_type": "markdown",
      "source": [
        "##### Normalize and slice to patches"
      ],
      "metadata": {
        "id": "sY_Mq9ja2EZZ"
      }
    },
    {
      "cell_type": "code",
      "source": [
        "from scipy.signal import convolve2d\n",
        "def normalize_and_slice(db_dir, train_data, val_data, test_data, patch_size=32, cross=False):\n",
        "\n",
        "  def local_normalize(patch, P=3, Q=3, C=1):\n",
        "      kernel = np.ones((P, Q)) / (P * Q)\n",
        "      patch_mean = convolve2d(patch, kernel, boundary='symm', mode='same')\n",
        "      patch_sm = convolve2d(np.square(patch), kernel, boundary='symm', mode='same')\n",
        "      patch_std = np.sqrt(np.maximum(patch_sm - np.square(patch_mean), 0))\n",
        "      patch_ln = (patch - patch_mean) / (patch_std + C)\n",
        "      return patch_ln.astype('float32')\n",
        "\n",
        "  sets = {'train': [train_data, 'training'], 'val':[val_data, 'validation'], 'test':[test_data, 'test']}\n",
        "\n",
        "  for key, (data, name) in sets.items():\n",
        "    if cross==True and name=='test':\n",
        "      db_dir = 'tid2013'\n",
        "\n",
        "    output_dir_full = f'{db_dir}/normalized_distorted_images/{name}/full/' # where to store normalized distorted images\n",
        "    output_dir_patches = f'{db_dir}/normalized_distorted_images/{name}/patches/' # where to store patches\n",
        "    norm_file_info_path = f'{db_dir}/normalized_distorted_images/{name}/norm_{name}.csv'\n",
        "    patch_file_info_path = f'{db_dir}/normalized_distorted_images/{name}/patch_{name}.csv'\n",
        "    os.makedirs(output_dir_full, exist_ok=True)\n",
        "    os.makedirs(output_dir_patches, exist_ok=True)\n",
        "\n",
        "    norm_info_list = []\n",
        "    patch_info_list = []\n",
        "\n",
        "    for index, row in data.iterrows():\n",
        "        image_filename = row[0]\n",
        "        mos_value = row[1]\n",
        "        distortion = row[2]\n",
        "        image_path = f'{db_dir}/distorted_images/{image_filename}'\n",
        "        image = cv2.imread(image_path)\n",
        "\n",
        "        if image is None:\n",
        "            print(f\"Failed to load image: {image_filename}\")\n",
        "            continue\n",
        "\n",
        "        # Normalize the image\n",
        "        image_gray = cv2.cvtColor(image, cv2.COLOR_BGR2GRAY)\n",
        "        image_normalized = local_normalize(image_gray)\n",
        "        # Save\n",
        "        image_filename = f'NORM_{image_filename}'\n",
        "        norm_info_list.append([image_filename, mos_value, distortion])\n",
        "        cv2.imwrite(output_dir_full+image_filename, image_normalized)\n",
        "        # Slice to patches\n",
        "        height, width = image_normalized.shape[:2]\n",
        "        num_patches_y = height // patch_size\n",
        "        num_patches_x = width // patch_size\n",
        "        patch_count = 0\n",
        "        for i in range(num_patches_y):\n",
        "            for j in range(num_patches_x):\n",
        "                patch = image_normalized[i*patch_size:(i+1)*patch_size, j*patch_size:(j+1)*patch_size]\n",
        "                patch_path = os.path.join(output_dir_patches, f\"{os.path.splitext(image_filename)[0]}_patch_{patch_count}.bmp\")\n",
        "                patch_filename = f\"{os.path.splitext(image_filename)[0]}_patch_{patch_count}.bmp\"\n",
        "                cv2.imwrite(patch_path, patch)\n",
        "                # Add patch info to the list\n",
        "                patch_info_list.append([patch_filename, mos_value, distortion])\n",
        "                patch_count += 1\n",
        "\n",
        "    norm_info_df = pd.DataFrame(norm_info_list, columns=['image_filename', score_measure, 'Distortion'])\n",
        "    norm_info_df.to_csv(norm_file_info_path, index=False)\n",
        "    print(f\"[{name}]: Saved full normalized distorted image info to:\\n{patch_file_info_path}.\")\n",
        "    patch_info_df = pd.DataFrame(patch_info_list, columns=['image_filename', score_measure, 'Distortion'])\n",
        "    patch_info_df.to_csv(patch_file_info_path, index=False)\n",
        "    print(f\"[{name}]: Saved patch info to {patch_file_info_path}.\")"
      ],
      "metadata": {
        "id": "HORzxa5RLJQV"
      },
      "execution_count": 12,
      "outputs": []
    },
    {
      "cell_type": "markdown",
      "source": [
        "##### Divide dataset"
      ],
      "metadata": {
        "id": "ES_6sLqq2QgZ"
      }
    },
    {
      "cell_type": "code",
      "source": [
        "from sklearn.model_selection import train_test_split, StratifiedShuffleSplit\n",
        "\n",
        "def load_tid2013(base_dir, filter=False):\n",
        "    distortion_mapping = {1: 'wn', 8: 'blur', 10: 'jpeg', 11: 'jp2k'}\n",
        "    data_path = os.path.join(base_dir, 'mos_with_names.txt')\n",
        "    data = pd.read_csv(data_path, header=None, delimiter=' ')\n",
        "    data = data.iloc[:, [1, 0]]  # swap column order\n",
        "    data.columns = ['image_filename', 'MOS']\n",
        "    # Specify distortion type based on filename\n",
        "    data['Distortion'] = data['image_filename'].apply(lambda x: distortion_mapping.get(int(x.split('_')[1]), 'other'))\n",
        "    if filter:\n",
        "        data = data[data['Distortion'].isin(distortion_mapping.values())]\n",
        "    return data\n",
        "\n",
        "def load_live(base_dir, filter=False):\n",
        "    data_path = os.path.join(base_dir, 'dmos_with_names.csv')\n",
        "    data = pd.read_csv(data_path, index_col=False)\n",
        "    if filter:\n",
        "      distortion_types = [1, 2, 3, 4] # filter distortions: jp2k, jpeg, wn and blur\n",
        "      data = data[data['image_filename'].apply(lambda x: int(x.split('_')[1]) in distortion_types)]\n",
        "    return data\n",
        "\n",
        "def split_data(data1, data2=None, params=None, cross=False):\n",
        "    if cross==True:\n",
        "      train_data, val_data = train_test_split(data1, test_size=0.2, random_state=40)\n",
        "      predicted_dmos = logistic_function(data2['MOS'].values, *params)\n",
        "      test_data = data2\n",
        "      test_data['MOS'] = predicted_dmos\n",
        "      test_data.rename(columns={'MOS':'DMOS'}, inplace=True)\n",
        "      return train_data, val_data, test_data\n",
        "    else:\n",
        "      train_data, test_data = train_test_split(data1, test_size=0.2, random_state=40)\n",
        "      train_data, val_data = train_test_split(train_data, test_size=0.25, random_state=40)\n",
        "      return train_data, val_data, test_data\n",
        "\n",
        "tid2013_dir = 'tid2013'\n",
        "live_dir = 'LIVE'\n",
        "db_dir = live_dir\n",
        "cross = False\n",
        "score_measure = 'DMOS' if db_dir == live_dir or cross == True else 'MOS'\n",
        "\n",
        "data_tid = load_tid2013(tid2013_dir, filter=True)\n",
        "data_tid.to_csv('tid2013/mos_with_names.csv', index=False)\n",
        "data_live = load_live(live_dir, filter=cross)\n",
        "data_live.to_csv('LIVE/dmos_with_names.csv', index=False)\n",
        "\n",
        "if cross == False:\n",
        "  '''Choose database to evaluate'''\n",
        "  data = data_live if db_dir == live_dir else data_tid\n",
        "  train_data, val_data, test_data = split_data(data)\n",
        "  normalize_and_slice(db_dir, train_data, val_data, test_data)\n",
        "\n",
        "  train_data = pd.read_csv(f'{db_dir}/normalized_distorted_images/training/patch_training.csv')\n",
        "  val_data = pd.read_csv(f'{db_dir}/normalized_distorted_images/validation/patch_validation.csv')\n",
        "  test_data = pd.read_csv(f'{db_dir}/normalized_distorted_images/test/patch_test.csv')\n",
        "else:\n",
        "  '''or perform cross validation'''\n",
        "  params = get_logistic_fun(data_tid, data_live)\n",
        "  train_data, val_data, test_data = split_data(data_live, data_tid, params, cross) # cross validation (TID2013 as test)\n",
        "  normalize_and_slice(db_dir, train_data, val_data, test_data, patch_size=32, cross=cross)\n",
        "\n",
        "  train_data = pd.read_csv(f'LIVE/normalized_distorted_images/training/patch_training.csv')\n",
        "  val_data = pd.read_csv(f'LIVE/normalized_distorted_images/validation/patch_validation.csv')\n",
        "  test_data = pd.read_csv(f'tid2013/normalized_distorted_images/test/patch_test.csv')"
      ],
      "metadata": {
        "id": "p0mKJcdDHQAI",
        "colab": {
          "base_uri": "https://localhost:8080/"
        },
        "outputId": "932bc8ec-f71a-4113-a917-c4bb369ef539"
      },
      "execution_count": 13,
      "outputs": [
        {
          "output_type": "stream",
          "name": "stdout",
          "text": [
            "[training]: Saved full normalized distorted image info to:\n",
            "LIVE/normalized_distorted_images/training/patch_training.csv.\n",
            "[training]: Saved patch info to LIVE/normalized_distorted_images/training/patch_training.csv.\n",
            "[validation]: Saved full normalized distorted image info to:\n",
            "LIVE/normalized_distorted_images/validation/patch_validation.csv.\n",
            "[validation]: Saved patch info to LIVE/normalized_distorted_images/validation/patch_validation.csv.\n",
            "[test]: Saved full normalized distorted image info to:\n",
            "LIVE/normalized_distorted_images/test/patch_test.csv.\n",
            "[test]: Saved patch info to LIVE/normalized_distorted_images/test/patch_test.csv.\n"
          ]
        }
      ]
    },
    {
      "cell_type": "markdown",
      "source": [
        "###### Validate the division"
      ],
      "metadata": {
        "id": "VZ71UCqittHi"
      }
    },
    {
      "cell_type": "code",
      "source": [
        "# Paths to the CSV files\n",
        "norm_training_csv = f'{db_dir}/normalized_distorted_images/training/norm_training.csv'\n",
        "norm_validation_csv = f'{db_dir}/normalized_distorted_images/validation/norm_validation.csv'\n",
        "norm_test_csv = f'{db_dir}/normalized_distorted_images/test/norm_test.csv'\n",
        "\n",
        "# Read the CSV files\n",
        "norm_training_df = pd.read_csv(norm_training_csv)\n",
        "norm_validation_df = pd.read_csv(norm_validation_csv)\n",
        "norm_test_df = pd.read_csv(norm_test_csv)\n",
        "\n",
        "# Extract the lists of filenames\n",
        "training_files = set(norm_training_df['image_filename'])\n",
        "validation_files = set(norm_validation_df['image_filename'])\n",
        "test_files = set(norm_test_df['image_filename'])\n",
        "\n",
        "# Check for common files\n",
        "common_training_validation = training_files.intersection(validation_files)\n",
        "common_training_test = training_files.intersection(test_files)\n",
        "common_validation_test = validation_files.intersection(test_files)\n",
        "\n",
        "# Print the results\n",
        "if not common_training_validation and not common_training_test and not common_validation_test:\n",
        "    print(\"There are no common files between norm_training, norm_validation, and norm_test.\")\n",
        "else:\n",
        "    if common_training_validation:\n",
        "        print(f\"Common files between training and validation: {common_training_validation}\")\n",
        "    if common_training_test:\n",
        "        print(f\"Common files between training and test: {common_training_test}\")\n",
        "    if common_validation_test:\n",
        "        print(f\"Common files between validation and test: {common_validation_test}\")\n"
      ],
      "metadata": {
        "colab": {
          "base_uri": "https://localhost:8080/"
        },
        "id": "AraumYdUj_Ls",
        "outputId": "b3d00b85-1215-487c-c177-75fb2fc4c377"
      },
      "execution_count": null,
      "outputs": [
        {
          "output_type": "stream",
          "name": "stdout",
          "text": [
            "There are no common files between norm_training, norm_validation, and norm_test.\n"
          ]
        }
      ]
    },
    {
      "cell_type": "markdown",
      "source": [
        "##### Load data into tensorflow data generators"
      ],
      "metadata": {
        "id": "6tFa7tPXeXMT"
      }
    },
    {
      "cell_type": "code",
      "source": [
        "from tensorflow.keras.preprocessing.image import ImageDataGenerator\n",
        "\n",
        "def create_data_generators(base_dir, train_data, val_data, test_data, batch_size):\n",
        "    datagen = ImageDataGenerator()\n",
        "    train_generator = datagen.flow_from_dataframe(\n",
        "        dataframe=train_data,\n",
        "        directory=os.path.join(base_dir, 'training/patches/'),\n",
        "        x_col='image_filename',\n",
        "        y_col=score_measure,\n",
        "        target_size=(32, 32),\n",
        "        batch_size=batch_size,\n",
        "        class_mode='raw',\n",
        "        shuffle=True,\n",
        "        seed=42\n",
        "    )\n",
        "    val_generator = datagen.flow_from_dataframe(\n",
        "        dataframe=val_data,\n",
        "        directory=os.path.join(base_dir, 'validation/patches/'),\n",
        "        x_col='image_filename',\n",
        "        y_col=score_measure,\n",
        "        target_size=(32, 32),\n",
        "        batch_size=batch_size,\n",
        "        class_mode='raw',\n",
        "        shuffle=True,\n",
        "        seed=42\n",
        "    )\n",
        "    if cross == True:\n",
        "      base_dir = 'tid2013/normalized_distorted_images'\n",
        "    test_generator = datagen.flow_from_dataframe(\n",
        "        dataframe=test_data,\n",
        "        directory=os.path.join(base_dir, 'test/patches/'),\n",
        "        x_col='image_filename',\n",
        "        y_col=score_measure,\n",
        "        target_size=(32, 32),\n",
        "        batch_size=batch_size,\n",
        "        class_mode='raw',\n",
        "        shuffle=False,\n",
        "        seed=42\n",
        "    )\n",
        "    return train_generator, val_generator, test_generator\n",
        "\n",
        "base_dir = f'{db_dir}/normalized_distorted_images'\n",
        "train_generator, val_generator, test_generator = create_data_generators(base_dir, train_data, val_data, test_data, batch_size=32)\n"
      ],
      "metadata": {
        "colab": {
          "base_uri": "https://localhost:8080/"
        },
        "id": "oW39LlfkqsNJ",
        "outputId": "b8e7a491-0e7e-4696-8099-469fe651356c"
      },
      "execution_count": 14,
      "outputs": [
        {
          "output_type": "stream",
          "name": "stdout",
          "text": [
            "Found 161332 validated image filenames.\n",
            "Found 53196 validated image filenames.\n",
            "Found 53332 validated image filenames.\n"
          ]
        }
      ]
    },
    {
      "cell_type": "markdown",
      "source": [
        "### **Define and train the model**"
      ],
      "metadata": {
        "id": "4NHnpI_vesrH"
      }
    },
    {
      "cell_type": "markdown",
      "source": [
        "##### Network architecture"
      ],
      "metadata": {
        "id": "ATY5cvloe4AO"
      }
    },
    {
      "cell_type": "code",
      "source": [
        "from tensorflow.keras.models import Sequential\n",
        "from tensorflow.keras.layers import Conv2D, GlobalMaxPooling2D, Dense, Dropout, Flatten, Concatenate, Input\n",
        "from tensorflow.keras.models import Model\n",
        "import tensorflow as tf\n",
        "\n",
        "def global_min_pooling(inputs):\n",
        "    neg_inputs = -inputs\n",
        "    min_pool = GlobalMaxPooling2D()(neg_inputs)\n",
        "    return -min_pool\n",
        "\n",
        "def build_model():\n",
        "    inputs = Input(shape=(32, 32, 3))\n",
        "    conv_layer = Conv2D(50, (7, 7), activation='relu')(inputs)  # linear  in the paper\n",
        "    max_pool = GlobalMaxPooling2D()(conv_layer)\n",
        "    min_pool = global_min_pooling(conv_layer)\n",
        "    concatenated = Concatenate()([max_pool, min_pool])\n",
        "\n",
        "    dense_1 = Dense(800, activation='relu')(concatenated)\n",
        "    dense_2 = Dense(800, activation='relu')(dense_1)\n",
        "    dropout = Dropout(0.5)(dense_2)  # Add dropout to prevent overfitting\n",
        "    outputs = Dense(1, activation='linear')(dropout)  # Output layer for the quality score\n",
        "\n",
        "    model = Model(inputs, outputs)\n",
        "    return model\n",
        "\n",
        "model = build_model()\n",
        "model.compile(optimizer='adam', loss='mean_absolute_error')  # mean_absolute_error as both loss and metric\n",
        "model.summary()\n"
      ],
      "metadata": {
        "id": "f0NZk2e61XQ4",
        "colab": {
          "base_uri": "https://localhost:8080/"
        },
        "outputId": "c8c3cf5d-bdaa-4ddb-b8e2-f586e6ec8d5c"
      },
      "execution_count": 20,
      "outputs": [
        {
          "output_type": "stream",
          "name": "stdout",
          "text": [
            "Model: \"model_1\"\n",
            "__________________________________________________________________________________________________\n",
            " Layer (type)                Output Shape                 Param #   Connected to                  \n",
            "==================================================================================================\n",
            " input_2 (InputLayer)        [(None, 32, 32, 3)]          0         []                            \n",
            "                                                                                                  \n",
            " conv2d_1 (Conv2D)           (None, 26, 26, 50)           7400      ['input_2[0][0]']             \n",
            "                                                                                                  \n",
            " tf.math.negative_2 (TFOpLa  (None, 26, 26, 50)           0         ['conv2d_1[0][0]']            \n",
            " mbda)                                                                                            \n",
            "                                                                                                  \n",
            " global_max_pooling2d_3 (Gl  (None, 50)                   0         ['tf.math.negative_2[0][0]']  \n",
            " obalMaxPooling2D)                                                                                \n",
            "                                                                                                  \n",
            " global_max_pooling2d_2 (Gl  (None, 50)                   0         ['conv2d_1[0][0]']            \n",
            " obalMaxPooling2D)                                                                                \n",
            "                                                                                                  \n",
            " tf.math.negative_3 (TFOpLa  (None, 50)                   0         ['global_max_pooling2d_3[0][0]\n",
            " mbda)                                                              ']                            \n",
            "                                                                                                  \n",
            " concatenate_1 (Concatenate  (None, 100)                  0         ['global_max_pooling2d_2[0][0]\n",
            " )                                                                  ',                            \n",
            "                                                                     'tf.math.negative_3[0][0]']  \n",
            "                                                                                                  \n",
            " dense_3 (Dense)             (None, 800)                  80800     ['concatenate_1[0][0]']       \n",
            "                                                                                                  \n",
            " dense_4 (Dense)             (None, 800)                  640800    ['dense_3[0][0]']             \n",
            "                                                                                                  \n",
            " dropout_1 (Dropout)         (None, 800)                  0         ['dense_4[0][0]']             \n",
            "                                                                                                  \n",
            " dense_5 (Dense)             (None, 1)                    801       ['dropout_1[0][0]']           \n",
            "                                                                                                  \n",
            "==================================================================================================\n",
            "Total params: 729801 (2.78 MB)\n",
            "Trainable params: 729801 (2.78 MB)\n",
            "Non-trainable params: 0 (0.00 Byte)\n",
            "__________________________________________________________________________________________________\n"
          ]
        }
      ]
    },
    {
      "cell_type": "markdown",
      "source": [
        "#### Training"
      ],
      "metadata": {
        "id": "QXKdDuPye9nT"
      }
    },
    {
      "cell_type": "code",
      "source": [
        "history = model.fit(train_generator, epochs=40, validation_data=val_generator)"
      ],
      "metadata": {
        "colab": {
          "base_uri": "https://localhost:8080/"
        },
        "id": "4_lntSvq1czn",
        "outputId": "11b2f796-0d28-46b6-8bf4-c0f9dec79ad8"
      },
      "execution_count": 21,
      "outputs": [
        {
          "output_type": "stream",
          "name": "stdout",
          "text": [
            "Epoch 1/40\n",
            "5042/5042 [==============================] - 86s 17ms/step - loss: 13.4418 - val_loss: 12.9859\n",
            "Epoch 2/40\n",
            "5042/5042 [==============================] - 84s 17ms/step - loss: 11.3849 - val_loss: 12.4288\n",
            "Epoch 3/40\n",
            "5042/5042 [==============================] - 87s 17ms/step - loss: 10.9651 - val_loss: 12.0063\n",
            "Epoch 4/40\n",
            "5042/5042 [==============================] - 84s 17ms/step - loss: 10.7443 - val_loss: 11.8343\n",
            "Epoch 5/40\n",
            "5042/5042 [==============================] - 85s 17ms/step - loss: 10.5692 - val_loss: 12.0521\n",
            "Epoch 6/40\n",
            "5042/5042 [==============================] - 84s 17ms/step - loss: 10.4047 - val_loss: 11.4449\n",
            "Epoch 7/40\n",
            "5042/5042 [==============================] - 84s 17ms/step - loss: 10.2907 - val_loss: 11.5346\n",
            "Epoch 8/40\n",
            "5042/5042 [==============================] - 85s 17ms/step - loss: 10.1891 - val_loss: 11.9422\n",
            "Epoch 9/40\n",
            "5042/5042 [==============================] - 84s 17ms/step - loss: 10.1325 - val_loss: 11.4789\n",
            "Epoch 10/40\n",
            "5042/5042 [==============================] - 85s 17ms/step - loss: 10.0349 - val_loss: 11.4647\n",
            "Epoch 11/40\n",
            "5042/5042 [==============================] - 85s 17ms/step - loss: 9.9840 - val_loss: 11.4425\n",
            "Epoch 12/40\n",
            "5042/5042 [==============================] - 85s 17ms/step - loss: 9.9371 - val_loss: 11.2908\n",
            "Epoch 13/40\n",
            "5042/5042 [==============================] - 83s 17ms/step - loss: 9.8955 - val_loss: 11.7783\n",
            "Epoch 14/40\n",
            "5042/5042 [==============================] - 85s 17ms/step - loss: 9.8446 - val_loss: 11.4759\n",
            "Epoch 15/40\n",
            "5042/5042 [==============================] - 86s 17ms/step - loss: 9.8161 - val_loss: 11.5201\n",
            "Epoch 16/40\n",
            "5042/5042 [==============================] - 85s 17ms/step - loss: 9.7795 - val_loss: 11.6475\n",
            "Epoch 17/40\n",
            "5042/5042 [==============================] - 85s 17ms/step - loss: 9.7412 - val_loss: 11.3240\n",
            "Epoch 18/40\n",
            "5042/5042 [==============================] - 85s 17ms/step - loss: 9.7449 - val_loss: 11.4326\n",
            "Epoch 19/40\n",
            "5042/5042 [==============================] - 86s 17ms/step - loss: 9.6766 - val_loss: 11.1226\n",
            "Epoch 20/40\n",
            "5042/5042 [==============================] - 85s 17ms/step - loss: 9.6505 - val_loss: 11.2749\n",
            "Epoch 21/40\n",
            "5042/5042 [==============================] - 86s 17ms/step - loss: 9.6473 - val_loss: 11.2288\n",
            "Epoch 22/40\n",
            "5042/5042 [==============================] - 85s 17ms/step - loss: 9.6100 - val_loss: 11.3735\n",
            "Epoch 23/40\n",
            "5042/5042 [==============================] - 84s 17ms/step - loss: 9.5740 - val_loss: 11.3400\n",
            "Epoch 24/40\n",
            "5042/5042 [==============================] - 84s 17ms/step - loss: 9.5696 - val_loss: 11.5360\n",
            "Epoch 25/40\n",
            "5042/5042 [==============================] - 84s 17ms/step - loss: 9.5217 - val_loss: 11.2279\n",
            "Epoch 26/40\n",
            "5042/5042 [==============================] - 85s 17ms/step - loss: 9.5020 - val_loss: 11.1688\n",
            "Epoch 27/40\n",
            "5042/5042 [==============================] - 85s 17ms/step - loss: 9.4899 - val_loss: 11.1113\n",
            "Epoch 28/40\n",
            "5042/5042 [==============================] - 84s 17ms/step - loss: 9.4863 - val_loss: 11.1145\n",
            "Epoch 29/40\n",
            "5042/5042 [==============================] - 84s 17ms/step - loss: 9.4431 - val_loss: 11.1986\n",
            "Epoch 30/40\n",
            "5042/5042 [==============================] - 83s 16ms/step - loss: 9.4391 - val_loss: 11.2000\n",
            "Epoch 31/40\n",
            "5042/5042 [==============================] - 83s 17ms/step - loss: 9.4282 - val_loss: 11.0607\n",
            "Epoch 32/40\n",
            "5042/5042 [==============================] - 84s 17ms/step - loss: 9.4096 - val_loss: 10.9638\n",
            "Epoch 33/40\n",
            "5042/5042 [==============================] - 85s 17ms/step - loss: 9.3981 - val_loss: 11.1552\n",
            "Epoch 34/40\n",
            "5042/5042 [==============================] - 85s 17ms/step - loss: 9.3750 - val_loss: 11.2738\n",
            "Epoch 35/40\n",
            "5042/5042 [==============================] - 85s 17ms/step - loss: 9.3368 - val_loss: 11.0819\n",
            "Epoch 36/40\n",
            "5042/5042 [==============================] - 85s 17ms/step - loss: 9.3242 - val_loss: 11.0224\n",
            "Epoch 37/40\n",
            "5042/5042 [==============================] - 85s 17ms/step - loss: 9.3152 - val_loss: 11.0574\n",
            "Epoch 38/40\n",
            "5042/5042 [==============================] - 85s 17ms/step - loss: 9.3207 - val_loss: 11.4776\n",
            "Epoch 39/40\n",
            "5042/5042 [==============================] - 85s 17ms/step - loss: 9.2869 - val_loss: 10.9829\n",
            "Epoch 40/40\n",
            "5042/5042 [==============================] - 85s 17ms/step - loss: 9.2795 - val_loss: 11.2989\n"
          ]
        }
      ]
    },
    {
      "cell_type": "markdown",
      "source": [
        "### **Summarize predictions**"
      ],
      "metadata": {
        "id": "ISiuLItZgSne"
      }
    },
    {
      "cell_type": "markdown",
      "source": [
        "##### Predict DMOS/MOS score"
      ],
      "metadata": {
        "id": "tS2I_1XcghBI"
      }
    },
    {
      "cell_type": "code",
      "source": [
        "test_predictions = model.predict(test_generator)\n",
        "patch_info = test_generator.filenames # get list of test patches\n",
        "image_scores = {}\n",
        "for i, patch_path in enumerate(patch_info):\n",
        "    # Extract the base image name by removing the patch-specific part\n",
        "    base_image_name = \"_\".join(patch_path.split('_')[0:-2]) + '.bmp'\n",
        "    if base_image_name not in image_scores:\n",
        "        image_scores[base_image_name] = []\n",
        "    image_scores[base_image_name].append(test_predictions[i])\n",
        "\n",
        "average_scores = {image: np.mean(scores) for image, scores in image_scores.items()}\n",
        "average_scores_df = pd.DataFrame(list(average_scores.items()), columns=['Image', f'Predicted_{score_measure}'])\n",
        "print(\"Summary of test predictions:\")\n",
        "print(average_scores_df.describe())\n",
        "\n",
        "if cross == True:\n",
        "  db_dir = tid2013_dir\n",
        "test_images_score = pd.read_csv(f'{db_dir}/normalized_distorted_images/test/norm_test.csv')\n",
        "test_images_score.rename(columns={'image_filename':'Image', score_measure:score_measure, 'Distortion':'Distortion'}, inplace=True)\n",
        "\n",
        "# Force all extensions to be '.bmp' (there are inconsitencies between mos_with_names.txt and actual filename: '.bmp' vs '.BMP')\n",
        "test_images_score['Image'] = test_images_score['Image'].apply(lambda x: x.lower())\n",
        "average_scores_df['Image'] = average_scores_df['Image'].apply(lambda x: x.lower())\n",
        "\n",
        "# Merge dataframes to match predicted mos with ground-truth score\n",
        "merged_df = average_scores_df.merge(test_images_score, on=\"Image\", how=\"inner\")\n",
        "merged_df.rename(columns={f'Predicted_{score_measure}_x': f'Predicted_{score_measure}', f'Predicted_{score_measure}_y': {score_measure}}, inplace=True)\n",
        "merged_df['Image'] = merged_df['Image'].str.replace('norm_', '')\n",
        "print(merged_df)"
      ],
      "metadata": {
        "colab": {
          "base_uri": "https://localhost:8080/"
        },
        "id": "WALGk_xS0em6",
        "outputId": "459720f9-9147-4da0-92ef-61d3ad472413"
      },
      "execution_count": 22,
      "outputs": [
        {
          "output_type": "stream",
          "name": "stdout",
          "text": [
            "1667/1667 [==============================] - 20s 12ms/step\n",
            "Summary of test predictions:\n",
            "       Predicted_DMOS\n",
            "count      156.000000\n",
            "mean        46.627430\n",
            "std         23.016466\n",
            "min         12.827695\n",
            "25%         26.019835\n",
            "50%         44.887285\n",
            "75%         63.459517\n",
            "max         95.834534\n",
            "                        Image  Predicted_DMOS       DMOS  Distortion\n",
            "0         lighthouse2_4_5.bmp       19.899115  24.912864       gblur\n",
            "1               plane_5_1.bmp       45.866974  49.804950  fastfading\n",
            "2               house_3_2.bmp       17.585752  20.527485          wn\n",
            "3             cemetry_2_4.bmp       17.782524  24.492693        jpeg\n",
            "4             cemetry_1_1.bmp       61.704762  73.091742        jp2k\n",
            "..                        ...             ...        ...         ...\n",
            "151          sailing2_3_2.bmp       18.048550  21.610529          wn\n",
            "152           parrots_4_1.bmp       32.766220  23.747801       gblur\n",
            "153             house_3_1.bmp       60.350983  66.531650          wn\n",
            "154          womanhat_3_2.bmp       18.245708  23.038582          wn\n",
            "155  studentsculpture_5_1.bmp       71.401062  84.353989  fastfading\n",
            "\n",
            "[156 rows x 4 columns]\n"
          ]
        }
      ]
    },
    {
      "cell_type": "markdown",
      "source": [
        "##### Calculate correlations"
      ],
      "metadata": {
        "id": "nPruT9IPiTug"
      }
    },
    {
      "cell_type": "code",
      "source": [
        "from scipy.stats import spearmanr, pearsonr\n",
        "# Drop NaN or inf values if present\n",
        "cleaned_df = merged_df.dropna()\n",
        "cleaned_df = cleaned_df[np.isfinite(cleaned_df[score_measure]) & np.isfinite(cleaned_df[f'Predicted_{score_measure}'])]\n",
        "\n",
        "# Calculate LCC and SROCC\n",
        "lcc = pearsonr(cleaned_df[f'Predicted_{score_measure}'], cleaned_df[score_measure])[0]\n",
        "srocc = spearmanr(cleaned_df[f'Predicted_{score_measure}'], cleaned_df[score_measure])[0]\n",
        "\n",
        "print('All:')\n",
        "print(f\"  LCC (Linear Correlation Coefficient): {lcc}\")\n",
        "print(f\"  SROCC (Spearman Rank Order Correlation Coefficient): {srocc}\")\n",
        "\n",
        "# Calculate LCC and SROCC for each distortion\n",
        "grouped = cleaned_df.groupby('Distortion')\n",
        "\n",
        "for name, group in grouped:\n",
        "    group_lcc = pearsonr(group[f'Predicted_{score_measure}'], group[score_measure])[0]\n",
        "    group_srocc = spearmanr(group[f'Predicted_{score_measure}'], group[score_measure])[0]\n",
        "    print(f\"Distortion: {name}\")\n",
        "    print(f\"  LCC: {group_lcc}\")\n",
        "    print(f\"  SROCC: {group_srocc}\")"
      ],
      "metadata": {
        "colab": {
          "base_uri": "https://localhost:8080/"
        },
        "id": "S8BCLrn3Mdqe",
        "outputId": "adbbbad0-3b4c-4a67-f889-e4010a0f7157"
      },
      "execution_count": 23,
      "outputs": [
        {
          "output_type": "stream",
          "name": "stdout",
          "text": [
            "All:\n",
            "  LCC (Linear Correlation Coefficient): 0.9437340224914632\n",
            "  SROCC (Spearman Rank Order Correlation Coefficient): 0.9430820937573821\n",
            "Distortion: fastfading\n",
            "  LCC: 0.8966338078093018\n",
            "  SROCC: 0.9123470522803115\n",
            "Distortion: gblur\n",
            "  LCC: 0.9391577538224805\n",
            "  SROCC: 0.95615763546798\n",
            "Distortion: jp2k\n",
            "  LCC: 0.925333683199369\n",
            "  SROCC: 0.9497800586510262\n",
            "Distortion: jpeg\n",
            "  LCC: 0.9785993670478417\n",
            "  SROCC: 0.9467633864492522\n",
            "Distortion: wn\n",
            "  LCC: 0.9879565513275849\n",
            "  SROCC: 0.9876718824087244\n"
          ]
        }
      ]
    },
    {
      "cell_type": "markdown",
      "source": [
        "##### Visualize correletions and training"
      ],
      "metadata": {
        "id": "pXy-sFwPiY0C"
      }
    },
    {
      "cell_type": "code",
      "source": [
        "# Scatter plot with regression line\n",
        "plt.figure(figsize=(8, 6))\n",
        "sns.scatterplot(x=score_measure, y=f'Predicted_{score_measure}', data=merged_df, hue='Distortion', palette='tab10', s=20)\n",
        "sns.regplot(x=score_measure, y=f'Predicted_{score_measure}', data=merged_df, scatter=False, line_kws={'color': 'black'})\n",
        "plt.xlabel(f'True {score_measure}')\n",
        "plt.ylabel(f'Predicted {score_measure}')\n",
        "plt.title(f'Scatter Plot of True {score_measure} vs Predicted {score_measure}')\n",
        "plt.grid(True)\n",
        "plt.show()\n",
        "\n",
        "y_pred = test_predictions\n",
        "y_true = test_generator.labels\n",
        "# Training progress (loss minimization)\n",
        "plt.figure(figsize=(10, 5))\n",
        "plt.plot(history.history['loss'], label='Loss')\n",
        "plt.plot(history.history['val_loss'], label='Validation Loss')\n",
        "plt.xlabel('Epochs')\n",
        "plt.ylabel('Loss')\n",
        "plt.legend()\n",
        "plt.title('Model Loss')\n",
        "plt.show()"
      ],
      "metadata": {
        "colab": {
          "base_uri": "https://localhost:8080/",
          "height": 1000
        },
        "id": "QnSB-ylXSE-d",
        "outputId": "6936ffe9-b7b4-4a3c-d0d3-fa69500f7ebd"
      },
      "execution_count": 24,
      "outputs": [
        {
          "output_type": "display_data",
          "data": {
            "text/plain": [
              "<Figure size 800x600 with 1 Axes>"
            ],
            "image/png": "[encoded data removed]"
          },
          "metadata": {}
        },
        {
          "output_type": "display_data",
          "data": {
            "text/plain": [
              "<Figure size 1000x500 with 1 Axes>"
            ],
            "image/png": "[encoded data removed]"
          },
          "metadata": {}
        }
      ]
    }
  ]
}